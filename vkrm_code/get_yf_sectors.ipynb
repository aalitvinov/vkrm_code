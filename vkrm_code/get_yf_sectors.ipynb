{
 "cells": [
  {
   "cell_type": "code",
   "execution_count": 14,
   "metadata": {},
   "outputs": [],
   "source": [
    "import yfinance as yf\n",
    "import pandas as pd\n",
    "from tqdm import tqdm\n",
    "import json\n",
    "import os\n"
   ]
  },
  {
   "cell_type": "code",
   "execution_count": 10,
   "metadata": {},
   "outputs": [],
   "source": [
    "with open(\"./data/new_tickers_2139.json\") as jsf:\n",
    "    new_tickers = json.load(jsf)\n"
   ]
  },
  {
   "cell_type": "code",
   "execution_count": 11,
   "metadata": {},
   "outputs": [
    {
     "name": "stderr",
     "output_type": "stream",
     "text": [
      "100%|██████████| 2146/2146 [16:18<00:00,  2.19it/s] \n"
     ]
    }
   ],
   "source": [
    "# ticker_pool = yf.Tickers(new_tickers)\n",
    "\n",
    "# for key, yfticker in tqdm(ticker_pool.tickers.items()):\n",
    "#     with open(f\"./data/yf/ticker_info/{key}.json\", \"w\") as jsf:\n",
    "#         json.dump(yfticker.get_info(), jsf)\n"
   ]
  },
  {
   "cell_type": "code",
   "execution_count": 35,
   "metadata": {},
   "outputs": [
    {
     "name": "stderr",
     "output_type": "stream",
     "text": [
      "100%|██████████| 2146/2146 [00:00<00:00, 3660.69it/s]\n"
     ]
    }
   ],
   "source": [
    "# parse jsons into dataframe\n",
    "\n",
    "company_info_dict = dict()\n",
    "TICKER_INFO_PATH = \"./data/yf/ticker_info/\"\n",
    "for ticker_json in tqdm(os.listdir(TICKER_INFO_PATH)):\n",
    "    with open(f\"{TICKER_INFO_PATH}/{ticker_json}\") as jsf:\n",
    "        single_company_info = json.load(jsf)\n",
    "        company_info_dict[ticker_json.rstrip(\".json\")] = (\n",
    "            single_company_info.get(\"industry\", None),\n",
    "            single_company_info.get(\"sector\", None),\n",
    "        )"
   ]
  },
  {
   "cell_type": "code",
   "execution_count": 38,
   "metadata": {},
   "outputs": [
    {
     "name": "stdout",
     "output_type": "stream",
     "text": [
      "<class 'pandas.core.frame.DataFrame'>\n",
      "Index: 2146 entries, A to SEKEY\n",
      "Data columns (total 2 columns):\n",
      " #   Column    Non-Null Count  Dtype \n",
      "---  ------    --------------  ----- \n",
      " 0   industry  2135 non-null   object\n",
      " 1   sector    2135 non-null   object\n",
      "dtypes: object(2)\n",
      "memory usage: 50.3+ KB\n"
     ]
    }
   ],
   "source": [
    "company_info = pd.DataFrame.from_dict(company_info_dict, orient=\"index\", columns=[\"industry\", \"sector\"])\n",
    "company_info.index.name = \"ticker\"\n",
    "company_info.info()"
   ]
  },
  {
   "cell_type": "code",
   "execution_count": 40,
   "metadata": {},
   "outputs": [
    {
     "data": {
      "text/html": [
       "<div>\n",
       "<style scoped>\n",
       "    .dataframe tbody tr th:only-of-type {\n",
       "        vertical-align: middle;\n",
       "    }\n",
       "\n",
       "    .dataframe tbody tr th {\n",
       "        vertical-align: top;\n",
       "    }\n",
       "\n",
       "    .dataframe thead th {\n",
       "        text-align: right;\n",
       "    }\n",
       "</style>\n",
       "<table border=\"1\" class=\"dataframe\">\n",
       "  <thead>\n",
       "    <tr style=\"text-align: right;\">\n",
       "      <th></th>\n",
       "      <th>industry</th>\n",
       "      <th>sector</th>\n",
       "    </tr>\n",
       "    <tr>\n",
       "      <th>ticker</th>\n",
       "      <th></th>\n",
       "      <th></th>\n",
       "    </tr>\n",
       "  </thead>\n",
       "  <tbody>\n",
       "    <tr>\n",
       "      <th>A</th>\n",
       "      <td>Diagnostics &amp; Research</td>\n",
       "      <td>Healthcare</td>\n",
       "    </tr>\n",
       "    <tr>\n",
       "      <th>AACAF</th>\n",
       "      <td>Communication Equipment</td>\n",
       "      <td>Technology</td>\n",
       "    </tr>\n",
       "    <tr>\n",
       "      <th>AACAY</th>\n",
       "      <td>Communication Equipment</td>\n",
       "      <td>Technology</td>\n",
       "    </tr>\n",
       "  </tbody>\n",
       "</table>\n",
       "</div>"
      ],
      "text/plain": [
       "                       industry      sector\n",
       "ticker                                     \n",
       "A        Diagnostics & Research  Healthcare\n",
       "AACAF   Communication Equipment  Technology\n",
       "AACAY   Communication Equipment  Technology"
      ]
     },
     "execution_count": 40,
     "metadata": {},
     "output_type": "execute_result"
    }
   ],
   "source": [
    "company_info.head(3)"
   ]
  },
  {
   "cell_type": "code",
   "execution_count": 43,
   "metadata": {},
   "outputs": [],
   "source": [
    "company_info.dropna().to_csv(\"./data/yf/company_info.csv\")"
   ]
  },
  {
   "cell_type": "code",
   "execution_count": 47,
   "metadata": {},
   "outputs": [
    {
     "data": {
      "text/plain": [
       "ticker\n",
       "A        2\n",
       "AACAF    2\n",
       "AACAY    2\n",
       "AAL      2\n",
       "AAON     2\n",
       "        ..\n",
       "SECVY    2\n",
       "SEE      2\n",
       "SEGXF    2\n",
       "SEIC     2\n",
       "SEKEY    2\n",
       "Length: 2146, dtype: int64"
      ]
     },
     "execution_count": 47,
     "metadata": {},
     "output_type": "execute_result"
    }
   ],
   "source": [
    "company_info"
   ]
  }
 ],
 "metadata": {
  "kernelspec": {
   "display_name": ".venv",
   "language": "python",
   "name": "python3"
  },
  "language_info": {
   "codemirror_mode": {
    "name": "ipython",
    "version": 3
   },
   "file_extension": ".py",
   "mimetype": "text/x-python",
   "name": "python",
   "nbconvert_exporter": "python",
   "pygments_lexer": "ipython3",
   "version": "3.11.3"
  },
  "orig_nbformat": 4
 },
 "nbformat": 4,
 "nbformat_minor": 2
}
