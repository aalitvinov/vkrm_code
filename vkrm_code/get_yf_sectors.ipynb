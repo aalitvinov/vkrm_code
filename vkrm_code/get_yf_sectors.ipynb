{
 "cells": [
  {
   "cell_type": "code",
   "execution_count": 9,
   "metadata": {},
   "outputs": [],
   "source": [
    "import yfinance as yf\n",
    "from tqdm import tqdm\n",
    "import json\n"
   ]
  },
  {
   "cell_type": "code",
   "execution_count": 10,
   "metadata": {},
   "outputs": [],
   "source": [
    "with open(\"./data/yf/new_tickers_2146.json\") as jsf:\n",
    "    new_tickers_2146 = json.load(jsf)\n"
   ]
  },
  {
   "cell_type": "code",
   "execution_count": 11,
   "metadata": {},
   "outputs": [
    {
     "name": "stderr",
     "output_type": "stream",
     "text": [
      "100%|██████████| 2146/2146 [16:18<00:00,  2.19it/s] \n"
     ]
    }
   ],
   "source": [
    "ticker_pool = yf.Tickers(new_tickers_2146)\n",
    "\n",
    "for key, yfticker in tqdm(ticker_pool.tickers.items()):\n",
    "    with open(f\"./data/yf/ticker_info/{key}.json\", \"w\") as jsf:\n",
    "        json.dump(yfticker.get_info(), jsf)\n"
   ]
  }
 ],
 "metadata": {
  "kernelspec": {
   "display_name": ".venv",
   "language": "python",
   "name": "python3"
  },
  "language_info": {
   "codemirror_mode": {
    "name": "ipython",
    "version": 3
   },
   "file_extension": ".py",
   "mimetype": "text/x-python",
   "name": "python",
   "nbconvert_exporter": "python",
   "pygments_lexer": "ipython3",
   "version": "3.11.3"
  },
  "orig_nbformat": 4
 },
 "nbformat": 4,
 "nbformat_minor": 2
}
