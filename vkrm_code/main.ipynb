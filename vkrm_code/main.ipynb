{
 "cells": [
  {
   "cell_type": "code",
   "execution_count": 2,
   "metadata": {},
   "outputs": [],
   "source": [
    "import numpy as np\n",
    "import pandas as pd\n",
    "import seaborn as sns\n",
    "import json\n"
   ]
  },
  {
   "cell_type": "code",
   "execution_count": 3,
   "metadata": {},
   "outputs": [],
   "source": [
    "DATA_PATH = \"./data/aligned_data/\""
   ]
  },
  {
   "cell_type": "code",
   "execution_count": 4,
   "metadata": {},
   "outputs": [],
   "source": [
    "with open(\"./data/new_aligned_tickers_2128.json\") as jsf:\n",
    "    new_tickers = json.load(jsf)"
   ]
  },
  {
   "cell_type": "code",
   "execution_count": 8,
   "metadata": {},
   "outputs": [],
   "source": [
    "prices = pd.read_csv(f\"{DATA_PATH}/prices.csv\", parse_dates=True, index_col=0)\n",
    "returns = pd.read_csv(f\"{DATA_PATH}/returns.csv\", parse_dates=True, index_col=0)\n",
    "volume = pd.read_csv(f\"{DATA_PATH}/volume.csv\", parse_dates=True, index_col=0)\n",
    "ychopmdf = pd.read_csv(f\"{DATA_PATH}/ychopmdf.csv\", parse_dates=True, index_col=0)\n",
    "asset_turnover = pd.read_csv(f\"{DATA_PATH}/asset_turnover.csv\", parse_dates=True, index_col=0)"
   ]
  }
 ],
 "metadata": {
  "kernelspec": {
   "display_name": ".venv",
   "language": "python",
   "name": "python3"
  },
  "language_info": {
   "codemirror_mode": {
    "name": "ipython",
    "version": 3
   },
   "file_extension": ".py",
   "mimetype": "text/x-python",
   "name": "python",
   "nbconvert_exporter": "python",
   "pygments_lexer": "ipython3",
   "version": "3.11.3"
  },
  "orig_nbformat": 4
 },
 "nbformat": 4,
 "nbformat_minor": 2
}
