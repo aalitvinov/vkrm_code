{
 "cells": [
  {
   "attachments": {},
   "cell_type": "markdown",
   "metadata": {},
   "source": [
    "# Plan\n",
    "\n",
    "1. We can narrow down the list of companies by filtering out those with many missing values in the ycharts operating margin dataset.\n",
    "1. Next, we can use the yfinance python library to check which of the remaining companies have stock prices available in the yfinance dataset.\n",
    "1. Finally, we can use ycharts to obtain the turnover for the companies that passed both filters.\n"
   ]
  },
  {
   "cell_type": "code",
   "execution_count": null,
   "metadata": {},
   "outputs": [],
   "source": [
    "import pandas as pd\n",
    "import matplotlib.pyplot as plt"
   ]
  },
  {
   "cell_type": "code",
   "execution_count": null,
   "metadata": {},
   "outputs": [],
   "source": [
    "ychopmdf = pd.read_csv(\"data/ycharts_opm/ycharts_opm_filtered_for_use.csv\")"
   ]
  }
 ],
 "metadata": {
  "language_info": {
   "name": "python"
  },
  "orig_nbformat": 4
 },
 "nbformat": 4,
 "nbformat_minor": 2
}
