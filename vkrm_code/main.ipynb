{
 "cells": [
  {
   "attachments": {},
   "cell_type": "markdown",
   "metadata": {},
   "source": [
    "# Plan\n",
    "\n",
    "1. We can narrow down the list of companies by filtering out those with many missing values in the ycharts operating margin dataset.\n",
    "1. Next, we can use the yfinance python library to check which of the remaining companies have stock prices available in the yfinance dataset.\n",
    "1. Finally, we can use ycharts to obtain the turnover for the companies that passed both filters.\n"
   ]
  },
  {
   "cell_type": "code",
   "execution_count": 1,
   "metadata": {},
   "outputs": [],
   "source": [
    "import numpy as np\n",
    "import pandas as pd\n",
    "import matplotlib.pyplot as plt\n",
    "import seaborn as sns\n",
    "from datetime import datetime\n",
    "import yfinance as yf"
   ]
  },
  {
   "cell_type": "code",
   "execution_count": 2,
   "metadata": {},
   "outputs": [],
   "source": [
    "import json\n",
    "\n",
    "with open(\"./data/ych_filtered_tickers.json\") as jsf:\n",
    "    ych_filtered_tickers = json.load(jsf)\n",
    "\n",
    "ychopmdf = (\n",
    "    pd.read_csv(\n",
    "        \"data/ycharts_opm/ycharts_opm_filtered_for_use.csv\",\n",
    "        parse_dates=True,\n",
    "        index_col=0,\n",
    "    )\n",
    "    .sort_index(axis=1)\n",
    "    .sort_index(axis=0)\n",
    "    .drop(\"2009-04-01\")\n",
    ")"
   ]
  },
  {
   "cell_type": "code",
   "execution_count": 163,
   "metadata": {},
   "outputs": [
    {
     "data": {
      "text/plain": [
       "['A', 'AACAF', 'AACAY', 'AAGRY', 'AAHIF']"
      ]
     },
     "execution_count": 163,
     "metadata": {},
     "output_type": "execute_result"
    }
   ],
   "source": [
    "ych_filtered_tickers[:5]"
   ]
  },
  {
   "cell_type": "code",
   "execution_count": 164,
   "metadata": {},
   "outputs": [
    {
     "name": "stdout",
     "output_type": "stream",
     "text": [
      "<class 'pandas.core.frame.DataFrame'>\n",
      "DatetimeIndex: 13 entries, 2010-04-01 to 2022-04-01\n",
      "Columns: 4179 entries, A to SEKEY\n",
      "dtypes: float64(4179)\n",
      "memory usage: 424.5 KB\n"
     ]
    }
   ],
   "source": [
    "ychopmdf.info()"
   ]
  },
  {
   "cell_type": "code",
   "execution_count": 165,
   "metadata": {},
   "outputs": [],
   "source": [
    "# Input Start and End Date\n",
    "start = datetime(2010, 1, 1)\n",
    "end = datetime(2022, 5, 1)\n"
   ]
  },
  {
   "cell_type": "code",
   "execution_count": 4,
   "metadata": {},
   "outputs": [],
   "source": [
    "CACHE_PATH = \"./data/yf/stocks3m_yf.csv.xz\"\n"
   ]
  },
  {
   "cell_type": "code",
   "execution_count": 167,
   "metadata": {},
   "outputs": [],
   "source": [
    "# stocks_yf = (\n",
    "#     yf.download(\n",
    "#         tickers=ych_filtered_tickers,\n",
    "#         interval=\"3mo\",\n",
    "#         start=start,\n",
    "#         end=end,\n",
    "#         progress=False,\n",
    "#         show_errors=False,\n",
    "#     )\n",
    "#     .loc[:, [\"Adj Close\", \"Volume\"]]\n",
    "#     .rename({\"Adj Close\": \"adj_close\", \"Volume\": \"volume\"}, axis=1)\n",
    "#     .sort_index()\n",
    "#     .query(\"index.dt.month == 4\")\n",
    "# )\n",
    "\n",
    "# tdf.to_csv(path_or_buf=CACHE_PATH, compression=\"xz\", index=True)\n"
   ]
  },
  {
   "cell_type": "code",
   "execution_count": 5,
   "metadata": {},
   "outputs": [],
   "source": [
    "stocks_yf = (\n",
    "    pd.read_csv(\n",
    "        filepath_or_buffer=CACHE_PATH,\n",
    "        compression=\"xz\",\n",
    "        header=[0, 1],\n",
    "        index_col=[\n",
    "            0,\n",
    "        ],\n",
    "        parse_dates=True,\n",
    "    )\n",
    "    .sort_index(axis=0)\n",
    "    .sort_index(axis=1)\n",
    "    .drop(\"2009-04-01\")\n",
    ")\n"
   ]
  },
  {
   "cell_type": "code",
   "execution_count": 169,
   "metadata": {},
   "outputs": [
    {
     "name": "stdout",
     "output_type": "stream",
     "text": [
      "<class 'pandas.core.frame.DataFrame'>\n",
      "DatetimeIndex: 13 entries, 2010-04-01 to 2022-04-01\n",
      "Columns: 8358 entries, ('adj_close', 'A') to ('volume', 'SEKEY')\n",
      "dtypes: float64(8358)\n",
      "memory usage: 849.0 KB\n"
     ]
    }
   ],
   "source": [
    "stocks_yf.info()\n"
   ]
  },
  {
   "cell_type": "code",
   "execution_count": 170,
   "metadata": {},
   "outputs": [
    {
     "data": {
      "text/plain": [
       "DatetimeIndex(['2010-04-01', '2011-04-01', '2012-04-01', '2013-04-01',\n",
       "               '2014-04-01', '2015-04-01', '2016-04-01', '2017-04-01',\n",
       "               '2018-04-01', '2019-04-01', '2020-04-01', '2021-04-01',\n",
       "               '2022-04-01'],\n",
       "              dtype='datetime64[ns]', name='Date', freq=None)"
      ]
     },
     "execution_count": 170,
     "metadata": {},
     "output_type": "execute_result"
    }
   ],
   "source": [
    "stocks_yf.index\n"
   ]
  },
  {
   "cell_type": "code",
   "execution_count": 171,
   "metadata": {},
   "outputs": [
    {
     "data": {
      "text/html": [
       "<div>\n",
       "<style scoped>\n",
       "    .dataframe tbody tr th:only-of-type {\n",
       "        vertical-align: middle;\n",
       "    }\n",
       "\n",
       "    .dataframe tbody tr th {\n",
       "        vertical-align: top;\n",
       "    }\n",
       "\n",
       "    .dataframe thead tr th {\n",
       "        text-align: left;\n",
       "    }\n",
       "\n",
       "    .dataframe thead tr:last-of-type th {\n",
       "        text-align: right;\n",
       "    }\n",
       "</style>\n",
       "<table border=\"1\" class=\"dataframe\">\n",
       "  <thead>\n",
       "    <tr>\n",
       "      <th></th>\n",
       "      <th colspan=\"10\" halign=\"left\">adj_close</th>\n",
       "      <th>...</th>\n",
       "      <th colspan=\"10\" halign=\"left\">volume</th>\n",
       "    </tr>\n",
       "    <tr>\n",
       "      <th></th>\n",
       "      <th>A</th>\n",
       "      <th>AACAF</th>\n",
       "      <th>AACAY</th>\n",
       "      <th>AAGRY</th>\n",
       "      <th>AAHIF</th>\n",
       "      <th>AAL</th>\n",
       "      <th>AALBF</th>\n",
       "      <th>AAON</th>\n",
       "      <th>AAP</th>\n",
       "      <th>AAPL</th>\n",
       "      <th>...</th>\n",
       "      <th>SECYF</th>\n",
       "      <th>SEE</th>\n",
       "      <th>SEFJF</th>\n",
       "      <th>SEGXF</th>\n",
       "      <th>SEHLF</th>\n",
       "      <th>SEIC</th>\n",
       "      <th>SEIGF</th>\n",
       "      <th>SEIGY</th>\n",
       "      <th>SEKEF</th>\n",
       "      <th>SEKEY</th>\n",
       "    </tr>\n",
       "    <tr>\n",
       "      <th>Date</th>\n",
       "      <th></th>\n",
       "      <th></th>\n",
       "      <th></th>\n",
       "      <th></th>\n",
       "      <th></th>\n",
       "      <th></th>\n",
       "      <th></th>\n",
       "      <th></th>\n",
       "      <th></th>\n",
       "      <th></th>\n",
       "      <th></th>\n",
       "      <th></th>\n",
       "      <th></th>\n",
       "      <th></th>\n",
       "      <th></th>\n",
       "      <th></th>\n",
       "      <th></th>\n",
       "      <th></th>\n",
       "      <th></th>\n",
       "      <th></th>\n",
       "      <th></th>\n",
       "    </tr>\n",
       "  </thead>\n",
       "  <tbody>\n",
       "    <tr>\n",
       "      <th>2010-04-01</th>\n",
       "      <td>18.561193</td>\n",
       "      <td>0.516898</td>\n",
       "      <td>NaN</td>\n",
       "      <td>NaN</td>\n",
       "      <td>NaN</td>\n",
       "      <td>8.117004</td>\n",
       "      <td>NaN</td>\n",
       "      <td>6.138316</td>\n",
       "      <td>47.825378</td>\n",
       "      <td>7.724693</td>\n",
       "      <td>...</td>\n",
       "      <td>NaN</td>\n",
       "      <td>87188600.0</td>\n",
       "      <td>NaN</td>\n",
       "      <td>0.0</td>\n",
       "      <td>NaN</td>\n",
       "      <td>80496800.0</td>\n",
       "      <td>NaN</td>\n",
       "      <td>NaN</td>\n",
       "      <td>NaN</td>\n",
       "      <td>2621000.0</td>\n",
       "    </tr>\n",
       "    <tr>\n",
       "      <th>2011-04-01</th>\n",
       "      <td>33.368343</td>\n",
       "      <td>1.173043</td>\n",
       "      <td>1.919609</td>\n",
       "      <td>NaN</td>\n",
       "      <td>NaN</td>\n",
       "      <td>8.399828</td>\n",
       "      <td>NaN</td>\n",
       "      <td>8.756047</td>\n",
       "      <td>55.970848</td>\n",
       "      <td>10.308702</td>\n",
       "      <td>...</td>\n",
       "      <td>NaN</td>\n",
       "      <td>108988100.0</td>\n",
       "      <td>NaN</td>\n",
       "      <td>700.0</td>\n",
       "      <td>NaN</td>\n",
       "      <td>51643100.0</td>\n",
       "      <td>NaN</td>\n",
       "      <td>NaN</td>\n",
       "      <td>NaN</td>\n",
       "      <td>2358600.0</td>\n",
       "    </tr>\n",
       "  </tbody>\n",
       "</table>\n",
       "<p>2 rows × 8358 columns</p>\n",
       "</div>"
      ],
      "text/plain": [
       "            adj_close                                                   \n",
       "                    A     AACAF     AACAY AAGRY AAHIF       AAL AALBF   \n",
       "Date                                                                    \n",
       "2010-04-01  18.561193  0.516898       NaN   NaN   NaN  8.117004   NaN  \\\n",
       "2011-04-01  33.368343  1.173043  1.919609   NaN   NaN  8.399828   NaN   \n",
       "\n",
       "                                            ... volume                      \n",
       "                AAON        AAP       AAPL  ...  SECYF          SEE SEFJF   \n",
       "Date                                        ...                             \n",
       "2010-04-01  6.138316  47.825378   7.724693  ...    NaN   87188600.0   NaN  \\\n",
       "2011-04-01  8.756047  55.970848  10.308702  ...    NaN  108988100.0   NaN   \n",
       "\n",
       "                                                                  \n",
       "            SEGXF SEHLF        SEIC SEIGF SEIGY SEKEF      SEKEY  \n",
       "Date                                                              \n",
       "2010-04-01    0.0   NaN  80496800.0   NaN   NaN   NaN  2621000.0  \n",
       "2011-04-01  700.0   NaN  51643100.0   NaN   NaN   NaN  2358600.0  \n",
       "\n",
       "[2 rows x 8358 columns]"
      ]
     },
     "execution_count": 171,
     "metadata": {},
     "output_type": "execute_result"
    }
   ],
   "source": [
    "stocks_yf.head(2)\n"
   ]
  },
  {
   "cell_type": "code",
   "execution_count": 6,
   "metadata": {},
   "outputs": [],
   "source": [
    "prices, volume = stocks_yf.loc[:, \"adj_close\"], stocks_yf.loc[:, \"volume\"]\n"
   ]
  },
  {
   "attachments": {},
   "cell_type": "markdown",
   "metadata": {},
   "source": [
    "Check, whether YF prices and volumes have the same NaNs:\n"
   ]
  },
  {
   "cell_type": "code",
   "execution_count": 7,
   "metadata": {},
   "outputs": [
    {
     "name": "stdout",
     "output_type": "stream",
     "text": [
      "Both dataframes have the same NaN values.\n"
     ]
    }
   ],
   "source": [
    "# check if there is any cell where one dataframe has a NaN\n",
    "# value while the other dataframe has a non-NaN value\n",
    "\n",
    "mask_na = prices.isna() != volume.isna()\n",
    "if mask_na.any().any():  # type: ignore\n",
    "    print(\n",
    "        \"One of the dataframes has a NaN value in some cell where the other dataframe has the nonNaN value in the same cell.\"\n",
    "    )\n",
    "else:\n",
    "    print(\"Both dataframes have the same NaN values.\")\n"
   ]
  },
  {
   "cell_type": "code",
   "execution_count": 64,
   "metadata": {},
   "outputs": [
    {
     "data": {
      "text/plain": [
       "PIFMF    2.631339e+15\n",
       "DENKF    7.194428e+06\n",
       "NTDOF    1.023533e+04\n",
       "JPRRF    7.565915e+03\n",
       "NVR      4.973300e+03\n",
       "SAPMY    4.922488e+03\n",
       "GVDBF    4.717620e+03\n",
       "IRRHF    4.308278e+03\n",
       "JAGGF    4.296065e+03\n",
       "SEB      4.224990e+03\n",
       "dtype: float64"
      ]
     },
     "execution_count": 64,
     "metadata": {},
     "output_type": "execute_result"
    }
   ],
   "source": [
    "prices.max().sort_values(ascending=False)[:10]"
   ]
  },
  {
   "cell_type": "code",
   "execution_count": 74,
   "metadata": {},
   "outputs": [
    {
     "data": {
      "text/plain": [
       "{'address1': 'Plaza America Tower I',\n",
       " 'address2': 'Suite 500 11700 Plaza America Drive',\n",
       " 'city': 'Reston',\n",
       " 'state': 'VA',\n",
       " 'zip': '20190',\n",
       " 'country': 'United States',\n",
       " 'phone': '703 956 4000',\n",
       " 'website': 'https://www.nvrinc.com',\n",
       " 'industry': 'Residential Construction',\n",
       " 'industryDisp': 'Residential Construction',\n",
       " 'sector': 'Consumer Cyclical',\n",
       " 'longBusinessSummary': 'NVR, Inc. operates as a homebuilder in the United States. The company operates through, Homebuilding and Mortgage Banking segments. It engages in the construction and sale of single-family detached homes, townhomes, and condominium buildings under the Ryan Homes, NVHomes, and Heartland Homes names. The company markets its Ryan Homes products to first-time and first-time move-up buyers; and NVHomes and Heartland Homes products to move-up and luxury buyers. It also provides various mortgage related services to its homebuilding customers, as well as brokers title insurance; performs title searches in connection with mortgage loan closings; and sells mortgage loans to investors in the secondary markets on a servicing released basis. The company primarily serves in Maryland, Virginia, West Virginia, Delaware, New Jersey, Eastern Pennsylvania, New York, Ohio, Western Pennsylvania, Indiana, Illinois, North Carolina, South Carolina, Florida, Tennessee, and Washington, D.C. NVR, Inc. was founded in 1980 and is headquartered in Reston, Virginia.',\n",
       " 'fullTimeEmployees': 6550,\n",
       " 'companyOfficers': [{'maxAge': 1,\n",
       "   'name': 'Mr. Paul C. Saville',\n",
       "   'age': 66,\n",
       "   'title': 'Exec. Chairman',\n",
       "   'yearBorn': 1956,\n",
       "   'fiscalYear': 2022,\n",
       "   'totalPay': 3934350,\n",
       "   'exercisedValue': 0,\n",
       "   'unexercisedValue': 264730016},\n",
       "  {'maxAge': 1,\n",
       "   'name': 'Mr. Eugene James Bredow',\n",
       "   'age': 52,\n",
       "   'title': 'Pres & CEO',\n",
       "   'yearBorn': 1970,\n",
       "   'fiscalYear': 2022,\n",
       "   'totalPay': 1299968,\n",
       "   'exercisedValue': 2178026,\n",
       "   'unexercisedValue': 57378632},\n",
       "  {'maxAge': 1,\n",
       "   'name': 'Mr. Daniel David Malzahn',\n",
       "   'age': 52,\n",
       "   'title': 'Sr. VP, CFO & Treasurer',\n",
       "   'yearBorn': 1970,\n",
       "   'fiscalYear': 2022,\n",
       "   'totalPay': 1187100,\n",
       "   'exercisedValue': 46361344,\n",
       "   'unexercisedValue': 109270136},\n",
       "  {'maxAge': 1,\n",
       "   'name': 'Mr. Matthew B. Kelpy',\n",
       "   'age': 49,\n",
       "   'title': 'VP, Chief Accounting Officer & Controller',\n",
       "   'yearBorn': 1973,\n",
       "   'fiscalYear': 2022,\n",
       "   'totalPay': 657450,\n",
       "   'exercisedValue': 0,\n",
       "   'unexercisedValue': 8548961},\n",
       "  {'maxAge': 1,\n",
       "   'name': 'Mr. Curt  McKay',\n",
       "   'title': 'VP of Bus. Planning & Investor Relations',\n",
       "   'exercisedValue': 0,\n",
       "   'unexercisedValue': 0},\n",
       "  {'maxAge': 1,\n",
       "   'name': 'Mr. James M. Sack',\n",
       "   'title': 'Gen. Counsel & Sec.',\n",
       "   'exercisedValue': 0,\n",
       "   'unexercisedValue': 0},\n",
       "  {'maxAge': 1,\n",
       "   'name': 'Mr. Gary  Brown',\n",
       "   'title': 'Sr. VP of HR',\n",
       "   'exercisedValue': 0,\n",
       "   'unexercisedValue': 0}],\n",
       " 'auditRisk': 9,\n",
       " 'boardRisk': 10,\n",
       " 'compensationRisk': 9,\n",
       " 'shareHolderRightsRisk': 6,\n",
       " 'overallRisk': 9,\n",
       " 'governanceEpochDate': 1682899200,\n",
       " 'compensationAsOfEpochDate': 1672444800,\n",
       " 'maxAge': 86400,\n",
       " 'priceHint': 2,\n",
       " 'previousClose': 5875.45,\n",
       " 'open': 5913.0,\n",
       " 'dayLow': 5782.395,\n",
       " 'dayHigh': 5927.21,\n",
       " 'regularMarketPreviousClose': 5875.45,\n",
       " 'regularMarketOpen': 5913.0,\n",
       " 'regularMarketDayLow': 5782.395,\n",
       " 'regularMarketDayHigh': 5927.21,\n",
       " 'payoutRatio': 0.0,\n",
       " 'beta': 0.98874,\n",
       " 'trailingPE': 12.2335615,\n",
       " 'forwardPE': 13.522334,\n",
       " 'volume': 15584,\n",
       " 'regularMarketVolume': 15584,\n",
       " 'averageVolume': 23030,\n",
       " 'averageVolume10days': 20960,\n",
       " 'averageDailyVolume10Day': 20960,\n",
       " 'bid': 5456.3,\n",
       " 'ask': 6361.92,\n",
       " 'bidSize': 1000,\n",
       " 'askSize': 1300,\n",
       " 'marketCap': 18950854656,\n",
       " 'fiftyTwoWeekLow': 3576.01,\n",
       " 'fiftyTwoWeekHigh': 5986.96,\n",
       " 'priceToSalesTrailing12Months': 1.8208418,\n",
       " 'fiftyDayAverage': 5555.667,\n",
       " 'twoHundredDayAverage': 4765.0425,\n",
       " 'trailingAnnualDividendRate': 0.0,\n",
       " 'trailingAnnualDividendYield': 0.0,\n",
       " 'currency': 'USD',\n",
       " 'enterpriseValue': 17319501824,\n",
       " 'profitMargins': 0.15794,\n",
       " 'floatShares': 3218730,\n",
       " 'sharesOutstanding': 3246950,\n",
       " 'sharesShort': 78614,\n",
       " 'sharesShortPriorMonth': 65745,\n",
       " 'sharesShortPreviousMonthDate': 1680220800,\n",
       " 'dateShortInterest': 1682640000,\n",
       " 'sharesPercentSharesOut': 0.0242,\n",
       " 'heldPercentInsiders': 0.04059,\n",
       " 'heldPercentInstitutions': 0.84682,\n",
       " 'shortRatio': 3.41,\n",
       " 'shortPercentOfFloat': 0.028399998,\n",
       " 'impliedSharesOutstanding': 0,\n",
       " 'bookValue': 1186.194,\n",
       " 'priceToBook': 4.9203672,\n",
       " 'lastFiscalYearEnd': 1672444800,\n",
       " 'nextFiscalYearEnd': 1703980800,\n",
       " 'mostRecentQuarter': 1680220800,\n",
       " 'earningsQuarterlyGrowth': -0.192,\n",
       " 'netIncomeToCommon': 1643826944,\n",
       " 'trailingEps': 477.09,\n",
       " 'forwardEps': 431.62,\n",
       " 'pegRatio': 5.78,\n",
       " 'enterpriseToRevenue': 1.664,\n",
       " 'enterpriseToEbitda': 7.979,\n",
       " '52WeekChange': 0.42920566,\n",
       " 'SandP52WeekChange': 0.046755195,\n",
       " 'lastDividendValue': 0.167,\n",
       " 'lastDividendDate': 635731200,\n",
       " 'exchange': 'NYQ',\n",
       " 'quoteType': 'EQUITY',\n",
       " 'symbol': 'NVR',\n",
       " 'underlyingSymbol': 'NVR',\n",
       " 'shortName': 'NVR, Inc.',\n",
       " 'longName': 'NVR, Inc.',\n",
       " 'firstTradeDateEpochUtc': 490887000,\n",
       " 'timeZoneFullName': 'America/New_York',\n",
       " 'timeZoneShortName': 'EDT',\n",
       " 'uuid': '1c44bc9b-2e18-3afe-b2b0-0f9355801bcd',\n",
       " 'messageBoardId': 'finmb_182505',\n",
       " 'gmtOffSetMilliseconds': -14400000,\n",
       " 'currentPrice': 5836.51,\n",
       " 'targetHighPrice': 6500.0,\n",
       " 'targetLowPrice': 5800.0,\n",
       " 'targetMeanPrice': 6150.0,\n",
       " 'targetMedianPrice': 6150.0,\n",
       " 'recommendationMean': 2.6,\n",
       " 'recommendationKey': 'hold',\n",
       " 'numberOfAnalystOpinions': 2,\n",
       " 'totalCash': 2786502912,\n",
       " 'totalCashPerShare': 858.192,\n",
       " 'ebitda': 2170520064,\n",
       " 'totalDebt': 1028734976,\n",
       " 'quickRatio': 3.279,\n",
       " 'currentRatio': 5.917,\n",
       " 'totalRevenue': 10407743488,\n",
       " 'debtToEquity': 26.753,\n",
       " 'revenuePerShare': 3203.306,\n",
       " 'returnOnAssets': 0.22806999,\n",
       " 'returnOnEquity': 0.50033003,\n",
       " 'grossProfits': 2823687000,\n",
       " 'freeCashflow': 1685136896,\n",
       " 'operatingCashflow': 1876296960,\n",
       " 'earningsGrowth': -0.143,\n",
       " 'revenueGrowth': -0.07,\n",
       " 'grossMargins': 0.25941,\n",
       " 'ebitdaMargins': 0.20854999,\n",
       " 'operatingMargins': 0.2069,\n",
       " 'financialCurrency': 'USD',\n",
       " 'trailingPegRatio': None}"
      ]
     },
     "execution_count": 74,
     "metadata": {},
     "output_type": "execute_result"
    }
   ],
   "source": [
    "yf.Ticker(\"NVR\").get_info()"
   ]
  },
  {
   "attachments": {},
   "cell_type": "markdown",
   "metadata": {},
   "source": [
    "Check, whether yf dataset have discrepancies with ycharts_opm dataset:\n"
   ]
  },
  {
   "cell_type": "code",
   "execution_count": 174,
   "metadata": {},
   "outputs": [
    {
     "data": {
      "text/plain": [
       "<Axes: ylabel='date'>"
      ]
     },
     "execution_count": 174,
     "metadata": {},
     "output_type": "execute_result"
    },
    {
     "data": {
      "image/png": "[encoded data removed]",
      "text/plain": [
       "<Figure size 640x480 with 2 Axes>"
      ]
     },
     "metadata": {},
     "output_type": "display_data"
    }
   ],
   "source": [
    "sns.heatmap(ychopmdf, xticklabels=False, yticklabels=ychopmdf.index.year)  # type: ignore\n"
   ]
  },
  {
   "cell_type": "code",
   "execution_count": 184,
   "metadata": {},
   "outputs": [
    {
     "data": {
      "text/plain": [
       "<Axes: ylabel='Date'>"
      ]
     },
     "execution_count": 184,
     "metadata": {},
     "output_type": "execute_result"
    },
    {
     "data": {
      "image/png": "[encoded data removed]",
      "text/plain": [
       "<Figure size 640x480 with 2 Axes>"
      ]
     },
     "metadata": {},
     "output_type": "display_data"
    }
   ],
   "source": [
    "plt.clf()\n",
    "sns.heatmap(prices, xticklabels=False, yticklabels=prices.index.year)  # type: ignore\n"
   ]
  },
  {
   "cell_type": "code",
   "execution_count": 178,
   "metadata": {},
   "outputs": [
    {
     "data": {
      "text/plain": [
       "True"
      ]
     },
     "execution_count": 178,
     "metadata": {},
     "output_type": "execute_result"
    }
   ],
   "source": [
    "all(ychopmdf.columns == prices.columns)\n"
   ]
  },
  {
   "cell_type": "code",
   "execution_count": 179,
   "metadata": {},
   "outputs": [
    {
     "data": {
      "text/plain": [
       "True"
      ]
     },
     "execution_count": 179,
     "metadata": {},
     "output_type": "execute_result"
    }
   ],
   "source": [
    "all(ychopmdf.index == prices.index)\n"
   ]
  },
  {
   "cell_type": "code",
   "execution_count": 17,
   "metadata": {},
   "outputs": [
    {
     "data": {
      "text/plain": [
       "<Axes: xlabel='Number of misses across two datasets', ylabel='Frequency'>"
      ]
     },
     "execution_count": 17,
     "metadata": {},
     "output_type": "execute_result"
    },
    {
     "data": {
      "image/png": "[encoded data removed]",
      "text/plain": [
       "<Figure size 640x480 with 1 Axes>"
      ]
     },
     "metadata": {},
     "output_type": "display_data"
    }
   ],
   "source": [
    "# returns mask, True means the value is present in both DFs\n",
    "mask_cna = ~(prices.isna() | ychopmdf.isna())\n",
    "mask_cna.sum().plot(kind=\"hist\", xlabel=\"Number of misses across two datasets\")\n"
   ]
  },
  {
   "cell_type": "code",
   "execution_count": 18,
   "metadata": {},
   "outputs": [
    {
     "data": {
      "text/plain": [
       "<Axes: ylabel='Date'>"
      ]
     },
     "execution_count": 18,
     "metadata": {},
     "output_type": "execute_result"
    },
    {
     "data": {
      "image/png": "[encoded data removed]",
      "text/plain": [
       "<Figure size 640x480 with 2 Axes>"
      ]
     },
     "metadata": {},
     "output_type": "display_data"
    }
   ],
   "source": [
    "sns.heatmap(mask_cna, xticklabels=False, yticklabels=prices.index.year)  # type: ignore\n"
   ]
  },
  {
   "attachments": {},
   "cell_type": "markdown",
   "metadata": {},
   "source": [
    "We want to drop all companies, that have more then 2 NaNs."
   ]
  },
  {
   "cell_type": "code",
   "execution_count": 52,
   "metadata": {},
   "outputs": [
    {
     "data": {
      "text/plain": [
       "2033"
      ]
     },
     "execution_count": 52,
     "metadata": {},
     "output_type": "execute_result"
    }
   ],
   "source": [
    "tickers_to_drop = mask_cna.sum()[mask_cna.sum() < 13 - 2].index.to_list()\n",
    "len(tickers_to_drop)"
   ]
  },
  {
   "attachments": {},
   "cell_type": "markdown",
   "metadata": {},
   "source": [
    "Here I select values that are present only in both dataframes `.where(mask_cna, other=np.nan)`, then drop columns with companies, that have more then 2 NaNs `.drop(tickers_to_drop, axis=1)`:"
   ]
  },
  {
   "cell_type": "code",
   "execution_count": 57,
   "metadata": {},
   "outputs": [],
   "source": [
    "prices = prices.where(mask_cna, other=np.nan).drop(tickers_to_drop, axis=1)  # type: ignore\n",
    "volume = volume.where(mask_cna, other=np.nan).drop(tickers_to_drop, axis=1)  # type: ignore\n",
    "ychopmdf = ychopmdf.where(mask_cna, other=np.nan).drop(tickers_to_drop, axis=1)  # type: ignore"
   ]
  },
  {
   "cell_type": "code",
   "execution_count": 75,
   "metadata": {},
   "outputs": [
    {
     "name": "stdout",
     "output_type": "stream",
     "text": [
      "<class 'pandas.core.frame.DataFrame'>\n",
      "DatetimeIndex: 13 entries, 2010-04-01 to 2022-04-01\n",
      "Columns: 2146 entries, A to SEKEY\n",
      "dtypes: float64(2146)\n",
      "memory usage: 218.1 KB\n"
     ]
    }
   ],
   "source": [
    "ychopmdf.info()"
   ]
  },
  {
   "cell_type": "code",
   "execution_count": 76,
   "metadata": {},
   "outputs": [],
   "source": [
    "from json import dump\n",
    "\n",
    "with open(\"data/yf/new_tickers_2146.json\", \"w\") as f:\n",
    "    dump(ychopmdf.columns.to_list(), f)"
   ]
  }
 ],
 "metadata": {
  "kernelspec": {
   "display_name": ".venv",
   "language": "python",
   "name": "python3"
  },
  "language_info": {
   "codemirror_mode": {
    "name": "ipython",
    "version": 3
   },
   "file_extension": ".py",
   "mimetype": "text/x-python",
   "name": "python",
   "nbconvert_exporter": "python",
   "pygments_lexer": "ipython3",
   "version": "3.11.3"
  },
  "orig_nbformat": 4
 },
 "nbformat": 4,
 "nbformat_minor": 2
}
