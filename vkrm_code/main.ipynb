{
 "cells": [
  {
   "cell_type": "code",
   "execution_count": 75,
   "metadata": {},
   "outputs": [
    {
     "name": "stdout",
     "output_type": "stream",
     "text": [
      "The autoreload extension is already loaded. To reload it, use:\n",
      "  %reload_ext autoreload\n"
     ]
    }
   ],
   "source": [
    "import numpy as np\n",
    "import pandas as pd\n",
    "import matplotlib.pyplot as plt\n",
    "import seaborn as sns\n",
    "import json\n",
    "\n",
    "%load_ext autoreload"
   ]
  },
  {
   "cell_type": "code",
   "execution_count": 76,
   "metadata": {},
   "outputs": [],
   "source": [
    "DATA_PATH = \"./data/aligned_data/\""
   ]
  },
  {
   "cell_type": "code",
   "execution_count": 77,
   "metadata": {},
   "outputs": [],
   "source": [
    "with open(\"./data/aligned_ticker_1878.json\") as jsf:\n",
    "    new_tickers = json.load(jsf)"
   ]
  },
  {
   "cell_type": "code",
   "execution_count": 78,
   "metadata": {},
   "outputs": [],
   "source": [
    "prices = pd.read_csv(f\"{DATA_PATH}/prices.csv\", parse_dates=True, index_col=0)\n",
    "returns = pd.read_csv(f\"{DATA_PATH}/returns.csv\", parse_dates=True, index_col=0)\n",
    "volume = pd.read_csv(f\"{DATA_PATH}/volume.csv\", parse_dates=True, index_col=0)\n",
    "ychopmdf = pd.read_csv(f\"{DATA_PATH}/ychopmdf.csv\", parse_dates=True, index_col=0) / 100\n",
    "asset_turnover = pd.read_csv(f\"{DATA_PATH}/asset_turnover.csv\", parse_dates=True, index_col=0)\n",
    "benchmark_prices = pd.read_csv(f\"{DATA_PATH}/benchmark_sp500.csv\", parse_dates=True, index_col=0)\n",
    "\n",
    "company_info = pd.read_csv(\"./data/yf/company_info.csv\")"
   ]
  },
  {
   "cell_type": "code",
   "execution_count": 79,
   "metadata": {},
   "outputs": [
    {
     "data": {
      "text/html": [
       "<div>\n",
       "<style scoped>\n",
       "    .dataframe tbody tr th:only-of-type {\n",
       "        vertical-align: middle;\n",
       "    }\n",
       "\n",
       "    .dataframe tbody tr th {\n",
       "        vertical-align: top;\n",
       "    }\n",
       "\n",
       "    .dataframe thead th {\n",
       "        text-align: right;\n",
       "    }\n",
       "</style>\n",
       "<table border=\"1\" class=\"dataframe\">\n",
       "  <thead>\n",
       "    <tr style=\"text-align: right;\">\n",
       "      <th>Date</th>\n",
       "      <th>2011-04-01</th>\n",
       "      <th>2012-04-01</th>\n",
       "      <th>2013-04-01</th>\n",
       "      <th>2014-04-01</th>\n",
       "      <th>2015-04-01</th>\n",
       "      <th>2016-04-01</th>\n",
       "      <th>2017-04-01</th>\n",
       "      <th>2018-04-01</th>\n",
       "      <th>2019-04-01</th>\n",
       "      <th>2020-04-01</th>\n",
       "      <th>2021-04-01</th>\n",
       "      <th>2022-04-01</th>\n",
       "      <th>2023-04-01</th>\n",
       "    </tr>\n",
       "  </thead>\n",
       "  <tbody>\n",
       "    <tr>\n",
       "      <th>adj_close</th>\n",
       "      <td>0.247869</td>\n",
       "      <td>0.030955</td>\n",
       "      <td>0.164849</td>\n",
       "      <td>0.199141</td>\n",
       "      <td>0.051153</td>\n",
       "      <td>0.01718</td>\n",
       "      <td>0.143781</td>\n",
       "      <td>0.114857</td>\n",
       "      <td>0.078976</td>\n",
       "      <td>0.052488</td>\n",
       "      <td>0.326538</td>\n",
       "      <td>-0.126887</td>\n",
       "      <td>0.085697</td>\n",
       "    </tr>\n",
       "  </tbody>\n",
       "</table>\n",
       "</div>"
      ],
      "text/plain": [
       "Date       2011-04-01  2012-04-01  2013-04-01  2014-04-01  2015-04-01   \n",
       "adj_close    0.247869    0.030955    0.164849    0.199141    0.051153  \\\n",
       "\n",
       "Date       2016-04-01  2017-04-01  2018-04-01  2019-04-01  2020-04-01   \n",
       "adj_close     0.01718    0.143781    0.114857    0.078976    0.052488  \\\n",
       "\n",
       "Date       2021-04-01  2022-04-01  2023-04-01  \n",
       "adj_close    0.326538   -0.126887    0.085697  "
      ]
     },
     "execution_count": 79,
     "metadata": {},
     "output_type": "execute_result"
    }
   ],
   "source": [
    "benchmark = (1 + benchmark_prices.pct_change()).apply(np.log).iloc[1:]\n",
    "benchmark.T"
   ]
  },
  {
   "attachments": {},
   "cell_type": "markdown",
   "metadata": {},
   "source": [
    "To compose portfolios with lowest Operating Margin and highest Asset Turnover we need a way to select best candidates. To this end, I will constuct a matrix with the difference of normalized Asset Turnover and Operating Margin."
   ]
  },
  {
   "cell_type": "code",
   "execution_count": 80,
   "metadata": {},
   "outputs": [],
   "source": [
    "def min_max_scale(df: pd.DataFrame) -> pd.DataFrame:\n",
    "    \"\"\"\n",
    "    This function performs min-max scaling on a pandas DataFrame.\n",
    "    Min-max scaling transforms the numerical values in each column of the DataFrame to a range between 0 and 1, where the minimum value becomes 0 and the maximum value becomes 1. \n",
    "\n",
    "    Returns: A pandas DataFrame with the same shape and columns as the input, but with scaled values between 0 and 1.\n",
    "    \"\"\"\n",
    "    df = (df - df.min()) / (df.max() - df.min())\n",
    "    return df.copy()"
   ]
  },
  {
   "cell_type": "code",
   "execution_count": 81,
   "metadata": {},
   "outputs": [
    {
     "data": {
      "text/html": [
       "<div>\n",
       "<style scoped>\n",
       "    .dataframe tbody tr th:only-of-type {\n",
       "        vertical-align: middle;\n",
       "    }\n",
       "\n",
       "    .dataframe tbody tr th {\n",
       "        vertical-align: top;\n",
       "    }\n",
       "\n",
       "    .dataframe thead th {\n",
       "        text-align: right;\n",
       "    }\n",
       "</style>\n",
       "<table border=\"1\" class=\"dataframe\">\n",
       "  <thead>\n",
       "    <tr style=\"text-align: right;\">\n",
       "      <th>date</th>\n",
       "      <th>2011-04-01</th>\n",
       "      <th>2012-04-01</th>\n",
       "      <th>2013-04-01</th>\n",
       "      <th>2014-04-01</th>\n",
       "      <th>2015-04-01</th>\n",
       "      <th>2016-04-01</th>\n",
       "      <th>2017-04-01</th>\n",
       "      <th>2018-04-01</th>\n",
       "      <th>2019-04-01</th>\n",
       "      <th>2020-04-01</th>\n",
       "      <th>2021-04-01</th>\n",
       "      <th>2022-04-01</th>\n",
       "      <th>2023-04-01</th>\n",
       "    </tr>\n",
       "  </thead>\n",
       "  <tbody>\n",
       "    <tr>\n",
       "      <th>count</th>\n",
       "      <td>1305.000000</td>\n",
       "      <td>1370.000000</td>\n",
       "      <td>1439.000000</td>\n",
       "      <td>1429.000000</td>\n",
       "      <td>1435.000000</td>\n",
       "      <td>1432.000000</td>\n",
       "      <td>1418.000000</td>\n",
       "      <td>1426.000000</td>\n",
       "      <td>1435.000000</td>\n",
       "      <td>1428.000000</td>\n",
       "      <td>1431.000000</td>\n",
       "      <td>1406.000000</td>\n",
       "      <td>1422.000000</td>\n",
       "    </tr>\n",
       "    <tr>\n",
       "      <th>mean</th>\n",
       "      <td>1.010640</td>\n",
       "      <td>1.036952</td>\n",
       "      <td>1.019370</td>\n",
       "      <td>0.999019</td>\n",
       "      <td>0.982535</td>\n",
       "      <td>0.927663</td>\n",
       "      <td>0.906086</td>\n",
       "      <td>0.894694</td>\n",
       "      <td>0.899375</td>\n",
       "      <td>0.863448</td>\n",
       "      <td>0.775266</td>\n",
       "      <td>0.809848</td>\n",
       "      <td>0.886950</td>\n",
       "    </tr>\n",
       "    <tr>\n",
       "      <th>std</th>\n",
       "      <td>0.924548</td>\n",
       "      <td>0.937170</td>\n",
       "      <td>0.926441</td>\n",
       "      <td>0.922335</td>\n",
       "      <td>0.898722</td>\n",
       "      <td>0.812468</td>\n",
       "      <td>0.762356</td>\n",
       "      <td>0.750489</td>\n",
       "      <td>0.757387</td>\n",
       "      <td>0.719789</td>\n",
       "      <td>0.650543</td>\n",
       "      <td>0.694917</td>\n",
       "      <td>0.774880</td>\n",
       "    </tr>\n",
       "    <tr>\n",
       "      <th>min</th>\n",
       "      <td>0.012465</td>\n",
       "      <td>0.013403</td>\n",
       "      <td>-0.242140</td>\n",
       "      <td>0.011240</td>\n",
       "      <td>0.012108</td>\n",
       "      <td>0.009632</td>\n",
       "      <td>0.009705</td>\n",
       "      <td>0.011975</td>\n",
       "      <td>-0.055927</td>\n",
       "      <td>0.014530</td>\n",
       "      <td>0.006633</td>\n",
       "      <td>-1.900920</td>\n",
       "      <td>-0.785907</td>\n",
       "    </tr>\n",
       "    <tr>\n",
       "      <th>25%</th>\n",
       "      <td>0.458644</td>\n",
       "      <td>0.463316</td>\n",
       "      <td>0.457041</td>\n",
       "      <td>0.439247</td>\n",
       "      <td>0.444430</td>\n",
       "      <td>0.406542</td>\n",
       "      <td>0.408310</td>\n",
       "      <td>0.396130</td>\n",
       "      <td>0.396954</td>\n",
       "      <td>0.387464</td>\n",
       "      <td>0.350576</td>\n",
       "      <td>0.383198</td>\n",
       "      <td>0.415301</td>\n",
       "    </tr>\n",
       "    <tr>\n",
       "      <th>50%</th>\n",
       "      <td>0.795539</td>\n",
       "      <td>0.842319</td>\n",
       "      <td>0.809636</td>\n",
       "      <td>0.788305</td>\n",
       "      <td>0.763038</td>\n",
       "      <td>0.726132</td>\n",
       "      <td>0.725221</td>\n",
       "      <td>0.726637</td>\n",
       "      <td>0.727441</td>\n",
       "      <td>0.689295</td>\n",
       "      <td>0.624593</td>\n",
       "      <td>0.670920</td>\n",
       "      <td>0.725911</td>\n",
       "    </tr>\n",
       "    <tr>\n",
       "      <th>75%</th>\n",
       "      <td>1.275752</td>\n",
       "      <td>1.323878</td>\n",
       "      <td>1.312991</td>\n",
       "      <td>1.282075</td>\n",
       "      <td>1.250650</td>\n",
       "      <td>1.211298</td>\n",
       "      <td>1.198630</td>\n",
       "      <td>1.180717</td>\n",
       "      <td>1.197453</td>\n",
       "      <td>1.130541</td>\n",
       "      <td>1.002793</td>\n",
       "      <td>1.035381</td>\n",
       "      <td>1.122223</td>\n",
       "    </tr>\n",
       "    <tr>\n",
       "      <th>max</th>\n",
       "      <td>11.221488</td>\n",
       "      <td>11.055405</td>\n",
       "      <td>11.010551</td>\n",
       "      <td>11.414836</td>\n",
       "      <td>11.504301</td>\n",
       "      <td>11.203356</td>\n",
       "      <td>11.212121</td>\n",
       "      <td>10.510263</td>\n",
       "      <td>9.729531</td>\n",
       "      <td>9.352953</td>\n",
       "      <td>8.799283</td>\n",
       "      <td>8.883930</td>\n",
       "      <td>8.873837</td>\n",
       "    </tr>\n",
       "  </tbody>\n",
       "</table>\n",
       "</div>"
      ],
      "text/plain": [
       "date    2011-04-01   2012-04-01   2013-04-01   2014-04-01   2015-04-01   \n",
       "count  1305.000000  1370.000000  1439.000000  1429.000000  1435.000000  \\\n",
       "mean      1.010640     1.036952     1.019370     0.999019     0.982535   \n",
       "std       0.924548     0.937170     0.926441     0.922335     0.898722   \n",
       "min       0.012465     0.013403    -0.242140     0.011240     0.012108   \n",
       "25%       0.458644     0.463316     0.457041     0.439247     0.444430   \n",
       "50%       0.795539     0.842319     0.809636     0.788305     0.763038   \n",
       "75%       1.275752     1.323878     1.312991     1.282075     1.250650   \n",
       "max      11.221488    11.055405    11.010551    11.414836    11.504301   \n",
       "\n",
       "date    2016-04-01   2017-04-01   2018-04-01   2019-04-01   2020-04-01   \n",
       "count  1432.000000  1418.000000  1426.000000  1435.000000  1428.000000  \\\n",
       "mean      0.927663     0.906086     0.894694     0.899375     0.863448   \n",
       "std       0.812468     0.762356     0.750489     0.757387     0.719789   \n",
       "min       0.009632     0.009705     0.011975    -0.055927     0.014530   \n",
       "25%       0.406542     0.408310     0.396130     0.396954     0.387464   \n",
       "50%       0.726132     0.725221     0.726637     0.727441     0.689295   \n",
       "75%       1.211298     1.198630     1.180717     1.197453     1.130541   \n",
       "max      11.203356    11.212121    10.510263     9.729531     9.352953   \n",
       "\n",
       "date    2021-04-01   2022-04-01   2023-04-01  \n",
       "count  1431.000000  1406.000000  1422.000000  \n",
       "mean      0.775266     0.809848     0.886950  \n",
       "std       0.650543     0.694917     0.774880  \n",
       "min       0.006633    -1.900920    -0.785907  \n",
       "25%       0.350576     0.383198     0.415301  \n",
       "50%       0.624593     0.670920     0.725911  \n",
       "75%       1.002793     1.035381     1.122223  \n",
       "max       8.799283     8.883930     8.873837  "
      ]
     },
     "execution_count": 81,
     "metadata": {},
     "output_type": "execute_result"
    }
   ],
   "source": [
    "asset_turnover.T.describe()"
   ]
  },
  {
   "cell_type": "code",
   "execution_count": 82,
   "metadata": {},
   "outputs": [
    {
     "data": {
      "text/plain": [
       "<Axes: >"
      ]
     },
     "execution_count": 82,
     "metadata": {},
     "output_type": "execute_result"
    },
    {
     "data": {
      "image/png": "[encoded data removed]",
      "text/plain": [
       "<Figure size 640x480 with 1 Axes>"
      ]
     },
     "metadata": {},
     "output_type": "display_data"
    }
   ],
   "source": [
    "asset_turnover.T[\"2011-04-01\"].hist()"
   ]
  },
  {
   "cell_type": "code",
   "execution_count": 83,
   "metadata": {},
   "outputs": [
    {
     "data": {
      "text/plain": [
       "A        0\n",
       "KMTUY    0\n",
       "KMT      0\n",
       "KMB      0\n",
       "KLIC     0\n",
       "        ..\n",
       "PCTI     3\n",
       "NLS      3\n",
       "EHTH     3\n",
       "AXON     3\n",
       "LPX      3\n",
       "Length: 1440, dtype: int64"
      ]
     },
     "execution_count": 83,
     "metadata": {},
     "output_type": "execute_result"
    }
   ],
   "source": [
    "asset_turnover.isna().sum().sort_values()"
   ]
  },
  {
   "cell_type": "code",
   "execution_count": 84,
   "metadata": {},
   "outputs": [],
   "source": [
    "diff_vector = (min_max_scale(asset_turnover.T) - min_max_scale(ychopmdf.T)).T"
   ]
  },
  {
   "cell_type": "code",
   "execution_count": 85,
   "metadata": {},
   "outputs": [
    {
     "name": "stdout",
     "output_type": "stream",
     "text": [
      "<class 'pandas.core.frame.DataFrame'>\n",
      "DatetimeIndex: 13 entries, 2011-04-01 to 2023-04-01\n",
      "Columns: 1440 entries, A to SEKEY\n",
      "dtypes: float64(1440)\n",
      "memory usage: 146.9 KB\n"
     ]
    }
   ],
   "source": [
    "diff_vector.info()"
   ]
  },
  {
   "cell_type": "code",
   "execution_count": 121,
   "metadata": {},
   "outputs": [
    {
     "data": {
      "image/png": "[encoded data removed]",
      "text/plain": [
       "<Figure size 1000x600 with 1 Axes>"
      ]
     },
     "metadata": {},
     "output_type": "display_data"
    }
   ],
   "source": [
    "diff_vector.T.plot(kind=\"box\", figsize=(10,6), rot=30, grid=True, sym=\"r+\")\n",
    "# plt.title(\"Boxplot (Ящик с усами) для diff_vector\")\n",
    "plt.show()"
   ]
  },
  {
   "cell_type": "code",
   "execution_count": 87,
   "metadata": {},
   "outputs": [],
   "source": [
    "%autoreload 2\n",
    "from strategies import PortfolioType, Universe, Portfolio, Strategy  # noqa: F401\n"
   ]
  },
  {
   "cell_type": "code",
   "execution_count": 100,
   "metadata": {},
   "outputs": [
    {
     "data": {
      "text/plain": [
       "DatetimeIndex(['2011-04-01', '2012-04-01', '2013-04-01', '2014-04-01',\n",
       "               '2015-04-01', '2016-04-01', '2017-04-01', '2018-04-01',\n",
       "               '2019-04-01', '2020-04-01', '2021-04-01', '2022-04-01',\n",
       "               '2023-04-01'],\n",
       "              dtype='datetime64[ns]', name='date', freq=None)"
      ]
     },
     "execution_count": 100,
     "metadata": {},
     "output_type": "execute_result"
    }
   ],
   "source": [
    "diff_vector.index"
   ]
  },
  {
   "cell_type": "code",
   "execution_count": 88,
   "metadata": {},
   "outputs": [
    {
     "name": "stderr",
     "output_type": "stream",
     "text": [
      "100%|██████████| 12/12 [00:00<00:00, 31.04it/s]\n"
     ]
    }
   ],
   "source": [
    "universe = Universe(diff_vector, ychopmdf, asset_turnover, returns, volume, company_info)\n",
    "strategy = Strategy()\n",
    "strategy.construct_portfolios(universe, pd.DateOffset(years=1))"
   ]
  },
  {
   "cell_type": "code",
   "execution_count": 89,
   "metadata": {},
   "outputs": [],
   "source": [
    "# strategy.portfolios['2011-04-01'][0].info\n",
    "\n",
    "atest_df = pd.concat([port[0].info for port in strategy.portfolios.values()]) # type: ignore"
   ]
  },
  {
   "cell_type": "code",
   "execution_count": 90,
   "metadata": {},
   "outputs": [],
   "source": [
    "loht_returns = []\n",
    "holt_returns = []\n",
    "difference = []\n",
    "\n",
    "for loht, holt in strategy.portfolios.values():\n",
    "    loht_returns.append(loht.mean_return)\n",
    "    holt_returns.append(holt.mean_return)\n",
    "    difference.append(loht.mean_return - holt.mean_return) # type: ignore"
   ]
  },
  {
   "cell_type": "code",
   "execution_count": 135,
   "metadata": {},
   "outputs": [
    {
     "data": {
      "text/plain": [
       "(0.07165330038022448, -0.013899603930894698)"
      ]
     },
     "execution_count": 135,
     "metadata": {},
     "output_type": "execute_result"
    }
   ],
   "source": [
    "np.mean(loht_returns), np.mean(holt_returns)"
   ]
  },
  {
   "cell_type": "code",
   "execution_count": 93,
   "metadata": {},
   "outputs": [
    {
     "data": {
      "text/html": [
       "<div>\n",
       "<style scoped>\n",
       "    .dataframe tbody tr th:only-of-type {\n",
       "        vertical-align: middle;\n",
       "    }\n",
       "\n",
       "    .dataframe tbody tr th {\n",
       "        vertical-align: top;\n",
       "    }\n",
       "\n",
       "    .dataframe thead th {\n",
       "        text-align: right;\n",
       "    }\n",
       "</style>\n",
       "<table border=\"1\" class=\"dataframe\">\n",
       "  <thead>\n",
       "    <tr style=\"text-align: right;\">\n",
       "      <th></th>\n",
       "      <th>2011-04-01</th>\n",
       "      <th>2012-04-01</th>\n",
       "      <th>2013-04-01</th>\n",
       "      <th>2014-04-01</th>\n",
       "      <th>2015-04-01</th>\n",
       "      <th>2016-04-01</th>\n",
       "      <th>2017-04-01</th>\n",
       "      <th>2018-04-01</th>\n",
       "      <th>2019-04-01</th>\n",
       "      <th>2020-04-01</th>\n",
       "      <th>2021-04-01</th>\n",
       "      <th>2022-04-01</th>\n",
       "    </tr>\n",
       "  </thead>\n",
       "  <tbody>\n",
       "    <tr>\n",
       "      <th>LOHT</th>\n",
       "      <td>0.099557</td>\n",
       "      <td>0.380308</td>\n",
       "      <td>0.183221</td>\n",
       "      <td>-0.047747</td>\n",
       "      <td>-0.190003</td>\n",
       "      <td>0.130716</td>\n",
       "      <td>-0.189152</td>\n",
       "      <td>0.133979</td>\n",
       "      <td>-0.221649</td>\n",
       "      <td>0.439474</td>\n",
       "      <td>0.094658</td>\n",
       "      <td>0.046479</td>\n",
       "    </tr>\n",
       "    <tr>\n",
       "      <th>HOLT</th>\n",
       "      <td>-0.158522</td>\n",
       "      <td>-0.032006</td>\n",
       "      <td>0.120580</td>\n",
       "      <td>-0.238122</td>\n",
       "      <td>0.103756</td>\n",
       "      <td>0.092352</td>\n",
       "      <td>0.201687</td>\n",
       "      <td>0.176124</td>\n",
       "      <td>-0.362383</td>\n",
       "      <td>0.456257</td>\n",
       "      <td>-0.227851</td>\n",
       "      <td>-0.298668</td>\n",
       "    </tr>\n",
       "    <tr>\n",
       "      <th>S&amp;P 500 YoY Returns</th>\n",
       "      <td>0.247869</td>\n",
       "      <td>0.030955</td>\n",
       "      <td>0.164849</td>\n",
       "      <td>0.199141</td>\n",
       "      <td>0.051153</td>\n",
       "      <td>0.017180</td>\n",
       "      <td>0.143781</td>\n",
       "      <td>0.114857</td>\n",
       "      <td>0.078976</td>\n",
       "      <td>0.052488</td>\n",
       "      <td>0.326538</td>\n",
       "      <td>-0.126887</td>\n",
       "    </tr>\n",
       "  </tbody>\n",
       "</table>\n",
       "</div>"
      ],
      "text/plain": [
       "                     2011-04-01  2012-04-01  2013-04-01  2014-04-01   \n",
       "LOHT                   0.099557    0.380308    0.183221   -0.047747  \\\n",
       "HOLT                  -0.158522   -0.032006    0.120580   -0.238122   \n",
       "S&P 500 YoY Returns    0.247869    0.030955    0.164849    0.199141   \n",
       "\n",
       "                     2015-04-01  2016-04-01  2017-04-01  2018-04-01   \n",
       "LOHT                  -0.190003    0.130716   -0.189152    0.133979  \\\n",
       "HOLT                   0.103756    0.092352    0.201687    0.176124   \n",
       "S&P 500 YoY Returns    0.051153    0.017180    0.143781    0.114857   \n",
       "\n",
       "                     2019-04-01  2020-04-01  2021-04-01  2022-04-01  \n",
       "LOHT                  -0.221649    0.439474    0.094658    0.046479  \n",
       "HOLT                  -0.362383    0.456257   -0.227851   -0.298668  \n",
       "S&P 500 YoY Returns    0.078976    0.052488    0.326538   -0.126887  "
      ]
     },
     "execution_count": 93,
     "metadata": {},
     "output_type": "execute_result"
    }
   ],
   "source": [
    "results_df = pd.DataFrame([loht_returns, holt_returns, benchmark.values.flatten()[:-1]])\n",
    "results_df.columns = [date.strftime(\"%Y-%m-%d\") for date in diff_vector.index[:-1]]\n",
    "results_df = results_df.set_index(\n",
    "    pd.Index(\n",
    "        [\n",
    "            \"LOHT\",\n",
    "            \"HOLT\",\n",
    "            \"S&P 500 YoY Returns\",\n",
    "        ],\n",
    "        name=None,\n",
    "    )\n",
    ")\n",
    "results_df"
   ]
  },
  {
   "cell_type": "code",
   "execution_count": 95,
   "metadata": {},
   "outputs": [
    {
     "data": {
      "image/png": "[encoded data removed]",
      "text/plain": [
       "<Figure size 1000x600 with 1 Axes>"
      ]
     },
     "metadata": {},
     "output_type": "display_data"
    }
   ],
   "source": [
    "plt.rcParams[\"font.size\"] = \"12\"\n",
    "\n",
    "results_df.T.plot(\n",
    "    kind=\"bar\",\n",
    "    figsize=(10, 6),\n",
    "    xlabel=r\"$i$ year\",\n",
    "    ylabel=\"YoY Return\",\n",
    "    width=0.68,\n",
    ")\n",
    "\n",
    "(results_df.iloc[0] - results_df.iloc[1]).plot(\n",
    "    kind=\"bar\",\n",
    "    secondary_y=False,\n",
    "    color=np.where((results_df.iloc[0] - results_df.iloc[1]) < 0, \"red\", \"deepskyblue\"),\n",
    "    grid=True,\n",
    "    label=\"P1 - P2\",\n",
    "    alpha=0.25,\n",
    "    width=0.68,\n",
    ")\n",
    "\n",
    "plt.legend(loc=\"lower left\")\n",
    "plt.xticks(rotation=45)\n",
    "plt.subplots_adjust(bottom=0.15)"
   ]
  }
 ],
 "metadata": {
  "kernelspec": {
   "display_name": ".venv",
   "language": "python",
   "name": "python3"
  },
  "language_info": {
   "codemirror_mode": {
    "name": "ipython",
    "version": 3
   },
   "file_extension": ".py",
   "mimetype": "text/x-python",
   "name": "python",
   "nbconvert_exporter": "python",
   "pygments_lexer": "ipython3",
   "version": "3.11.3"
  },
  "orig_nbformat": 4
 },
 "nbformat": 4,
 "nbformat_minor": 2
}
