{
 "cells": [
  {
   "cell_type": "code",
   "execution_count": 270,
   "metadata": {},
   "outputs": [],
   "source": [
    "import numpy as np\n",
    "import pandas as pd\n",
    "import matplotlib.pyplot as plt\n",
    "import seaborn as sns\n",
    "import json\n",
    "from typing import Any\n",
    "from tqdm import tqdm"
   ]
  },
  {
   "cell_type": "code",
   "execution_count": 271,
   "metadata": {},
   "outputs": [],
   "source": [
    "DATA_PATH = \"./data/aligned_data/\""
   ]
  },
  {
   "cell_type": "code",
   "execution_count": 272,
   "metadata": {},
   "outputs": [],
   "source": [
    "with open(\"./data/aligned_ticker_1878.json\") as jsf:\n",
    "    new_tickers = json.load(jsf)"
   ]
  },
  {
   "cell_type": "code",
   "execution_count": 273,
   "metadata": {},
   "outputs": [],
   "source": [
    "prices = pd.read_csv(f\"{DATA_PATH}/prices.csv\", parse_dates=True, index_col=0)\n",
    "returns = pd.read_csv(f\"{DATA_PATH}/returns.csv\", parse_dates=True, index_col=0)\n",
    "volume = pd.read_csv(f\"{DATA_PATH}/volume.csv\", parse_dates=True, index_col=0)\n",
    "ychopmdf = pd.read_csv(f\"{DATA_PATH}/ychopmdf.csv\", parse_dates=True, index_col=0) / 100\n",
    "asset_turnover = pd.read_csv(f\"{DATA_PATH}/asset_turnover.csv\", parse_dates=True, index_col=0)\n",
    "\n",
    "company_info = pd.read_csv(\"./data/yf/company_info.csv\")"
   ]
  },
  {
   "cell_type": "code",
   "execution_count": 274,
   "metadata": {},
   "outputs": [
    {
     "data": {
      "text/html": [
       "<div>\n",
       "<style scoped>\n",
       "    .dataframe tbody tr th:only-of-type {\n",
       "        vertical-align: middle;\n",
       "    }\n",
       "\n",
       "    .dataframe tbody tr th {\n",
       "        vertical-align: top;\n",
       "    }\n",
       "\n",
       "    .dataframe thead th {\n",
       "        text-align: right;\n",
       "    }\n",
       "</style>\n",
       "<table border=\"1\" class=\"dataframe\">\n",
       "  <thead>\n",
       "    <tr style=\"text-align: right;\">\n",
       "      <th></th>\n",
       "      <th>A</th>\n",
       "      <th>AACAY</th>\n",
       "      <th>AAON</th>\n",
       "      <th>AAP</th>\n",
       "      <th>AAPL</th>\n",
       "      <th>AAT</th>\n",
       "      <th>AAV.TO</th>\n",
       "      <th>AAVVF</th>\n",
       "      <th>ABB</th>\n",
       "      <th>ABC</th>\n",
       "      <th>...</th>\n",
       "      <th>SCS</th>\n",
       "      <th>SCSC</th>\n",
       "      <th>SCU</th>\n",
       "      <th>SCVL</th>\n",
       "      <th>SCX</th>\n",
       "      <th>SDVKY</th>\n",
       "      <th>SEB</th>\n",
       "      <th>SEE</th>\n",
       "      <th>SEIC</th>\n",
       "      <th>SEKEY</th>\n",
       "    </tr>\n",
       "    <tr>\n",
       "      <th>Date</th>\n",
       "      <th></th>\n",
       "      <th></th>\n",
       "      <th></th>\n",
       "      <th></th>\n",
       "      <th></th>\n",
       "      <th></th>\n",
       "      <th></th>\n",
       "      <th></th>\n",
       "      <th></th>\n",
       "      <th></th>\n",
       "      <th></th>\n",
       "      <th></th>\n",
       "      <th></th>\n",
       "      <th></th>\n",
       "      <th></th>\n",
       "      <th></th>\n",
       "      <th></th>\n",
       "      <th></th>\n",
       "      <th></th>\n",
       "      <th></th>\n",
       "      <th></th>\n",
       "    </tr>\n",
       "  </thead>\n",
       "  <tbody>\n",
       "    <tr>\n",
       "      <th>2011-04-01</th>\n",
       "      <td>0.586536</td>\n",
       "      <td>NaN</td>\n",
       "      <td>0.355194</td>\n",
       "      <td>0.157275</td>\n",
       "      <td>0.288566</td>\n",
       "      <td>NaN</td>\n",
       "      <td>0.208848</td>\n",
       "      <td>0.311072</td>\n",
       "      <td>0.432402</td>\n",
       "      <td>0.276675</td>\n",
       "      <td>...</td>\n",
       "      <td>0.410389</td>\n",
       "      <td>0.407736</td>\n",
       "      <td>0.157262</td>\n",
       "      <td>0.385273</td>\n",
       "      <td>0.098881</td>\n",
       "      <td>0.378927</td>\n",
       "      <td>0.475129</td>\n",
       "      <td>0.210389</td>\n",
       "      <td>0.109220</td>\n",
       "      <td>0.301198</td>\n",
       "    </tr>\n",
       "    <tr>\n",
       "      <th>2012-04-01</th>\n",
       "      <td>-0.262032</td>\n",
       "      <td>0.236969</td>\n",
       "      <td>-0.135850</td>\n",
       "      <td>0.157420</td>\n",
       "      <td>0.553773</td>\n",
       "      <td>0.118403</td>\n",
       "      <td>-0.934785</td>\n",
       "      <td>-0.982091</td>\n",
       "      <td>-0.439737</td>\n",
       "      <td>-0.038167</td>\n",
       "      <td>...</td>\n",
       "      <td>-0.199491</td>\n",
       "      <td>-0.201501</td>\n",
       "      <td>-0.567271</td>\n",
       "      <td>0.066868</td>\n",
       "      <td>0.154782</td>\n",
       "      <td>-0.287481</td>\n",
       "      <td>-0.125421</td>\n",
       "      <td>-0.405714</td>\n",
       "      <td>-0.109512</td>\n",
       "      <td>-0.552735</td>\n",
       "    </tr>\n",
       "    <tr>\n",
       "      <th>2013-04-01</th>\n",
       "      <td>0.096460</td>\n",
       "      <td>0.672239</td>\n",
       "      <td>0.579970</td>\n",
       "      <td>0.177140</td>\n",
       "      <td>-0.372497</td>\n",
       "      <td>0.272265</td>\n",
       "      <td>-0.172378</td>\n",
       "      <td>-0.171769</td>\n",
       "      <td>0.321318</td>\n",
       "      <td>0.366548</td>\n",
       "      <td>...</td>\n",
       "      <td>0.507091</td>\n",
       "      <td>0.043430</td>\n",
       "      <td>0.436124</td>\n",
       "      <td>0.166484</td>\n",
       "      <td>0.200970</td>\n",
       "      <td>-0.033939</td>\n",
       "      <td>0.243728</td>\n",
       "      <td>0.470759</td>\n",
       "      <td>0.386543</td>\n",
       "      <td>0.316270</td>\n",
       "    </tr>\n",
       "    <tr>\n",
       "      <th>2014-04-01</th>\n",
       "      <td>0.302534</td>\n",
       "      <td>0.160821</td>\n",
       "      <td>0.425140</td>\n",
       "      <td>0.510634</td>\n",
       "      <td>0.519973</td>\n",
       "      <td>0.140325</td>\n",
       "      <td>0.546797</td>\n",
       "      <td>0.533907</td>\n",
       "      <td>0.093181</td>\n",
       "      <td>0.277842</td>\n",
       "      <td>...</td>\n",
       "      <td>0.063954</td>\n",
       "      <td>0.173953</td>\n",
       "      <td>0.414057</td>\n",
       "      <td>-0.140848</td>\n",
       "      <td>NaN</td>\n",
       "      <td>0.169797</td>\n",
       "      <td>0.109136</td>\n",
       "      <td>0.373093</td>\n",
       "      <td>0.155366</td>\n",
       "      <td>1.129708</td>\n",
       "    </tr>\n",
       "    <tr>\n",
       "      <th>2015-04-01</th>\n",
       "      <td>-0.051032</td>\n",
       "      <td>-0.115751</td>\n",
       "      <td>0.015867</td>\n",
       "      <td>0.167745</td>\n",
       "      <td>0.318698</td>\n",
       "      <td>0.150757</td>\n",
       "      <td>0.096957</td>\n",
       "      <td>-0.061369</td>\n",
       "      <td>-0.064598</td>\n",
       "      <td>0.393655</td>\n",
       "      <td>...</td>\n",
       "      <td>0.248629</td>\n",
       "      <td>-0.000525</td>\n",
       "      <td>-0.035830</td>\n",
       "      <td>0.346041</td>\n",
       "      <td>-0.000017</td>\n",
       "      <td>-0.169387</td>\n",
       "      <td>0.175310</td>\n",
       "      <td>0.421502</td>\n",
       "      <td>0.415696</td>\n",
       "      <td>-0.182981</td>\n",
       "    </tr>\n",
       "    <tr>\n",
       "      <th>2016-04-01</th>\n",
       "      <td>0.147733</td>\n",
       "      <td>0.427250</td>\n",
       "      <td>0.209181</td>\n",
       "      <td>0.016079</td>\n",
       "      <td>-0.253208</td>\n",
       "      <td>0.104247</td>\n",
       "      <td>-0.090008</td>\n",
       "      <td>-0.122740</td>\n",
       "      <td>-0.015394</td>\n",
       "      <td>-0.280468</td>\n",
       "      <td>...</td>\n",
       "      <td>-0.297708</td>\n",
       "      <td>-0.025277</td>\n",
       "      <td>-1.131736</td>\n",
       "      <td>-0.128979</td>\n",
       "      <td>-0.196490</td>\n",
       "      <td>-0.069521</td>\n",
       "      <td>-0.226121</td>\n",
       "      <td>-0.100356</td>\n",
       "      <td>-0.009254</td>\n",
       "      <td>-0.104858</td>\n",
       "    </tr>\n",
       "    <tr>\n",
       "      <th>2017-04-01</th>\n",
       "      <td>0.303812</td>\n",
       "      <td>0.417726</td>\n",
       "      <td>0.300240</td>\n",
       "      <td>-0.325103</td>\n",
       "      <td>0.430699</td>\n",
       "      <td>-0.049967</td>\n",
       "      <td>-0.349925</td>\n",
       "      <td>-0.342614</td>\n",
       "      <td>0.267806</td>\n",
       "      <td>0.192442</td>\n",
       "      <td>...</td>\n",
       "      <td>0.063109</td>\n",
       "      <td>0.082465</td>\n",
       "      <td>-0.391699</td>\n",
       "      <td>-0.174509</td>\n",
       "      <td>0.127574</td>\n",
       "      <td>0.484944</td>\n",
       "      <td>0.330909</td>\n",
       "      <td>-0.012960</td>\n",
       "      <td>0.122147</td>\n",
       "      <td>0.334316</td>\n",
       "    </tr>\n",
       "    <tr>\n",
       "      <th>2018-04-01</th>\n",
       "      <td>0.048267</td>\n",
       "      <td>0.126121</td>\n",
       "      <td>-0.095620</td>\n",
       "      <td>0.154032</td>\n",
       "      <td>0.266694</td>\n",
       "      <td>-0.000329</td>\n",
       "      <td>-0.757914</td>\n",
       "      <td>-0.778140</td>\n",
       "      <td>-0.100735</td>\n",
       "      <td>-0.085640</td>\n",
       "      <td>...</td>\n",
       "      <td>-0.000325</td>\n",
       "      <td>0.000000</td>\n",
       "      <td>-0.233301</td>\n",
       "      <td>0.453672</td>\n",
       "      <td>NaN</td>\n",
       "      <td>0.132774</td>\n",
       "      <td>-0.006645</td>\n",
       "      <td>-0.038588</td>\n",
       "      <td>0.160220</td>\n",
       "      <td>-0.254660</td>\n",
       "    </tr>\n",
       "    <tr>\n",
       "      <th>2019-04-01</th>\n",
       "      <td>0.197754</td>\n",
       "      <td>-0.901004</td>\n",
       "      <td>0.420750</td>\n",
       "      <td>0.128950</td>\n",
       "      <td>0.082025</td>\n",
       "      <td>0.234518</td>\n",
       "      <td>-0.924843</td>\n",
       "      <td>-0.924388</td>\n",
       "      <td>-0.048113</td>\n",
       "      <td>0.017778</td>\n",
       "      <td>...</td>\n",
       "      <td>0.272473</td>\n",
       "      <td>-0.213267</td>\n",
       "      <td>0.227359</td>\n",
       "      <td>-0.147682</td>\n",
       "      <td>0.033797</td>\n",
       "      <td>0.061740</td>\n",
       "      <td>0.044744</td>\n",
       "      <td>0.023460</td>\n",
       "      <td>-0.096093</td>\n",
       "      <td>-0.096123</td>\n",
       "    </tr>\n",
       "    <tr>\n",
       "      <th>2020-04-01</th>\n",
       "      <td>0.179496</td>\n",
       "      <td>0.114203</td>\n",
       "      <td>0.085411</td>\n",
       "      <td>-0.074889</td>\n",
       "      <td>0.624490</td>\n",
       "      <td>-0.499987</td>\n",
       "      <td>0.018238</td>\n",
       "      <td>0.024098</td>\n",
       "      <td>0.202169</td>\n",
       "      <td>0.186017</td>\n",
       "      <td>...</td>\n",
       "      <td>-0.325721</td>\n",
       "      <td>-0.301288</td>\n",
       "      <td>-0.519519</td>\n",
       "      <td>0.069117</td>\n",
       "      <td>-0.669265</td>\n",
       "      <td>0.038696</td>\n",
       "      <td>-0.341325</td>\n",
       "      <td>-0.247033</td>\n",
       "      <td>-0.008789</td>\n",
       "      <td>-0.322773</td>\n",
       "    </tr>\n",
       "    <tr>\n",
       "      <th>2021-04-01</th>\n",
       "      <td>0.519933</td>\n",
       "      <td>0.201874</td>\n",
       "      <td>0.148621</td>\n",
       "      <td>0.370929</td>\n",
       "      <td>0.414356</td>\n",
       "      <td>0.324353</td>\n",
       "      <td>1.114549</td>\n",
       "      <td>1.174985</td>\n",
       "      <td>0.437955</td>\n",
       "      <td>0.145059</td>\n",
       "      <td>...</td>\n",
       "      <td>0.260236</td>\n",
       "      <td>0.155040</td>\n",
       "      <td>0.742427</td>\n",
       "      <td>0.907658</td>\n",
       "      <td>1.013476</td>\n",
       "      <td>0.318697</td>\n",
       "      <td>0.279547</td>\n",
       "      <td>0.605660</td>\n",
       "      <td>0.132541</td>\n",
       "      <td>0.453107</td>\n",
       "    </tr>\n",
       "    <tr>\n",
       "      <th>2022-04-01</th>\n",
       "      <td>-0.213344</td>\n",
       "      <td>-1.172789</td>\n",
       "      <td>-0.128355</td>\n",
       "      <td>-0.148484</td>\n",
       "      <td>-0.000057</td>\n",
       "      <td>-0.195855</td>\n",
       "      <td>0.458075</td>\n",
       "      <td>0.420064</td>\n",
       "      <td>-0.240280</td>\n",
       "      <td>0.225955</td>\n",
       "      <td>...</td>\n",
       "      <td>-0.301098</td>\n",
       "      <td>0.101657</td>\n",
       "      <td>-1.036609</td>\n",
       "      <td>-0.500447</td>\n",
       "      <td>-0.285543</td>\n",
       "      <td>-0.433531</td>\n",
       "      <td>0.005889</td>\n",
       "      <td>-0.013015</td>\n",
       "      <td>-0.124702</td>\n",
       "      <td>-0.239533</td>\n",
       "    </tr>\n",
       "    <tr>\n",
       "      <th>2023-04-01</th>\n",
       "      <td>0.077407</td>\n",
       "      <td>-3.417490</td>\n",
       "      <td>0.555509</td>\n",
       "      <td>-0.314650</td>\n",
       "      <td>0.215449</td>\n",
       "      <td>-0.411005</td>\n",
       "      <td>-0.105361</td>\n",
       "      <td>-0.167933</td>\n",
       "      <td>0.295508</td>\n",
       "      <td>0.201742</td>\n",
       "      <td>...</td>\n",
       "      <td>-0.274954</td>\n",
       "      <td>-0.086136</td>\n",
       "      <td>0.015637</td>\n",
       "      <td>0.066243</td>\n",
       "      <td>0.429857</td>\n",
       "      <td>0.256595</td>\n",
       "      <td>-0.020527</td>\n",
       "      <td>-0.293053</td>\n",
       "      <td>0.098534</td>\n",
       "      <td>0.082013</td>\n",
       "    </tr>\n",
       "  </tbody>\n",
       "</table>\n",
       "<p>13 rows × 1440 columns</p>\n",
       "</div>"
      ],
      "text/plain": [
       "                   A     AACAY      AAON       AAP      AAPL       AAT   \n",
       "Date                                                                     \n",
       "2011-04-01  0.586536       NaN  0.355194  0.157275  0.288566       NaN  \\\n",
       "2012-04-01 -0.262032  0.236969 -0.135850  0.157420  0.553773  0.118403   \n",
       "2013-04-01  0.096460  0.672239  0.579970  0.177140 -0.372497  0.272265   \n",
       "2014-04-01  0.302534  0.160821  0.425140  0.510634  0.519973  0.140325   \n",
       "2015-04-01 -0.051032 -0.115751  0.015867  0.167745  0.318698  0.150757   \n",
       "2016-04-01  0.147733  0.427250  0.209181  0.016079 -0.253208  0.104247   \n",
       "2017-04-01  0.303812  0.417726  0.300240 -0.325103  0.430699 -0.049967   \n",
       "2018-04-01  0.048267  0.126121 -0.095620  0.154032  0.266694 -0.000329   \n",
       "2019-04-01  0.197754 -0.901004  0.420750  0.128950  0.082025  0.234518   \n",
       "2020-04-01  0.179496  0.114203  0.085411 -0.074889  0.624490 -0.499987   \n",
       "2021-04-01  0.519933  0.201874  0.148621  0.370929  0.414356  0.324353   \n",
       "2022-04-01 -0.213344 -1.172789 -0.128355 -0.148484 -0.000057 -0.195855   \n",
       "2023-04-01  0.077407 -3.417490  0.555509 -0.314650  0.215449 -0.411005   \n",
       "\n",
       "              AAV.TO     AAVVF       ABB       ABC  ...       SCS      SCSC   \n",
       "Date                                                ...                       \n",
       "2011-04-01  0.208848  0.311072  0.432402  0.276675  ...  0.410389  0.407736  \\\n",
       "2012-04-01 -0.934785 -0.982091 -0.439737 -0.038167  ... -0.199491 -0.201501   \n",
       "2013-04-01 -0.172378 -0.171769  0.321318  0.366548  ...  0.507091  0.043430   \n",
       "2014-04-01  0.546797  0.533907  0.093181  0.277842  ...  0.063954  0.173953   \n",
       "2015-04-01  0.096957 -0.061369 -0.064598  0.393655  ...  0.248629 -0.000525   \n",
       "2016-04-01 -0.090008 -0.122740 -0.015394 -0.280468  ... -0.297708 -0.025277   \n",
       "2017-04-01 -0.349925 -0.342614  0.267806  0.192442  ...  0.063109  0.082465   \n",
       "2018-04-01 -0.757914 -0.778140 -0.100735 -0.085640  ... -0.000325  0.000000   \n",
       "2019-04-01 -0.924843 -0.924388 -0.048113  0.017778  ...  0.272473 -0.213267   \n",
       "2020-04-01  0.018238  0.024098  0.202169  0.186017  ... -0.325721 -0.301288   \n",
       "2021-04-01  1.114549  1.174985  0.437955  0.145059  ...  0.260236  0.155040   \n",
       "2022-04-01  0.458075  0.420064 -0.240280  0.225955  ... -0.301098  0.101657   \n",
       "2023-04-01 -0.105361 -0.167933  0.295508  0.201742  ... -0.274954 -0.086136   \n",
       "\n",
       "                 SCU      SCVL       SCX     SDVKY       SEB       SEE   \n",
       "Date                                                                     \n",
       "2011-04-01  0.157262  0.385273  0.098881  0.378927  0.475129  0.210389  \\\n",
       "2012-04-01 -0.567271  0.066868  0.154782 -0.287481 -0.125421 -0.405714   \n",
       "2013-04-01  0.436124  0.166484  0.200970 -0.033939  0.243728  0.470759   \n",
       "2014-04-01  0.414057 -0.140848       NaN  0.169797  0.109136  0.373093   \n",
       "2015-04-01 -0.035830  0.346041 -0.000017 -0.169387  0.175310  0.421502   \n",
       "2016-04-01 -1.131736 -0.128979 -0.196490 -0.069521 -0.226121 -0.100356   \n",
       "2017-04-01 -0.391699 -0.174509  0.127574  0.484944  0.330909 -0.012960   \n",
       "2018-04-01 -0.233301  0.453672       NaN  0.132774 -0.006645 -0.038588   \n",
       "2019-04-01  0.227359 -0.147682  0.033797  0.061740  0.044744  0.023460   \n",
       "2020-04-01 -0.519519  0.069117 -0.669265  0.038696 -0.341325 -0.247033   \n",
       "2021-04-01  0.742427  0.907658  1.013476  0.318697  0.279547  0.605660   \n",
       "2022-04-01 -1.036609 -0.500447 -0.285543 -0.433531  0.005889 -0.013015   \n",
       "2023-04-01  0.015637  0.066243  0.429857  0.256595 -0.020527 -0.293053   \n",
       "\n",
       "                SEIC     SEKEY  \n",
       "Date                            \n",
       "2011-04-01  0.109220  0.301198  \n",
       "2012-04-01 -0.109512 -0.552735  \n",
       "2013-04-01  0.386543  0.316270  \n",
       "2014-04-01  0.155366  1.129708  \n",
       "2015-04-01  0.415696 -0.182981  \n",
       "2016-04-01 -0.009254 -0.104858  \n",
       "2017-04-01  0.122147  0.334316  \n",
       "2018-04-01  0.160220 -0.254660  \n",
       "2019-04-01 -0.096093 -0.096123  \n",
       "2020-04-01 -0.008789 -0.322773  \n",
       "2021-04-01  0.132541  0.453107  \n",
       "2022-04-01 -0.124702 -0.239533  \n",
       "2023-04-01  0.098534  0.082013  \n",
       "\n",
       "[13 rows x 1440 columns]"
      ]
     },
     "execution_count": 274,
     "metadata": {},
     "output_type": "execute_result"
    }
   ],
   "source": [
    "returns"
   ]
  },
  {
   "attachments": {},
   "cell_type": "markdown",
   "metadata": {},
   "source": [
    "To compose portfolios with lowest Operating Margin and highest Asset Turnover we need a way to select best candidates. To this end, I will constuct a matrix with the difference of normalized Asset Turnover and Operating Margin."
   ]
  },
  {
   "cell_type": "code",
   "execution_count": 275,
   "metadata": {},
   "outputs": [],
   "source": [
    "def min_max_scale(df: pd.DataFrame) -> pd.DataFrame:\n",
    "    df = (df - df.min()) / (df.max() - df.min())\n",
    "    return df.copy()"
   ]
  },
  {
   "cell_type": "code",
   "execution_count": 276,
   "metadata": {},
   "outputs": [
    {
     "data": {
      "text/html": [
       "<div>\n",
       "<style scoped>\n",
       "    .dataframe tbody tr th:only-of-type {\n",
       "        vertical-align: middle;\n",
       "    }\n",
       "\n",
       "    .dataframe tbody tr th {\n",
       "        vertical-align: top;\n",
       "    }\n",
       "\n",
       "    .dataframe thead th {\n",
       "        text-align: right;\n",
       "    }\n",
       "</style>\n",
       "<table border=\"1\" class=\"dataframe\">\n",
       "  <thead>\n",
       "    <tr style=\"text-align: right;\">\n",
       "      <th>date</th>\n",
       "      <th>2011-04-01</th>\n",
       "      <th>2012-04-01</th>\n",
       "      <th>2013-04-01</th>\n",
       "      <th>2014-04-01</th>\n",
       "      <th>2015-04-01</th>\n",
       "      <th>2016-04-01</th>\n",
       "      <th>2017-04-01</th>\n",
       "      <th>2018-04-01</th>\n",
       "      <th>2019-04-01</th>\n",
       "      <th>2020-04-01</th>\n",
       "      <th>2021-04-01</th>\n",
       "      <th>2022-04-01</th>\n",
       "      <th>2023-04-01</th>\n",
       "    </tr>\n",
       "  </thead>\n",
       "  <tbody>\n",
       "    <tr>\n",
       "      <th>count</th>\n",
       "      <td>1305.000000</td>\n",
       "      <td>1370.000000</td>\n",
       "      <td>1439.000000</td>\n",
       "      <td>1429.000000</td>\n",
       "      <td>1435.000000</td>\n",
       "      <td>1432.000000</td>\n",
       "      <td>1418.000000</td>\n",
       "      <td>1426.000000</td>\n",
       "      <td>1435.000000</td>\n",
       "      <td>1428.000000</td>\n",
       "      <td>1431.000000</td>\n",
       "      <td>1406.000000</td>\n",
       "      <td>1422.000000</td>\n",
       "    </tr>\n",
       "    <tr>\n",
       "      <th>mean</th>\n",
       "      <td>1.010640</td>\n",
       "      <td>1.036952</td>\n",
       "      <td>1.019370</td>\n",
       "      <td>0.999019</td>\n",
       "      <td>0.982535</td>\n",
       "      <td>0.927663</td>\n",
       "      <td>0.906086</td>\n",
       "      <td>0.894694</td>\n",
       "      <td>0.899375</td>\n",
       "      <td>0.863448</td>\n",
       "      <td>0.775266</td>\n",
       "      <td>0.809848</td>\n",
       "      <td>0.886950</td>\n",
       "    </tr>\n",
       "    <tr>\n",
       "      <th>std</th>\n",
       "      <td>0.924548</td>\n",
       "      <td>0.937170</td>\n",
       "      <td>0.926441</td>\n",
       "      <td>0.922335</td>\n",
       "      <td>0.898722</td>\n",
       "      <td>0.812468</td>\n",
       "      <td>0.762356</td>\n",
       "      <td>0.750489</td>\n",
       "      <td>0.757387</td>\n",
       "      <td>0.719789</td>\n",
       "      <td>0.650543</td>\n",
       "      <td>0.694917</td>\n",
       "      <td>0.774880</td>\n",
       "    </tr>\n",
       "    <tr>\n",
       "      <th>min</th>\n",
       "      <td>0.012465</td>\n",
       "      <td>0.013403</td>\n",
       "      <td>-0.242140</td>\n",
       "      <td>0.011240</td>\n",
       "      <td>0.012108</td>\n",
       "      <td>0.009632</td>\n",
       "      <td>0.009705</td>\n",
       "      <td>0.011975</td>\n",
       "      <td>-0.055927</td>\n",
       "      <td>0.014530</td>\n",
       "      <td>0.006633</td>\n",
       "      <td>-1.900920</td>\n",
       "      <td>-0.785907</td>\n",
       "    </tr>\n",
       "    <tr>\n",
       "      <th>25%</th>\n",
       "      <td>0.458644</td>\n",
       "      <td>0.463316</td>\n",
       "      <td>0.457041</td>\n",
       "      <td>0.439247</td>\n",
       "      <td>0.444430</td>\n",
       "      <td>0.406542</td>\n",
       "      <td>0.408310</td>\n",
       "      <td>0.396130</td>\n",
       "      <td>0.396954</td>\n",
       "      <td>0.387464</td>\n",
       "      <td>0.350576</td>\n",
       "      <td>0.383198</td>\n",
       "      <td>0.415301</td>\n",
       "    </tr>\n",
       "    <tr>\n",
       "      <th>50%</th>\n",
       "      <td>0.795539</td>\n",
       "      <td>0.842319</td>\n",
       "      <td>0.809636</td>\n",
       "      <td>0.788305</td>\n",
       "      <td>0.763038</td>\n",
       "      <td>0.726132</td>\n",
       "      <td>0.725221</td>\n",
       "      <td>0.726637</td>\n",
       "      <td>0.727441</td>\n",
       "      <td>0.689295</td>\n",
       "      <td>0.624593</td>\n",
       "      <td>0.670920</td>\n",
       "      <td>0.725911</td>\n",
       "    </tr>\n",
       "    <tr>\n",
       "      <th>75%</th>\n",
       "      <td>1.275752</td>\n",
       "      <td>1.323878</td>\n",
       "      <td>1.312991</td>\n",
       "      <td>1.282075</td>\n",
       "      <td>1.250650</td>\n",
       "      <td>1.211298</td>\n",
       "      <td>1.198630</td>\n",
       "      <td>1.180717</td>\n",
       "      <td>1.197453</td>\n",
       "      <td>1.130541</td>\n",
       "      <td>1.002793</td>\n",
       "      <td>1.035381</td>\n",
       "      <td>1.122223</td>\n",
       "    </tr>\n",
       "    <tr>\n",
       "      <th>max</th>\n",
       "      <td>11.221488</td>\n",
       "      <td>11.055405</td>\n",
       "      <td>11.010551</td>\n",
       "      <td>11.414836</td>\n",
       "      <td>11.504301</td>\n",
       "      <td>11.203356</td>\n",
       "      <td>11.212121</td>\n",
       "      <td>10.510263</td>\n",
       "      <td>9.729531</td>\n",
       "      <td>9.352953</td>\n",
       "      <td>8.799283</td>\n",
       "      <td>8.883930</td>\n",
       "      <td>8.873837</td>\n",
       "    </tr>\n",
       "  </tbody>\n",
       "</table>\n",
       "</div>"
      ],
      "text/plain": [
       "date    2011-04-01   2012-04-01   2013-04-01   2014-04-01   2015-04-01   \n",
       "count  1305.000000  1370.000000  1439.000000  1429.000000  1435.000000  \\\n",
       "mean      1.010640     1.036952     1.019370     0.999019     0.982535   \n",
       "std       0.924548     0.937170     0.926441     0.922335     0.898722   \n",
       "min       0.012465     0.013403    -0.242140     0.011240     0.012108   \n",
       "25%       0.458644     0.463316     0.457041     0.439247     0.444430   \n",
       "50%       0.795539     0.842319     0.809636     0.788305     0.763038   \n",
       "75%       1.275752     1.323878     1.312991     1.282075     1.250650   \n",
       "max      11.221488    11.055405    11.010551    11.414836    11.504301   \n",
       "\n",
       "date    2016-04-01   2017-04-01   2018-04-01   2019-04-01   2020-04-01   \n",
       "count  1432.000000  1418.000000  1426.000000  1435.000000  1428.000000  \\\n",
       "mean      0.927663     0.906086     0.894694     0.899375     0.863448   \n",
       "std       0.812468     0.762356     0.750489     0.757387     0.719789   \n",
       "min       0.009632     0.009705     0.011975    -0.055927     0.014530   \n",
       "25%       0.406542     0.408310     0.396130     0.396954     0.387464   \n",
       "50%       0.726132     0.725221     0.726637     0.727441     0.689295   \n",
       "75%       1.211298     1.198630     1.180717     1.197453     1.130541   \n",
       "max      11.203356    11.212121    10.510263     9.729531     9.352953   \n",
       "\n",
       "date    2021-04-01   2022-04-01   2023-04-01  \n",
       "count  1431.000000  1406.000000  1422.000000  \n",
       "mean      0.775266     0.809848     0.886950  \n",
       "std       0.650543     0.694917     0.774880  \n",
       "min       0.006633    -1.900920    -0.785907  \n",
       "25%       0.350576     0.383198     0.415301  \n",
       "50%       0.624593     0.670920     0.725911  \n",
       "75%       1.002793     1.035381     1.122223  \n",
       "max       8.799283     8.883930     8.873837  "
      ]
     },
     "execution_count": 276,
     "metadata": {},
     "output_type": "execute_result"
    }
   ],
   "source": [
    "asset_turnover.T.describe()"
   ]
  },
  {
   "cell_type": "code",
   "execution_count": 277,
   "metadata": {},
   "outputs": [
    {
     "data": {
      "text/plain": [
       "<Axes: >"
      ]
     },
     "execution_count": 277,
     "metadata": {},
     "output_type": "execute_result"
    },
    {
     "data": {
      "image/png": "[encoded data removed]",
      "text/plain": [
       "<Figure size 640x480 with 1 Axes>"
      ]
     },
     "metadata": {},
     "output_type": "display_data"
    }
   ],
   "source": [
    "asset_turnover.T[\"2011-04-01\"].hist()"
   ]
  },
  {
   "cell_type": "code",
   "execution_count": 278,
   "metadata": {},
   "outputs": [
    {
     "data": {
      "text/plain": [
       "A        0\n",
       "KMTUY    0\n",
       "KMT      0\n",
       "KMB      0\n",
       "KLIC     0\n",
       "        ..\n",
       "PCTI     3\n",
       "NLS      3\n",
       "EHTH     3\n",
       "AXON     3\n",
       "LPX      3\n",
       "Length: 1440, dtype: int64"
      ]
     },
     "execution_count": 278,
     "metadata": {},
     "output_type": "execute_result"
    }
   ],
   "source": [
    "asset_turnover.isna().sum().sort_values()"
   ]
  },
  {
   "cell_type": "code",
   "execution_count": 279,
   "metadata": {},
   "outputs": [],
   "source": [
    "diff_vector = (min_max_scale(asset_turnover.T) - min_max_scale(ychopmdf.T)).T"
   ]
  },
  {
   "cell_type": "code",
   "execution_count": 280,
   "metadata": {},
   "outputs": [
    {
     "name": "stdout",
     "output_type": "stream",
     "text": [
      "<class 'pandas.core.frame.DataFrame'>\n",
      "DatetimeIndex: 13 entries, 2011-04-01 to 2023-04-01\n",
      "Columns: 1440 entries, A to SEKEY\n",
      "dtypes: float64(1440)\n",
      "memory usage: 146.9 KB\n"
     ]
    }
   ],
   "source": [
    "diff_vector.info()"
   ]
  },
  {
   "cell_type": "code",
   "execution_count": 281,
   "metadata": {},
   "outputs": [
    {
     "data": {
      "image/png": "[encoded data removed]",
      "text/plain": [
       "<Figure size 1200x500 with 1 Axes>"
      ]
     },
     "metadata": {},
     "output_type": "display_data"
    }
   ],
   "source": [
    "diff_vector.T.plot(kind=\"box\", figsize=(12,5), rot=30, grid=True, sym=\"r+\")\n",
    "plt.show()"
   ]
  },
  {
   "cell_type": "code",
   "execution_count": 285,
   "metadata": {},
   "outputs": [],
   "source": [
    "from dataclasses import dataclass, fields\n",
    "from enum import Enum, auto\n",
    "\n",
    "\n",
    "class PortfolioType(Enum):\n",
    "    LOHT = auto()\n",
    "    HOLT = auto()\n",
    "\n",
    "\n",
    "@dataclass\n",
    "class Universe:\n",
    "    factors_df: pd.DataFrame\n",
    "    operating_margin: pd.DataFrame\n",
    "    asset_turnover: pd.DataFrame\n",
    "    yoy_returns: pd.DataFrame\n",
    "    volumes: pd.DataFrame\n",
    "    sectors_info: pd.DataFrame\n",
    "\n",
    "    def verify_candidates(self, candidates: list[str], year: pd.Timestamp) -> list[str]:\n",
    "        candidates_with_nas = set()\n",
    "        for field in fields(self):\n",
    "            if field.name != \"sectors_info\":\n",
    "                data_df_for_candidates = getattr(self, field.name).loc[:, candidates]\n",
    "                count_nas = data_df_for_candidates.isna().sum()\n",
    "                # print(field.name, count_nas.loc[count_nas > 0].index.to_list())\n",
    "                candidates_with_nas.update(count_nas.loc[count_nas > 0].index.to_list())\n",
    "            else:\n",
    "                continue\n",
    "        return sorted(candidates_with_nas)\n",
    "\n",
    "\n",
    "# a = ychopmdf.loc[:, ['LIF.TO', 'NHI', 'PW', 'MSB', 'ANIK', 'CRT']]\n",
    "# a.isna().sum().loc[a.isna().sum() > 0]\n",
    "\n",
    "\n",
    "@dataclass\n",
    "class Portfolio:\n",
    "    create_date: pd.Timestamp\n",
    "    hold: pd.DateOffset\n",
    "    ptype: PortfolioType\n",
    "\n",
    "    def __post_init__(self):\n",
    "        self.symbols: list[str] | None = None\n",
    "        self.info: pd.DataFrame | None = None\n",
    "\n",
    "    def fit(self, candidates: list[str], universe: Universe):\n",
    "        self.symbols = candidates\n",
    "        self.info = pd.concat(\n",
    "            [\n",
    "                universe.factors_df.loc[self.create_date, candidates],  # type: ignore\n",
    "                universe.yoy_returns.loc[self.create_date, candidates],  # type: ignore\n",
    "                universe.yoy_returns.loc[self.create_date + self.hold, candidates],  # type: ignore\n",
    "                universe.operating_margin.loc[self.create_date, candidates],  # type: ignore\n",
    "                universe.operating_margin.loc[self.create_date + self.hold, candidates],  # type: ignore\n",
    "                universe.asset_turnover.loc[self.create_date, candidates],  # type: ignore\n",
    "                universe.asset_turnover.loc[self.create_date + self.hold, candidates],  # type: ignore\n",
    "                universe.volumes.loc[self.create_date, candidates],  # type: ignore\n",
    "                universe.volumes.loc[self.create_date + self.hold, candidates],  # type: ignore\n",
    "            ],\n",
    "            axis=1,\n",
    "        )\n",
    "        self.info.columns = [\n",
    "            \"diff_vector\",\n",
    "            \"r_i\",\n",
    "            \"r_ii\",\n",
    "            \"opm_i\",\n",
    "            \"opm_ii\",\n",
    "            \"a_turnover_i\",\n",
    "            \"a_turnover_ii\",\n",
    "            \"volume_i\",\n",
    "            \"volume_ii\",\n",
    "        ]"
   ]
  },
  {
   "cell_type": "code",
   "execution_count": 295,
   "metadata": {},
   "outputs": [],
   "source": [
    "class Strategy:\n",
    "    def __init__(self):\n",
    "        self.portfolios: dict[str, tuple[Portfolio, Portfolio]] = dict()\n",
    "\n",
    "    @classmethod\n",
    "    def multi_delete(cls, list_: list[Any], args) -> list[Any]:\n",
    "        list_ = [e for e in list_ if e not in args]\n",
    "        return list_\n",
    "\n",
    "    def construct_portfolios(\n",
    "        self,\n",
    "        universe: Universe,\n",
    "        hold: pd.DateOffset,\n",
    "        plength: int = 6,\n",
    "    ):\n",
    "        for year in tqdm(universe.factors_df.index[:-1]):\n",
    "            lohts, holts = [], []\n",
    "            ranking: list[str] = (\n",
    "                universe.factors_df.loc[year].sort_values(ascending=False).dropna()\n",
    "            ).index.to_list()\n",
    "            while (found := False) != True and (counter := 100) > 0:\n",
    "                lohts, holts = ranking[:plength], ranking[-plength:]\n",
    "                lohts_misses = universe.verify_candidates(lohts, year + hold)\n",
    "                holts_misses = universe.verify_candidates(holts, year + hold)\n",
    "                # print(f\"{lohts_misses=}\")\n",
    "                # print(f\"{holts_misses=}\")\n",
    "                ranking = type(self).multi_delete(ranking, lohts_misses)\n",
    "                ranking = type(self).multi_delete(ranking, holts_misses)\n",
    "                # print(len(ranking), len(lohts_misses), len(holts_misses))\n",
    "                if (len(lohts_misses) + len(holts_misses)) == 0:\n",
    "                    found = True\n",
    "                    break\n",
    "                counter -= 1\n",
    "            loht_portfolio = Portfolio(create_date=year, hold=hold, ptype=PortfolioType.LOHT)\n",
    "            loht_portfolio.fit(candidates=lohts, universe=universe)\n",
    "            holt_portfolio = Portfolio(create_date=year, hold=hold, ptype=PortfolioType.HOLT)\n",
    "            holt_portfolio.fit(candidates=lohts, universe=universe)\n",
    "            year_str = year.strftime(\"%Y-%m-%d\")\n",
    "            self.portfolios[year_str] = (loht_portfolio, holt_portfolio)  # type: ignore"
   ]
  },
  {
   "cell_type": "code",
   "execution_count": 296,
   "metadata": {},
   "outputs": [
    {
     "name": "stderr",
     "output_type": "stream",
     "text": [
      "100%|██████████| 12/12 [00:00<00:00, 28.60it/s]\n"
     ]
    }
   ],
   "source": [
    "universe = Universe(diff_vector, ychopmdf, asset_turnover, returns, volume, company_info)\n",
    "strategy = Strategy()\n",
    "strategy.construct_portfolios(universe, pd.DateOffset(years=1))"
   ]
  },
  {
   "cell_type": "code",
   "execution_count": 297,
   "metadata": {},
   "outputs": [],
   "source": [
    "# strategy.portfolios['2011-04-01'][0].info\n",
    "\n",
    "atest_df = pd.concat([port[0].info for port in strategy.portfolios.values()]) # type: ignore"
   ]
  },
  {
   "cell_type": "code",
   "execution_count": null,
   "metadata": {},
   "outputs": [
    {
     "data": {
      "text/plain": [
       "True"
      ]
     },
     "execution_count": 205,
     "metadata": {},
     "output_type": "execute_result"
    }
   ],
   "source": [
    "bool([1])"
   ]
  },
  {
   "cell_type": "code",
   "execution_count": null,
   "metadata": {},
   "outputs": [
    {
     "data": {
      "text/plain": [
       "date\n",
       "2011-04-01    0.153500\n",
       "2012-04-01    0.171575\n",
       "2013-04-01    0.268500\n",
       "2014-04-01    0.388425\n",
       "2015-04-01    0.570950\n",
       "2016-04-01    0.499800\n",
       "2017-04-01    0.517600\n",
       "2018-04-01    0.440600\n",
       "2019-04-01    0.222925\n",
       "2020-04-01    0.324825\n",
       "2021-04-01    0.048400\n",
       "2022-04-01   -1.640877\n",
       "2023-04-01         NaN\n",
       "Name: ANIK, dtype: float64"
      ]
     },
     "execution_count": 160,
     "metadata": {},
     "output_type": "execute_result"
    }
   ],
   "source": [
    "ychopmdf.loc[:, \"ANIK\"]"
   ]
  },
  {
   "cell_type": "code",
   "execution_count": null,
   "metadata": {},
   "outputs": [
    {
     "data": {
      "text/plain": [
       "[<matplotlib.lines.Line2D at 0x2640ffa97d0>]"
      ]
     },
     "execution_count": 142,
     "metadata": {},
     "output_type": "execute_result"
    },
    {
     "data": {
      "image/png": "[encoded data removed]",
      "text/plain": [
       "<Figure size 640x480 with 1 Axes>"
      ]
     },
     "metadata": {},
     "output_type": "display_data"
    }
   ],
   "source": [
    "plt.plot([prices.dropna(axis=1, thresh=i).shape[1] for i in range(13)])"
   ]
  },
  {
   "cell_type": "code",
   "execution_count": null,
   "metadata": {},
   "outputs": [
    {
     "data": {
      "text/plain": [
       "A        0\n",
       "AACAY    1\n",
       "AAON     0\n",
       "AAP      0\n",
       "AAPL     0\n",
       "        ..\n",
       "SDVKY    0\n",
       "SEB      0\n",
       "SEE      0\n",
       "SEIC     0\n",
       "SEKEY    0\n",
       "Length: 1440, dtype: int64"
      ]
     },
     "execution_count": 143,
     "metadata": {},
     "output_type": "execute_result"
    }
   ],
   "source": [
    "(prices.isna().sum())"
   ]
  },
  {
   "cell_type": "code",
   "execution_count": null,
   "metadata": {},
   "outputs": [
    {
     "data": {
      "text/plain": [
       "Date\n",
       "2011-04-01    19.116041\n",
       "2012-04-01    32.295795\n",
       "2013-04-01    54.110939\n",
       "2014-04-01    62.233257\n",
       "2015-04-01    36.056576\n",
       "2016-04-01    31.798153\n",
       "2017-04-01    34.728657\n",
       "2018-04-01    34.471493\n",
       "2019-04-01    30.235395\n",
       "2020-04-01    24.346373\n",
       "2021-04-01    25.929681\n",
       "2022-04-01    31.382593\n",
       "2023-04-01    33.299999\n",
       "Name: AE, dtype: float64"
      ]
     },
     "execution_count": 148,
     "metadata": {},
     "output_type": "execute_result"
    }
   ],
   "source": [
    "prices.loc[:, \"AE\"]"
   ]
  },
  {
   "cell_type": "code",
   "execution_count": null,
   "metadata": {},
   "outputs": [
    {
     "data": {
      "text/plain": [
       "DatetimeIndex(['2011-04-01', '2012-04-01', '2013-04-01', '2014-04-01',\n",
       "               '2015-04-01', '2016-04-01', '2017-04-01', '2018-04-01',\n",
       "               '2019-04-01', '2020-04-01', '2021-04-01', '2022-04-01'],\n",
       "              dtype='datetime64[ns]', name='date', freq=None)"
      ]
     },
     "execution_count": 149,
     "metadata": {},
     "output_type": "execute_result"
    }
   ],
   "source": [
    "diff_vector.index[:-1]"
   ]
  },
  {
   "cell_type": "code",
   "execution_count": null,
   "metadata": {},
   "outputs": [
    {
     "data": {
      "text/plain": [
       "Index(['LIF.TO', 'NHI', 'PW', 'MSB', 'HKXCY', 'CRT'], dtype='object')"
      ]
     },
     "execution_count": 161,
     "metadata": {},
     "output_type": "execute_result"
    }
   ],
   "source": [
    "year = diff_vector.index[0]\n",
    "test = diff_vector.loc[year].sort_values(ascending=False).dropna()\n",
    "symbols = test[-6:].index\n",
    "symbols"
   ]
  },
  {
   "cell_type": "code",
   "execution_count": null,
   "metadata": {},
   "outputs": [
    {
     "data": {
      "text/plain": [
       "['PW', 'MSB', 'CRT']"
      ]
     },
     "execution_count": 252,
     "metadata": {},
     "output_type": "execute_result"
    }
   ],
   "source": [
    "a = ['LIF.TO', 'NHI', 'PW', 'MSB', 'CRT']\n",
    "Strategy.multi_delete(a, ['LIF.TO', 'NHI'])"
   ]
  },
  {
   "cell_type": "code",
   "execution_count": null,
   "metadata": {},
   "outputs": [
    {
     "data": {
      "text/plain": [
       "Index([], dtype='object')"
      ]
     },
     "execution_count": 188,
     "metadata": {},
     "output_type": "execute_result"
    }
   ],
   "source": [
    "a = ychopmdf.loc[:, ['LIF.TO', 'NHI', 'PW', 'MSB', 'CRT']]\n",
    "pd.Index(a.isna().sum().loc[a.isna().sum() > 0].index)"
   ]
  },
  {
   "cell_type": "code",
   "execution_count": null,
   "metadata": {},
   "outputs": [
    {
     "data": {
      "text/html": [
       "<div>\n",
       "<style scoped>\n",
       "    .dataframe tbody tr th:only-of-type {\n",
       "        vertical-align: middle;\n",
       "    }\n",
       "\n",
       "    .dataframe tbody tr th {\n",
       "        vertical-align: top;\n",
       "    }\n",
       "\n",
       "    .dataframe thead th {\n",
       "        text-align: right;\n",
       "    }\n",
       "</style>\n",
       "<table border=\"1\" class=\"dataframe\">\n",
       "  <thead>\n",
       "    <tr style=\"text-align: right;\">\n",
       "      <th></th>\n",
       "      <th>diff</th>\n",
       "    </tr>\n",
       "  </thead>\n",
       "  <tbody>\n",
       "    <tr>\n",
       "      <th>LIF.TO</th>\n",
       "      <td>-0.744480</td>\n",
       "    </tr>\n",
       "    <tr>\n",
       "      <th>NHI</th>\n",
       "      <td>-0.758038</td>\n",
       "    </tr>\n",
       "    <tr>\n",
       "      <th>PW</th>\n",
       "      <td>-0.846656</td>\n",
       "    </tr>\n",
       "    <tr>\n",
       "      <th>MSB</th>\n",
       "      <td>-0.849395</td>\n",
       "    </tr>\n",
       "    <tr>\n",
       "      <th>HKXCY</th>\n",
       "      <td>-0.854122</td>\n",
       "    </tr>\n",
       "    <tr>\n",
       "      <th>CRT</th>\n",
       "      <td>-0.908996</td>\n",
       "    </tr>\n",
       "  </tbody>\n",
       "</table>\n",
       "</div>"
      ],
      "text/plain": [
       "            diff\n",
       "LIF.TO -0.744480\n",
       "NHI    -0.758038\n",
       "PW     -0.846656\n",
       "MSB    -0.849395\n",
       "HKXCY  -0.854122\n",
       "CRT    -0.908996"
      ]
     },
     "execution_count": 151,
     "metadata": {},
     "output_type": "execute_result"
    }
   ],
   "source": [
    "test_df = pd.DataFrame(test[-6:])\n",
    "test_df.columns = [\"diff\"]\n",
    "test_df"
   ]
  },
  {
   "cell_type": "code",
   "execution_count": null,
   "metadata": {},
   "outputs": [],
   "source": [
    "holts_names = test[-6:].index"
   ]
  },
  {
   "cell_type": "code",
   "execution_count": null,
   "metadata": {},
   "outputs": [
    {
     "data": {
      "text/plain": [
       "LIF.TO   -0.744480\n",
       "NHI      -0.758038\n",
       "PW       -0.846656\n",
       "MSB      -0.849395\n",
       "HKXCY    -0.854122\n",
       "CRT      -0.908996\n",
       "Name: 2011-04-01 00:00:00, dtype: float64"
      ]
     },
     "execution_count": 153,
     "metadata": {},
     "output_type": "execute_result"
    }
   ],
   "source": [
    "diff_vector.loc[year, holts_names] # type: ignore"
   ]
  },
  {
   "cell_type": "code",
   "execution_count": null,
   "metadata": {},
   "outputs": [],
   "source": [
    "test_df.loc[:, \"operating_margin\"] = ychopmdf.loc[year, holts_names]"
   ]
  },
  {
   "cell_type": "code",
   "execution_count": null,
   "metadata": {},
   "outputs": [
    {
     "data": {
      "text/html": [
       "<div>\n",
       "<style scoped>\n",
       "    .dataframe tbody tr th:only-of-type {\n",
       "        vertical-align: middle;\n",
       "    }\n",
       "\n",
       "    .dataframe tbody tr th {\n",
       "        vertical-align: top;\n",
       "    }\n",
       "\n",
       "    .dataframe thead th {\n",
       "        text-align: right;\n",
       "    }\n",
       "</style>\n",
       "<table border=\"1\" class=\"dataframe\">\n",
       "  <thead>\n",
       "    <tr style=\"text-align: right;\">\n",
       "      <th></th>\n",
       "      <th>diff</th>\n",
       "      <th>operating_margin</th>\n",
       "      <th>2011-04-01 00:00:00</th>\n",
       "      <th>2011-04-01 00:00:00</th>\n",
       "      <th>2011-04-01 00:00:00</th>\n",
       "    </tr>\n",
       "  </thead>\n",
       "  <tbody>\n",
       "    <tr>\n",
       "      <th>LIF.TO</th>\n",
       "      <td>-0.744480</td>\n",
       "      <td>0.748900</td>\n",
       "      <td>0.748900</td>\n",
       "      <td>0.274136</td>\n",
       "      <td>0.679319</td>\n",
       "    </tr>\n",
       "    <tr>\n",
       "      <th>NHI</th>\n",
       "      <td>-0.758038</td>\n",
       "      <td>0.753100</td>\n",
       "      <td>0.753100</td>\n",
       "      <td>0.170497</td>\n",
       "      <td>0.196301</td>\n",
       "    </tr>\n",
       "    <tr>\n",
       "      <th>PW</th>\n",
       "      <td>-0.846656</td>\n",
       "      <td>0.833250</td>\n",
       "      <td>0.833250</td>\n",
       "      <td>0.099516</td>\n",
       "      <td>0.201585</td>\n",
       "    </tr>\n",
       "    <tr>\n",
       "      <th>MSB</th>\n",
       "      <td>-0.849395</td>\n",
       "      <td>0.966333</td>\n",
       "      <td>0.966333</td>\n",
       "      <td>1.600290</td>\n",
       "      <td>0.734205</td>\n",
       "    </tr>\n",
       "    <tr>\n",
       "      <th>HKXCY</th>\n",
       "      <td>-0.854122</td>\n",
       "      <td>0.845100</td>\n",
       "      <td>0.845100</td>\n",
       "      <td>0.152197</td>\n",
       "      <td>0.326032</td>\n",
       "    </tr>\n",
       "    <tr>\n",
       "      <th>CRT</th>\n",
       "      <td>-0.908996</td>\n",
       "      <td>0.975050</td>\n",
       "      <td>0.975050</td>\n",
       "      <td>1.032530</td>\n",
       "      <td>0.325224</td>\n",
       "    </tr>\n",
       "  </tbody>\n",
       "</table>\n",
       "</div>"
      ],
      "text/plain": [
       "            diff  operating_margin  2011-04-01 00:00:00  2011-04-01 00:00:00   \n",
       "LIF.TO -0.744480          0.748900             0.748900             0.274136  \\\n",
       "NHI    -0.758038          0.753100             0.753100             0.170497   \n",
       "PW     -0.846656          0.833250             0.833250             0.099516   \n",
       "MSB    -0.849395          0.966333             0.966333             1.600290   \n",
       "HKXCY  -0.854122          0.845100             0.845100             0.152197   \n",
       "CRT    -0.908996          0.975050             0.975050             1.032530   \n",
       "\n",
       "        2011-04-01 00:00:00  \n",
       "LIF.TO             0.679319  \n",
       "NHI                0.196301  \n",
       "PW                 0.201585  \n",
       "MSB                0.734205  \n",
       "HKXCY              0.326032  \n",
       "CRT                0.325224  "
      ]
     },
     "execution_count": 155,
     "metadata": {},
     "output_type": "execute_result"
    }
   ],
   "source": [
    "pd.concat(\n",
    "    [\n",
    "        test_df,\n",
    "        ychopmdf.loc[year, holts_names],\n",
    "        asset_turnover.loc[year, holts_names],\n",
    "        returns.loc[year, holts_names],\n",
    "    ],\n",
    "    axis=1,\n",
    ")"
   ]
  },
  {
   "cell_type": "code",
   "execution_count": null,
   "metadata": {},
   "outputs": [
    {
     "ename": "ValueError",
     "evalue": "columns overlap but no suffix specified: Index(['operating_margin'], dtype='object')",
     "output_type": "error",
     "traceback": [
      "\u001b[1;31m---------------------------------------------------------------------------\u001b[0m",
      "\u001b[1;31mValueError\u001b[0m                                Traceback (most recent call last)",
      "Cell \u001b[1;32mIn[156], line 1\u001b[0m\n\u001b[1;32m----> 1\u001b[0m test_df\u001b[39m.\u001b[39;49mjoin(pd\u001b[39m.\u001b[39;49mSeries(ychopmdf\u001b[39m.\u001b[39;49mloc[year, holts_names], name\u001b[39m=\u001b[39;49m\u001b[39m\"\u001b[39;49m\u001b[39moperating_margin\u001b[39;49m\u001b[39m\"\u001b[39;49m))\n",
      "File \u001b[1;32mc:\\Users\\drouni\\YandexDisk\\HSE\\VKRM\\vkrm_code\\.venv\\Lib\\site-packages\\pandas\\core\\frame.py:9734\u001b[0m, in \u001b[0;36mDataFrame.join\u001b[1;34m(self, other, on, how, lsuffix, rsuffix, sort, validate)\u001b[0m\n\u001b[0;32m   9571\u001b[0m \u001b[39mdef\u001b[39;00m \u001b[39mjoin\u001b[39m(\n\u001b[0;32m   9572\u001b[0m     \u001b[39mself\u001b[39m,\n\u001b[0;32m   9573\u001b[0m     other: DataFrame \u001b[39m|\u001b[39m Series \u001b[39m|\u001b[39m Iterable[DataFrame \u001b[39m|\u001b[39m Series],\n\u001b[1;32m   (...)\u001b[0m\n\u001b[0;32m   9579\u001b[0m     validate: \u001b[39mstr\u001b[39m \u001b[39m|\u001b[39m \u001b[39mNone\u001b[39;00m \u001b[39m=\u001b[39m \u001b[39mNone\u001b[39;00m,\n\u001b[0;32m   9580\u001b[0m ) \u001b[39m-\u001b[39m\u001b[39m>\u001b[39m DataFrame:\n\u001b[0;32m   9581\u001b[0m \u001b[39m    \u001b[39m\u001b[39m\"\"\"\u001b[39;00m\n\u001b[0;32m   9582\u001b[0m \u001b[39m    Join columns of another DataFrame.\u001b[39;00m\n\u001b[0;32m   9583\u001b[0m \n\u001b[1;32m   (...)\u001b[0m\n\u001b[0;32m   9732\u001b[0m \u001b[39m    5  K1  A5   B1\u001b[39;00m\n\u001b[0;32m   9733\u001b[0m \u001b[39m    \"\"\"\u001b[39;00m\n\u001b[1;32m-> 9734\u001b[0m     \u001b[39mreturn\u001b[39;00m \u001b[39mself\u001b[39;49m\u001b[39m.\u001b[39;49m_join_compat(\n\u001b[0;32m   9735\u001b[0m         other,\n\u001b[0;32m   9736\u001b[0m         on\u001b[39m=\u001b[39;49mon,\n\u001b[0;32m   9737\u001b[0m         how\u001b[39m=\u001b[39;49mhow,\n\u001b[0;32m   9738\u001b[0m         lsuffix\u001b[39m=\u001b[39;49mlsuffix,\n\u001b[0;32m   9739\u001b[0m         rsuffix\u001b[39m=\u001b[39;49mrsuffix,\n\u001b[0;32m   9740\u001b[0m         sort\u001b[39m=\u001b[39;49msort,\n\u001b[0;32m   9741\u001b[0m         validate\u001b[39m=\u001b[39;49mvalidate,\n\u001b[0;32m   9742\u001b[0m     )\n",
      "File \u001b[1;32mc:\\Users\\drouni\\YandexDisk\\HSE\\VKRM\\vkrm_code\\.venv\\Lib\\site-packages\\pandas\\core\\frame.py:9773\u001b[0m, in \u001b[0;36mDataFrame._join_compat\u001b[1;34m(self, other, on, how, lsuffix, rsuffix, sort, validate)\u001b[0m\n\u001b[0;32m   9763\u001b[0m     \u001b[39mif\u001b[39;00m how \u001b[39m==\u001b[39m \u001b[39m\"\u001b[39m\u001b[39mcross\u001b[39m\u001b[39m\"\u001b[39m:\n\u001b[0;32m   9764\u001b[0m         \u001b[39mreturn\u001b[39;00m merge(\n\u001b[0;32m   9765\u001b[0m             \u001b[39mself\u001b[39m,\n\u001b[0;32m   9766\u001b[0m             other,\n\u001b[1;32m   (...)\u001b[0m\n\u001b[0;32m   9771\u001b[0m             validate\u001b[39m=\u001b[39mvalidate,\n\u001b[0;32m   9772\u001b[0m         )\n\u001b[1;32m-> 9773\u001b[0m     \u001b[39mreturn\u001b[39;00m merge(\n\u001b[0;32m   9774\u001b[0m         \u001b[39mself\u001b[39;49m,\n\u001b[0;32m   9775\u001b[0m         other,\n\u001b[0;32m   9776\u001b[0m         left_on\u001b[39m=\u001b[39;49mon,\n\u001b[0;32m   9777\u001b[0m         how\u001b[39m=\u001b[39;49mhow,\n\u001b[0;32m   9778\u001b[0m         left_index\u001b[39m=\u001b[39;49mon \u001b[39mis\u001b[39;49;00m \u001b[39mNone\u001b[39;49;00m,\n\u001b[0;32m   9779\u001b[0m         right_index\u001b[39m=\u001b[39;49m\u001b[39mTrue\u001b[39;49;00m,\n\u001b[0;32m   9780\u001b[0m         suffixes\u001b[39m=\u001b[39;49m(lsuffix, rsuffix),\n\u001b[0;32m   9781\u001b[0m         sort\u001b[39m=\u001b[39;49msort,\n\u001b[0;32m   9782\u001b[0m         validate\u001b[39m=\u001b[39;49mvalidate,\n\u001b[0;32m   9783\u001b[0m     )\n\u001b[0;32m   9784\u001b[0m \u001b[39melse\u001b[39;00m:\n\u001b[0;32m   9785\u001b[0m     \u001b[39mif\u001b[39;00m on \u001b[39mis\u001b[39;00m \u001b[39mnot\u001b[39;00m \u001b[39mNone\u001b[39;00m:\n",
      "File \u001b[1;32mc:\\Users\\drouni\\YandexDisk\\HSE\\VKRM\\vkrm_code\\.venv\\Lib\\site-packages\\pandas\\core\\reshape\\merge.py:158\u001b[0m, in \u001b[0;36mmerge\u001b[1;34m(left, right, how, on, left_on, right_on, left_index, right_index, sort, suffixes, copy, indicator, validate)\u001b[0m\n\u001b[0;32m    127\u001b[0m \u001b[39m@Substitution\u001b[39m(\u001b[39m\"\u001b[39m\u001b[39m\\n\u001b[39;00m\u001b[39mleft : DataFrame or named Series\u001b[39m\u001b[39m\"\u001b[39m)\n\u001b[0;32m    128\u001b[0m \u001b[39m@Appender\u001b[39m(_merge_doc, indents\u001b[39m=\u001b[39m\u001b[39m0\u001b[39m)\n\u001b[0;32m    129\u001b[0m \u001b[39mdef\u001b[39;00m \u001b[39mmerge\u001b[39m(\n\u001b[1;32m   (...)\u001b[0m\n\u001b[0;32m    142\u001b[0m     validate: \u001b[39mstr\u001b[39m \u001b[39m|\u001b[39m \u001b[39mNone\u001b[39;00m \u001b[39m=\u001b[39m \u001b[39mNone\u001b[39;00m,\n\u001b[0;32m    143\u001b[0m ) \u001b[39m-\u001b[39m\u001b[39m>\u001b[39m DataFrame:\n\u001b[0;32m    144\u001b[0m     op \u001b[39m=\u001b[39m _MergeOperation(\n\u001b[0;32m    145\u001b[0m         left,\n\u001b[0;32m    146\u001b[0m         right,\n\u001b[1;32m   (...)\u001b[0m\n\u001b[0;32m    156\u001b[0m         validate\u001b[39m=\u001b[39mvalidate,\n\u001b[0;32m    157\u001b[0m     )\n\u001b[1;32m--> 158\u001b[0m     \u001b[39mreturn\u001b[39;00m op\u001b[39m.\u001b[39;49mget_result(copy\u001b[39m=\u001b[39;49mcopy)\n",
      "File \u001b[1;32mc:\\Users\\drouni\\YandexDisk\\HSE\\VKRM\\vkrm_code\\.venv\\Lib\\site-packages\\pandas\\core\\reshape\\merge.py:807\u001b[0m, in \u001b[0;36m_MergeOperation.get_result\u001b[1;34m(self, copy)\u001b[0m\n\u001b[0;32m    803\u001b[0m     \u001b[39mself\u001b[39m\u001b[39m.\u001b[39mleft, \u001b[39mself\u001b[39m\u001b[39m.\u001b[39mright \u001b[39m=\u001b[39m \u001b[39mself\u001b[39m\u001b[39m.\u001b[39m_indicator_pre_merge(\u001b[39mself\u001b[39m\u001b[39m.\u001b[39mleft, \u001b[39mself\u001b[39m\u001b[39m.\u001b[39mright)\n\u001b[0;32m    805\u001b[0m join_index, left_indexer, right_indexer \u001b[39m=\u001b[39m \u001b[39mself\u001b[39m\u001b[39m.\u001b[39m_get_join_info()\n\u001b[1;32m--> 807\u001b[0m result \u001b[39m=\u001b[39m \u001b[39mself\u001b[39;49m\u001b[39m.\u001b[39;49m_reindex_and_concat(\n\u001b[0;32m    808\u001b[0m     join_index, left_indexer, right_indexer, copy\u001b[39m=\u001b[39;49mcopy\n\u001b[0;32m    809\u001b[0m )\n\u001b[0;32m    810\u001b[0m result \u001b[39m=\u001b[39m result\u001b[39m.\u001b[39m__finalize__(\u001b[39mself\u001b[39m, method\u001b[39m=\u001b[39m\u001b[39mself\u001b[39m\u001b[39m.\u001b[39m_merge_type)\n\u001b[0;32m    812\u001b[0m \u001b[39mif\u001b[39;00m \u001b[39mself\u001b[39m\u001b[39m.\u001b[39mindicator:\n",
      "File \u001b[1;32mc:\\Users\\drouni\\YandexDisk\\HSE\\VKRM\\vkrm_code\\.venv\\Lib\\site-packages\\pandas\\core\\reshape\\merge.py:759\u001b[0m, in \u001b[0;36m_MergeOperation._reindex_and_concat\u001b[1;34m(self, join_index, left_indexer, right_indexer, copy)\u001b[0m\n\u001b[0;32m    756\u001b[0m left \u001b[39m=\u001b[39m \u001b[39mself\u001b[39m\u001b[39m.\u001b[39mleft[:]\n\u001b[0;32m    757\u001b[0m right \u001b[39m=\u001b[39m \u001b[39mself\u001b[39m\u001b[39m.\u001b[39mright[:]\n\u001b[1;32m--> 759\u001b[0m llabels, rlabels \u001b[39m=\u001b[39m _items_overlap_with_suffix(\n\u001b[0;32m    760\u001b[0m     \u001b[39mself\u001b[39;49m\u001b[39m.\u001b[39;49mleft\u001b[39m.\u001b[39;49m_info_axis, \u001b[39mself\u001b[39;49m\u001b[39m.\u001b[39;49mright\u001b[39m.\u001b[39;49m_info_axis, \u001b[39mself\u001b[39;49m\u001b[39m.\u001b[39;49msuffixes\n\u001b[0;32m    761\u001b[0m )\n\u001b[0;32m    763\u001b[0m \u001b[39mif\u001b[39;00m left_indexer \u001b[39mis\u001b[39;00m \u001b[39mnot\u001b[39;00m \u001b[39mNone\u001b[39;00m \u001b[39mand\u001b[39;00m \u001b[39mnot\u001b[39;00m is_range_indexer(left_indexer, \u001b[39mlen\u001b[39m(left)):\n\u001b[0;32m    764\u001b[0m     \u001b[39m# Pinning the index here (and in the right code just below) is not\u001b[39;00m\n\u001b[0;32m    765\u001b[0m     \u001b[39m#  necessary, but makes the `.take` more performant if we have e.g.\u001b[39;00m\n\u001b[0;32m    766\u001b[0m     \u001b[39m#  a MultiIndex for left.index.\u001b[39;00m\n\u001b[0;32m    767\u001b[0m     lmgr \u001b[39m=\u001b[39m left\u001b[39m.\u001b[39m_mgr\u001b[39m.\u001b[39mreindex_indexer(\n\u001b[0;32m    768\u001b[0m         join_index,\n\u001b[0;32m    769\u001b[0m         left_indexer,\n\u001b[1;32m   (...)\u001b[0m\n\u001b[0;32m    774\u001b[0m         use_na_proxy\u001b[39m=\u001b[39m\u001b[39mTrue\u001b[39;00m,\n\u001b[0;32m    775\u001b[0m     )\n",
      "File \u001b[1;32mc:\\Users\\drouni\\YandexDisk\\HSE\\VKRM\\vkrm_code\\.venv\\Lib\\site-packages\\pandas\\core\\reshape\\merge.py:2572\u001b[0m, in \u001b[0;36m_items_overlap_with_suffix\u001b[1;34m(left, right, suffixes)\u001b[0m\n\u001b[0;32m   2569\u001b[0m lsuffix, rsuffix \u001b[39m=\u001b[39m suffixes\n\u001b[0;32m   2571\u001b[0m \u001b[39mif\u001b[39;00m \u001b[39mnot\u001b[39;00m lsuffix \u001b[39mand\u001b[39;00m \u001b[39mnot\u001b[39;00m rsuffix:\n\u001b[1;32m-> 2572\u001b[0m     \u001b[39mraise\u001b[39;00m \u001b[39mValueError\u001b[39;00m(\u001b[39mf\u001b[39m\u001b[39m\"\u001b[39m\u001b[39mcolumns overlap but no suffix specified: \u001b[39m\u001b[39m{\u001b[39;00mto_rename\u001b[39m}\u001b[39;00m\u001b[39m\"\u001b[39m)\n\u001b[0;32m   2574\u001b[0m \u001b[39mdef\u001b[39;00m \u001b[39mrenamer\u001b[39m(x, suffix):\n\u001b[0;32m   2575\u001b[0m \u001b[39m    \u001b[39m\u001b[39m\"\"\"\u001b[39;00m\n\u001b[0;32m   2576\u001b[0m \u001b[39m    Rename the left and right indices.\u001b[39;00m\n\u001b[0;32m   2577\u001b[0m \n\u001b[1;32m   (...)\u001b[0m\n\u001b[0;32m   2588\u001b[0m \u001b[39m    x : renamed column name\u001b[39;00m\n\u001b[0;32m   2589\u001b[0m \u001b[39m    \"\"\"\u001b[39;00m\n",
      "\u001b[1;31mValueError\u001b[0m: columns overlap but no suffix specified: Index(['operating_margin'], dtype='object')"
     ]
    }
   ],
   "source": [
    "test_df.join(pd.Series(ychopmdf.loc[year, holts_names], name=\"operating_margin\"))"
   ]
  }
 ],
 "metadata": {
  "kernelspec": {
   "display_name": ".venv",
   "language": "python",
   "name": "python3"
  },
  "language_info": {
   "codemirror_mode": {
    "name": "ipython",
    "version": 3
   },
   "file_extension": ".py",
   "mimetype": "text/x-python",
   "name": "python",
   "nbconvert_exporter": "python",
   "pygments_lexer": "ipython3",
   "version": "3.11.3"
  },
  "orig_nbformat": 4
 },
 "nbformat": 4,
 "nbformat_minor": 2
}
