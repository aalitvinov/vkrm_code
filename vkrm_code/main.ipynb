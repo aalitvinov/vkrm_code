{
 "cells": [
  {
   "attachments": {},
   "cell_type": "markdown",
   "metadata": {},
   "source": [
    "# Plan\n",
    "\n",
    "1. We can narrow down the list of companies by filtering out those with many missing values in the ycharts operating margin dataset.\n",
    "1. Next, we can use the yfinance python library to check which of the remaining companies have stock prices available in the yfinance dataset.\n",
    "1. Finally, we can use ycharts to obtain the turnover for the companies that passed both filters.\n"
   ]
  },
  {
   "cell_type": "code",
   "execution_count": 145,
   "metadata": {},
   "outputs": [],
   "source": [
    "import numpy as np\n",
    "import pandas as pd\n",
    "import matplotlib.pyplot as plt\n",
    "from datetime import datetime\n",
    "import yfinance as yf\n"
   ]
  },
  {
   "cell_type": "code",
   "execution_count": 119,
   "metadata": {},
   "outputs": [],
   "source": [
    "import json\n",
    "\n",
    "with open(\"./data/ych_filtered_tickers.json\") as jsf:\n",
    "    ych_filtered_tickers = json.load(jsf)\n",
    "ychopmdf = (\n",
    "    pd.read_csv(\n",
    "        \"data/ycharts_opm/ycharts_opm_filtered_for_use.csv\",\n",
    "        parse_dates=True,\n",
    "        index_col=0,\n",
    "    )\n",
    "    .sort_index(axis=1)\n",
    "    .sort_index(axis=0)\n",
    ")"
   ]
  },
  {
   "cell_type": "code",
   "execution_count": 82,
   "metadata": {},
   "outputs": [
    {
     "data": {
      "text/plain": [
       "['A', 'AACAF', 'AACAY', 'AAGRY', 'AAHIF']"
      ]
     },
     "execution_count": 82,
     "metadata": {},
     "output_type": "execute_result"
    }
   ],
   "source": [
    "ych_filtered_tickers[:5]\n"
   ]
  },
  {
   "cell_type": "code",
   "execution_count": 83,
   "metadata": {},
   "outputs": [
    {
     "name": "stdout",
     "output_type": "stream",
     "text": [
      "<class 'pandas.core.frame.DataFrame'>\n",
      "DatetimeIndex: 14 entries, 2009-04-01 to 2022-04-01\n",
      "Columns: 4179 entries, A to SEKEY\n",
      "dtypes: float64(4179)\n",
      "memory usage: 457.2 KB\n"
     ]
    }
   ],
   "source": [
    "ychopmdf.info()\n"
   ]
  },
  {
   "cell_type": "code",
   "execution_count": 84,
   "metadata": {},
   "outputs": [],
   "source": [
    "# Input Start and End Date\n",
    "start = datetime(2009, 1, 1)\n",
    "end = datetime(2022, 5, 1)"
   ]
  },
  {
   "cell_type": "code",
   "execution_count": 90,
   "metadata": {},
   "outputs": [],
   "source": [
    "CACHE_PATH = \"./data/yf/stocks3m_yf.csv.xz\""
   ]
  },
  {
   "cell_type": "code",
   "execution_count": 85,
   "metadata": {},
   "outputs": [],
   "source": [
    "# stocks_yf = (\n",
    "#     yf.download(\n",
    "#         tickers=ych_filtered_tickers,\n",
    "#         interval=\"3mo\",\n",
    "#         start=start,\n",
    "#         end=end,\n",
    "#         progress=False,\n",
    "#         show_errors=False,\n",
    "#     )\n",
    "#     .loc[:, [\"Adj Close\", \"Volume\"]]\n",
    "#     .rename({\"Adj Close\": \"adj_close\", \"Volume\": \"volume\"}, axis=1)\n",
    "#     .sort_index()\n",
    "#     .query(\"index.dt.month == 4\")\n",
    "# )\n",
    "\n",
    "# tdf.to_csv(path_or_buf=CACHE_PATH, compression=\"xz\", index=True)"
   ]
  },
  {
   "cell_type": "code",
   "execution_count": 120,
   "metadata": {},
   "outputs": [],
   "source": [
    "stocks_yf = (\n",
    "    pd.read_csv(\n",
    "        filepath_or_buffer=CACHE_PATH,\n",
    "        compression=\"xz\",\n",
    "        header=[0, 1],\n",
    "        index_col=[\n",
    "            0,\n",
    "        ],\n",
    "        parse_dates=True,\n",
    "    )\n",
    "    .sort_index(axis=0)\n",
    "    .sort_index(axis=1)\n",
    ")"
   ]
  },
  {
   "cell_type": "code",
   "execution_count": 99,
   "metadata": {},
   "outputs": [
    {
     "name": "stdout",
     "output_type": "stream",
     "text": [
      "<class 'pandas.core.frame.DataFrame'>\n",
      "DatetimeIndex: 14 entries, 2009-04-01 to 2022-04-01\n",
      "Columns: 8358 entries, ('adj_close', 'A') to ('volume', 'SEKEY')\n",
      "dtypes: float64(8358)\n",
      "memory usage: 914.3 KB\n"
     ]
    }
   ],
   "source": [
    "stocks_yf.info()"
   ]
  },
  {
   "cell_type": "code",
   "execution_count": 100,
   "metadata": {},
   "outputs": [
    {
     "data": {
      "text/plain": [
       "DatetimeIndex(['2009-04-01', '2010-04-01', '2011-04-01', '2012-04-01',\n",
       "               '2013-04-01', '2014-04-01', '2015-04-01', '2016-04-01',\n",
       "               '2017-04-01', '2018-04-01', '2019-04-01', '2020-04-01',\n",
       "               '2021-04-01', '2022-04-01'],\n",
       "              dtype='datetime64[ns]', name='Date', freq=None)"
      ]
     },
     "execution_count": 100,
     "metadata": {},
     "output_type": "execute_result"
    }
   ],
   "source": [
    "stocks_yf.index"
   ]
  },
  {
   "cell_type": "code",
   "execution_count": 98,
   "metadata": {},
   "outputs": [
    {
     "data": {
      "text/html": [
       "<div>\n",
       "<style scoped>\n",
       "    .dataframe tbody tr th:only-of-type {\n",
       "        vertical-align: middle;\n",
       "    }\n",
       "\n",
       "    .dataframe tbody tr th {\n",
       "        vertical-align: top;\n",
       "    }\n",
       "\n",
       "    .dataframe thead tr th {\n",
       "        text-align: left;\n",
       "    }\n",
       "\n",
       "    .dataframe thead tr:last-of-type th {\n",
       "        text-align: right;\n",
       "    }\n",
       "</style>\n",
       "<table border=\"1\" class=\"dataframe\">\n",
       "  <thead>\n",
       "    <tr>\n",
       "      <th></th>\n",
       "      <th colspan=\"10\" halign=\"left\">adj_close</th>\n",
       "      <th>...</th>\n",
       "      <th colspan=\"10\" halign=\"left\">volume</th>\n",
       "    </tr>\n",
       "    <tr>\n",
       "      <th></th>\n",
       "      <th>A</th>\n",
       "      <th>AACAF</th>\n",
       "      <th>AACAY</th>\n",
       "      <th>AAGRY</th>\n",
       "      <th>AAHIF</th>\n",
       "      <th>AAL</th>\n",
       "      <th>AALBF</th>\n",
       "      <th>AAON</th>\n",
       "      <th>AAP</th>\n",
       "      <th>AAPL</th>\n",
       "      <th>...</th>\n",
       "      <th>SECYF</th>\n",
       "      <th>SEE</th>\n",
       "      <th>SEFJF</th>\n",
       "      <th>SEGXF</th>\n",
       "      <th>SEHLF</th>\n",
       "      <th>SEIC</th>\n",
       "      <th>SEIGF</th>\n",
       "      <th>SEIGY</th>\n",
       "      <th>SEKEF</th>\n",
       "      <th>SEKEY</th>\n",
       "    </tr>\n",
       "    <tr>\n",
       "      <th>Date</th>\n",
       "      <th></th>\n",
       "      <th></th>\n",
       "      <th></th>\n",
       "      <th></th>\n",
       "      <th></th>\n",
       "      <th></th>\n",
       "      <th></th>\n",
       "      <th></th>\n",
       "      <th></th>\n",
       "      <th></th>\n",
       "      <th></th>\n",
       "      <th></th>\n",
       "      <th></th>\n",
       "      <th></th>\n",
       "      <th></th>\n",
       "      <th></th>\n",
       "      <th></th>\n",
       "      <th></th>\n",
       "      <th></th>\n",
       "      <th></th>\n",
       "      <th></th>\n",
       "    </tr>\n",
       "  </thead>\n",
       "  <tbody>\n",
       "    <tr>\n",
       "      <th>2009-04-01</th>\n",
       "      <td>13.259851</td>\n",
       "      <td>0.192309</td>\n",
       "      <td>NaN</td>\n",
       "      <td>NaN</td>\n",
       "      <td>NaN</td>\n",
       "      <td>2.290862</td>\n",
       "      <td>NaN</td>\n",
       "      <td>5.151518</td>\n",
       "      <td>39.317070</td>\n",
       "      <td>4.374143</td>\n",
       "      <td>...</td>\n",
       "      <td>NaN</td>\n",
       "      <td>105106400.0</td>\n",
       "      <td>NaN</td>\n",
       "      <td>267400.0</td>\n",
       "      <td>NaN</td>\n",
       "      <td>113514400.0</td>\n",
       "      <td>NaN</td>\n",
       "      <td>NaN</td>\n",
       "      <td>NaN</td>\n",
       "      <td>2699200.0</td>\n",
       "    </tr>\n",
       "    <tr>\n",
       "      <th>2010-04-01</th>\n",
       "      <td>18.561193</td>\n",
       "      <td>0.516898</td>\n",
       "      <td>NaN</td>\n",
       "      <td>NaN</td>\n",
       "      <td>NaN</td>\n",
       "      <td>8.117004</td>\n",
       "      <td>NaN</td>\n",
       "      <td>6.138316</td>\n",
       "      <td>47.825378</td>\n",
       "      <td>7.724693</td>\n",
       "      <td>...</td>\n",
       "      <td>NaN</td>\n",
       "      <td>87188600.0</td>\n",
       "      <td>NaN</td>\n",
       "      <td>0.0</td>\n",
       "      <td>NaN</td>\n",
       "      <td>80496800.0</td>\n",
       "      <td>NaN</td>\n",
       "      <td>NaN</td>\n",
       "      <td>NaN</td>\n",
       "      <td>2621000.0</td>\n",
       "    </tr>\n",
       "  </tbody>\n",
       "</table>\n",
       "<p>2 rows × 8358 columns</p>\n",
       "</div>"
      ],
      "text/plain": [
       "            adj_close                                                         \n",
       "                    A     AACAF AACAY AAGRY AAHIF       AAL AALBF      AAON   \n",
       "Date                                                                          \n",
       "2009-04-01  13.259851  0.192309   NaN   NaN   NaN  2.290862   NaN  5.151518  \\\n",
       "2010-04-01  18.561193  0.516898   NaN   NaN   NaN  8.117004   NaN  6.138316   \n",
       "\n",
       "                                 ... volume                                \n",
       "                  AAP      AAPL  ...  SECYF          SEE SEFJF     SEGXF   \n",
       "Date                             ...                                       \n",
       "2009-04-01  39.317070  4.374143  ...    NaN  105106400.0   NaN  267400.0  \\\n",
       "2010-04-01  47.825378  7.724693  ...    NaN   87188600.0   NaN       0.0   \n",
       "\n",
       "                                                            \n",
       "           SEHLF         SEIC SEIGF SEIGY SEKEF      SEKEY  \n",
       "Date                                                        \n",
       "2009-04-01   NaN  113514400.0   NaN   NaN   NaN  2699200.0  \n",
       "2010-04-01   NaN   80496800.0   NaN   NaN   NaN  2621000.0  \n",
       "\n",
       "[2 rows x 8358 columns]"
      ]
     },
     "execution_count": 98,
     "metadata": {},
     "output_type": "execute_result"
    }
   ],
   "source": [
    "stocks_yf.head(2)"
   ]
  },
  {
   "cell_type": "code",
   "execution_count": 121,
   "metadata": {},
   "outputs": [],
   "source": [
    "prices, volume = stocks_yf.loc[:, \"adj_close\"], stocks_yf.loc[:, \"volume\"]"
   ]
  },
  {
   "attachments": {},
   "cell_type": "markdown",
   "metadata": {},
   "source": [
    "Check, whether YF prices and volumes have the same NaNs:"
   ]
  },
  {
   "cell_type": "code",
   "execution_count": 122,
   "metadata": {},
   "outputs": [
    {
     "name": "stdout",
     "output_type": "stream",
     "text": [
      "Both dataframes have the same NaN values.\n"
     ]
    }
   ],
   "source": [
    "# check if there is any cell where one dataframe has a NaN\n",
    "# value while the other dataframe has a non-NaN value\n",
    "\n",
    "mask_na = prices.isna() != volume.isna()\n",
    "if mask_na.any().any():  # type: ignore\n",
    "    print(\n",
    "        \"One of the dataframes has a NaN value in some cell where the other dataframe has the nonNaN value in the same cell.\"\n",
    "    )\n",
    "else:\n",
    "    print(\"Both dataframes have the same NaN values.\")"
   ]
  },
  {
   "attachments": {},
   "cell_type": "markdown",
   "metadata": {},
   "source": [
    "Check, whether yf dataset have discrepancies with ycharts_opm dataset:"
   ]
  },
  {
   "cell_type": "code",
   "execution_count": 124,
   "metadata": {},
   "outputs": [
    {
     "data": {
      "text/plain": [
       "True"
      ]
     },
     "execution_count": 124,
     "metadata": {},
     "output_type": "execute_result"
    }
   ],
   "source": [
    "all(ychopmdf.columns == prices.columns)"
   ]
  },
  {
   "cell_type": "code",
   "execution_count": 134,
   "metadata": {},
   "outputs": [
    {
     "data": {
      "text/plain": [
       "True"
      ]
     },
     "execution_count": 134,
     "metadata": {},
     "output_type": "execute_result"
    }
   ],
   "source": [
    "all(ychopmdf.index == prices.index)"
   ]
  },
  {
   "cell_type": "code",
   "execution_count": 140,
   "metadata": {},
   "outputs": [
    {
     "data": {
      "text/plain": [
       "<Axes: xlabel='Number of misses across two datasets', ylabel='Frequency'>"
      ]
     },
     "execution_count": 140,
     "metadata": {},
     "output_type": "execute_result"
    },
    {
     "data": {
      "image/png": "[encoded data removed]",
      "text/plain": [
       "<Figure size 640x480 with 1 Axes>"
      ]
     },
     "metadata": {},
     "output_type": "display_data"
    }
   ],
   "source": [
    "mask_cna = prices.isna() | ychopmdf.isna()\n",
    "mask_cna.sum().plot(kind=\"hist\", xlabel=\"Number of misses across two datasets\")"
   ]
  },
  {
   "cell_type": "code",
   "execution_count": 149,
   "metadata": {},
   "outputs": [
    {
     "data": {
      "text/plain": [
       "Date\n",
       "2009-04-01    2404\n",
       "2010-04-01    2199\n",
       "2011-04-01    2084\n",
       "2012-04-01    2031\n",
       "2013-04-01    1969\n",
       "2014-04-01    1918\n",
       "2015-04-01    1867\n",
       "2016-04-01    1852\n",
       "2017-04-01    1824\n",
       "2018-04-01    1809\n",
       "2019-04-01    1790\n",
       "2020-04-01    1781\n",
       "2021-04-01    1721\n",
       "2022-04-01    1693\n",
       "dtype: int64"
      ]
     },
     "execution_count": 149,
     "metadata": {},
     "output_type": "execute_result"
    }
   ],
   "source": [
    "prices.isna().sum(1)"
   ]
  },
  {
   "cell_type": "code",
   "execution_count": 150,
   "metadata": {},
   "outputs": [
    {
     "data": {
      "text/plain": [
       "Date\n",
       "2009-04-01    2467\n",
       "2010-04-01    2508\n",
       "2011-04-01    4176\n",
       "2012-04-01    4177\n",
       "2013-04-01    4177\n",
       "2014-04-01    4179\n",
       "2015-04-01    4177\n",
       "2016-04-01    4174\n",
       "2017-04-01    4175\n",
       "2018-04-01    4179\n",
       "2019-04-01    4178\n",
       "2020-04-01    4176\n",
       "2021-04-01    4173\n",
       "2022-04-01    4165\n",
       "dtype: int64"
      ]
     },
     "execution_count": 150,
     "metadata": {},
     "output_type": "execute_result"
    }
   ],
   "source": [
    "prices.where(mask_cna, other=np.nan).isna().sum(1)"
   ]
  }
 ],
 "metadata": {
  "kernelspec": {
   "display_name": ".venv",
   "language": "python",
   "name": "python3"
  },
  "language_info": {
   "codemirror_mode": {
    "name": "ipython",
    "version": 3
   },
   "file_extension": ".py",
   "mimetype": "text/x-python",
   "name": "python",
   "nbconvert_exporter": "python",
   "pygments_lexer": "ipython3",
   "version": "3.11.3"
  },
  "orig_nbformat": 4
 },
 "nbformat": 4,
 "nbformat_minor": 2
}
