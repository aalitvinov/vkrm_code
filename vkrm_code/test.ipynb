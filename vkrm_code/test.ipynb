{
 "cells": [
  {
   "cell_type": "code",
   "execution_count": 36,
   "metadata": {},
   "outputs": [],
   "source": [
    "from ycharts_parsers import YchartsDataVar\n",
    "import polars as pl\n",
    "from glob import glob\n",
    "from tqdm import tqdm\n",
    "from os import listdir\n",
    "import pandas as pd\n",
    "import seaborn as sns"
   ]
  },
  {
   "cell_type": "code",
   "execution_count": 2,
   "metadata": {},
   "outputs": [],
   "source": [
    "YCH_DATA_TYPE = YchartsDataVar.TOTAL_ASSETS\n",
    "PARQUETS_PATH = f\"./data/ycharts/{YCH_DATA_TYPE.value}_parqs\""
   ]
  },
  {
   "cell_type": "code",
   "execution_count": 3,
   "metadata": {},
   "outputs": [
    {
     "data": {
      "text/plain": [
       "2139"
      ]
     },
     "execution_count": 3,
     "metadata": {},
     "output_type": "execute_result"
    }
   ],
   "source": [
    "len(listdir(PARQUETS_PATH))"
   ]
  },
  {
   "cell_type": "code",
   "execution_count": 32,
   "metadata": {},
   "outputs": [
    {
     "name": "stderr",
     "output_type": "stream",
     "text": [
      "100%|██████████| 2139/2139 [00:01<00:00, 2101.97it/s]\n"
     ]
    }
   ],
   "source": [
    "df_pl_res = [pl.read_parquet(fp).drop(\"index\") for fp in tqdm(glob(f\"{PARQUETS_PATH}/*.parquet\"))]"
   ]
  },
  {
   "cell_type": "code",
   "execution_count": 46,
   "metadata": {},
   "outputs": [
    {
     "data": {
      "text/html": [
       "<div><style>\n",
       ".dataframe > thead > tr > th,\n",
       ".dataframe > tbody > tr > td {\n",
       "  text-align: right;\n",
       "}\n",
       "</style>\n",
       "<small>shape: (36, 2)</small><table border=\"1\" class=\"dataframe\"><thead><tr><th>date</th><th>AAVVF</th></tr><tr><td>datetime[ns]</td><td>f64</td></tr></thead><tbody><tr><td>1984-12-01 00:00:00</td><td>1.5540e9</td></tr><tr><td>1985-12-01 00:00:00</td><td>2.0160e9</td></tr><tr><td>1987-03-01 00:00:00</td><td>2.0890e9</td></tr><tr><td>1988-03-01 00:00:00</td><td>1.9180e9</td></tr><tr><td>1989-03-01 00:00:00</td><td>1.8280e9</td></tr><tr><td>1990-03-01 00:00:00</td><td>1.5690e9</td></tr><tr><td>1991-03-01 00:00:00</td><td>1.0560e9</td></tr><tr><td>1992-03-01 00:00:00</td><td>1.1300e9</td></tr><tr><td>1993-03-01 00:00:00</td><td>1.5620e9</td></tr><tr><td>1994-03-01 00:00:00</td><td>1.5240e9</td></tr><tr><td>1995-03-01 00:00:00</td><td>1.7780e9</td></tr><tr><td>1996-03-01 00:00:00</td><td>1.5760e9</td></tr><tr><td>&hellip;</td><td>&hellip;</td></tr><tr><td>2011-12-01 00:00:00</td><td>1.9320e9</td></tr><tr><td>2012-12-01 00:00:00</td><td>1.9240e9</td></tr><tr><td>2013-12-01 00:00:00</td><td>1.6580e9</td></tr><tr><td>2014-12-01 00:00:00</td><td>1.2530e9</td></tr><tr><td>2015-12-01 00:00:00</td><td>1.0930e9</td></tr><tr><td>2016-12-01 00:00:00</td><td>1.1100e9</td></tr><tr><td>2017-12-01 00:00:00</td><td>1.3450e9</td></tr><tr><td>2018-12-01 00:00:00</td><td>1.3000e9</td></tr><tr><td>2019-12-01 00:00:00</td><td>1.3920e9</td></tr><tr><td>2020-12-01 00:00:00</td><td>1.2030e9</td></tr><tr><td>2021-12-01 00:00:00</td><td>1.5650e9</td></tr><tr><td>2022-12-01 00:00:00</td><td>1.6330e9</td></tr></tbody></table></div>"
      ],
      "text/plain": [
       "shape: (36, 2)\n",
       "┌─────────────────────┬──────────┐\n",
       "│ date                ┆ AAVVF    │\n",
       "│ ---                 ┆ ---      │\n",
       "│ datetime[ns]        ┆ f64      │\n",
       "╞═════════════════════╪══════════╡\n",
       "│ 1984-12-01 00:00:00 ┆ 1.5540e9 │\n",
       "│ 1985-12-01 00:00:00 ┆ 2.0160e9 │\n",
       "│ 1987-03-01 00:00:00 ┆ 2.0890e9 │\n",
       "│ 1988-03-01 00:00:00 ┆ 1.9180e9 │\n",
       "│ …                   ┆ …        │\n",
       "│ 2019-12-01 00:00:00 ┆ 1.3920e9 │\n",
       "│ 2020-12-01 00:00:00 ┆ 1.2030e9 │\n",
       "│ 2021-12-01 00:00:00 ┆ 1.5650e9 │\n",
       "│ 2022-12-01 00:00:00 ┆ 1.6330e9 │\n",
       "└─────────────────────┴──────────┘"
      ]
     },
     "execution_count": 46,
     "metadata": {},
     "output_type": "execute_result"
    }
   ],
   "source": [
    "df_pl_res[10]"
   ]
  },
  {
   "cell_type": "code",
   "execution_count": 33,
   "metadata": {},
   "outputs": [
    {
     "name": "stderr",
     "output_type": "stream",
     "text": [
      "100%|██████████| 2138/2138 [00:04<00:00, 497.47it/s]"
     ]
    },
    {
     "name": "stdout",
     "output_type": "stream",
     "text": [
      "(471, 2140)\n"
     ]
    },
    {
     "name": "stderr",
     "output_type": "stream",
     "text": [
      "\n"
     ]
    }
   ],
   "source": [
    "df_merged = df_pl_res[0]\n",
    "for df in tqdm(df_pl_res[1:]):\n",
    "    df_merged = df_merged.join(df, on=\"date\", how=\"outer\")\n",
    "df_merged = df_merged.sort(\"date\")\n",
    "print(df_merged.shape)"
   ]
  },
  {
   "cell_type": "code",
   "execution_count": 42,
   "metadata": {},
   "outputs": [],
   "source": [
    "df = df_merged.to_pandas().set_index(\"date\")"
   ]
  },
  {
   "cell_type": "code",
   "execution_count": 53,
   "metadata": {},
   "outputs": [
    {
     "data": {
      "text/plain": [
       "DatetimeIndex(['2010-12-31', '2011-12-31', '2012-12-31', '2013-12-31',\n",
       "               '2014-12-31', '2015-12-31', '2016-12-31', '2017-12-31',\n",
       "               '2018-12-31', '2019-12-31', '2020-12-31', '2021-12-31',\n",
       "               '2022-12-31', '2023-12-31'],\n",
       "              dtype='datetime64[ns]', name='date', freq='A-DEC')"
      ]
     },
     "execution_count": 53,
     "metadata": {},
     "output_type": "execute_result"
    }
   ],
   "source": [
    "df.resample(\"1Y\").mean().loc[\"2010\":].index"
   ]
  },
  {
   "cell_type": "code",
   "execution_count": null,
   "metadata": {},
   "outputs": [],
   "source": [
    "df_merged.write_parquet(\"./ch_data/merged.parquet\")\n",
    "df_merged.write_csv(\"./ch_data/merged.csv\")"
   ]
  }
 ],
 "metadata": {
  "kernelspec": {
   "display_name": ".venv",
   "language": "python",
   "name": "python3"
  },
  "language_info": {
   "codemirror_mode": {
    "name": "ipython",
    "version": 3
   },
   "file_extension": ".py",
   "mimetype": "text/x-python",
   "name": "python",
   "nbconvert_exporter": "python",
   "pygments_lexer": "ipython3",
   "version": "3.11.3"
  },
  "orig_nbformat": 4
 },
 "nbformat": 4,
 "nbformat_minor": 2
}
