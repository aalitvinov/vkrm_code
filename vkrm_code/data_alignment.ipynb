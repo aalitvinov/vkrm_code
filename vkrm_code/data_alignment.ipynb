{
 "cells": [
  {
   "attachments": {},
   "cell_type": "markdown",
   "metadata": {},
   "source": [
    "The goal of this notebook is to align all datasets and clean them.\n",
    "---\n",
    "There are going to be four datasets:\n",
    "1. Yahoo finance stock prices & volumes\n",
    "1. Yahoo finance stock info (sector, industry)\n",
    "1. Ycharts operating margin ttm\n",
    "1. Ycharts derived asset turnover\n"
   ]
  },
  {
   "cell_type": "code",
   "execution_count": 117,
   "metadata": {},
   "outputs": [],
   "source": [
    "import numpy as np\n",
    "import pandas as pd\n",
    "import seaborn as sns\n",
    "import json\n"
   ]
  },
  {
   "attachments": {},
   "cell_type": "markdown",
   "metadata": {},
   "source": [
    "First, load new tickers, derived from ycharts asset turnover dataset:"
   ]
  },
  {
   "cell_type": "code",
   "execution_count": 118,
   "metadata": {},
   "outputs": [],
   "source": [
    "with open(\"./data/new_aligned_tickers_2128.json\") as jsf:\n",
    "    new_tickers = json.load(jsf)"
   ]
  },
  {
   "attachments": {},
   "cell_type": "markdown",
   "metadata": {},
   "source": [
    "# Loading datasets"
   ]
  },
  {
   "attachments": {},
   "cell_type": "markdown",
   "metadata": {},
   "source": [
    "## Load yf prices an volumes"
   ]
  },
  {
   "cell_type": "code",
   "execution_count": 119,
   "metadata": {},
   "outputs": [],
   "source": [
    "stocks_yf = (\n",
    "    pd.read_csv(\n",
    "        filepath_or_buffer=\"./data/yf/stocks3m_yf.csv.xz\",\n",
    "        compression=\"xz\",\n",
    "        header=[0, 1],\n",
    "        index_col=[\n",
    "            0,\n",
    "        ],\n",
    "        parse_dates=True,\n",
    "    )\n",
    "    .sort_index(axis=0)\n",
    "    .sort_index(axis=1)\n",
    ")\n",
    "\n",
    "prices, volume = (\n",
    "    stocks_yf.loc[:, \"adj_close\"], # type: ignore\n",
    "    stocks_yf.loc[:, \"volume\"], # type: ignore\n",
    ")\n",
    "\n",
    "volume = volume.loc[:, new_tickers]\n",
    "prices = prices.loc[:, new_tickers]\n",
    "\n",
    "# Since yf volume represents number of shares, convert them to USD\n",
    "volume = volume * prices"
   ]
  },
  {
   "cell_type": "code",
   "execution_count": 120,
   "metadata": {},
   "outputs": [
    {
     "data": {
      "text/html": [
       "<div>\n",
       "<style scoped>\n",
       "    .dataframe tbody tr th:only-of-type {\n",
       "        vertical-align: middle;\n",
       "    }\n",
       "\n",
       "    .dataframe tbody tr th {\n",
       "        vertical-align: top;\n",
       "    }\n",
       "\n",
       "    .dataframe thead th {\n",
       "        text-align: right;\n",
       "    }\n",
       "</style>\n",
       "<table border=\"1\" class=\"dataframe\">\n",
       "  <thead>\n",
       "    <tr style=\"text-align: right;\">\n",
       "      <th></th>\n",
       "      <th>A</th>\n",
       "      <th>AACAF</th>\n",
       "      <th>AACAY</th>\n",
       "      <th>AAL</th>\n",
       "      <th>AAON</th>\n",
       "      <th>AAP</th>\n",
       "      <th>AAPL</th>\n",
       "      <th>AAT</th>\n",
       "      <th>AATC</th>\n",
       "      <th>AAV.TO</th>\n",
       "      <th>...</th>\n",
       "      <th>SCVL</th>\n",
       "      <th>SCX</th>\n",
       "      <th>SCXLB</th>\n",
       "      <th>SDVKY</th>\n",
       "      <th>SEB</th>\n",
       "      <th>SECVY</th>\n",
       "      <th>SEE</th>\n",
       "      <th>SEGXF</th>\n",
       "      <th>SEIC</th>\n",
       "      <th>SEKEY</th>\n",
       "    </tr>\n",
       "    <tr>\n",
       "      <th>Date</th>\n",
       "      <th></th>\n",
       "      <th></th>\n",
       "      <th></th>\n",
       "      <th></th>\n",
       "      <th></th>\n",
       "      <th></th>\n",
       "      <th></th>\n",
       "      <th></th>\n",
       "      <th></th>\n",
       "      <th></th>\n",
       "      <th></th>\n",
       "      <th></th>\n",
       "      <th></th>\n",
       "      <th></th>\n",
       "      <th></th>\n",
       "      <th></th>\n",
       "      <th></th>\n",
       "      <th></th>\n",
       "      <th></th>\n",
       "      <th></th>\n",
       "      <th></th>\n",
       "    </tr>\n",
       "  </thead>\n",
       "  <tbody>\n",
       "    <tr>\n",
       "      <th>2010-04-01</th>\n",
       "      <td>NaN</td>\n",
       "      <td>NaN</td>\n",
       "      <td>NaN</td>\n",
       "      <td>NaN</td>\n",
       "      <td>NaN</td>\n",
       "      <td>NaN</td>\n",
       "      <td>NaN</td>\n",
       "      <td>NaN</td>\n",
       "      <td>NaN</td>\n",
       "      <td>NaN</td>\n",
       "      <td>...</td>\n",
       "      <td>NaN</td>\n",
       "      <td>NaN</td>\n",
       "      <td>NaN</td>\n",
       "      <td>NaN</td>\n",
       "      <td>NaN</td>\n",
       "      <td>NaN</td>\n",
       "      <td>NaN</td>\n",
       "      <td>NaN</td>\n",
       "      <td>NaN</td>\n",
       "      <td>NaN</td>\n",
       "    </tr>\n",
       "    <tr>\n",
       "      <th>2011-04-01</th>\n",
       "      <td>0.586536</td>\n",
       "      <td>0.638088</td>\n",
       "      <td>NaN</td>\n",
       "      <td>0.034250</td>\n",
       "      <td>0.355194</td>\n",
       "      <td>0.157275</td>\n",
       "      <td>0.288566</td>\n",
       "      <td>NaN</td>\n",
       "      <td>-0.174176</td>\n",
       "      <td>0.208848</td>\n",
       "      <td>...</td>\n",
       "      <td>0.385273</td>\n",
       "      <td>0.098881</td>\n",
       "      <td>0.025782</td>\n",
       "      <td>0.378927</td>\n",
       "      <td>0.475129</td>\n",
       "      <td>0.325556</td>\n",
       "      <td>0.210389</td>\n",
       "      <td>0.043658</td>\n",
       "      <td>0.109220</td>\n",
       "      <td>0.301198</td>\n",
       "    </tr>\n",
       "    <tr>\n",
       "      <th>2012-04-01</th>\n",
       "      <td>-0.262032</td>\n",
       "      <td>0.124053</td>\n",
       "      <td>0.236969</td>\n",
       "      <td>0.402843</td>\n",
       "      <td>-0.135850</td>\n",
       "      <td>0.157420</td>\n",
       "      <td>0.553773</td>\n",
       "      <td>0.118403</td>\n",
       "      <td>-0.795562</td>\n",
       "      <td>-0.934785</td>\n",
       "      <td>...</td>\n",
       "      <td>0.066868</td>\n",
       "      <td>0.154782</td>\n",
       "      <td>0.248840</td>\n",
       "      <td>-0.287481</td>\n",
       "      <td>-0.125421</td>\n",
       "      <td>-1.209188</td>\n",
       "      <td>-0.405714</td>\n",
       "      <td>-0.460342</td>\n",
       "      <td>-0.109512</td>\n",
       "      <td>-0.552735</td>\n",
       "    </tr>\n",
       "    <tr>\n",
       "      <th>2013-04-01</th>\n",
       "      <td>0.096460</td>\n",
       "      <td>0.624154</td>\n",
       "      <td>0.672239</td>\n",
       "      <td>0.208483</td>\n",
       "      <td>0.579970</td>\n",
       "      <td>0.177140</td>\n",
       "      <td>-0.372497</td>\n",
       "      <td>0.272265</td>\n",
       "      <td>0.365460</td>\n",
       "      <td>0.324496</td>\n",
       "      <td>...</td>\n",
       "      <td>0.166484</td>\n",
       "      <td>-0.088756</td>\n",
       "      <td>-0.330763</td>\n",
       "      <td>-0.033939</td>\n",
       "      <td>0.243728</td>\n",
       "      <td>0.060166</td>\n",
       "      <td>0.470759</td>\n",
       "      <td>0.268264</td>\n",
       "      <td>0.386543</td>\n",
       "      <td>0.316270</td>\n",
       "    </tr>\n",
       "  </tbody>\n",
       "</table>\n",
       "<p>4 rows × 2128 columns</p>\n",
       "</div>"
      ],
      "text/plain": [
       "                   A     AACAF     AACAY       AAL      AAON       AAP   \n",
       "Date                                                                     \n",
       "2010-04-01       NaN       NaN       NaN       NaN       NaN       NaN  \\\n",
       "2011-04-01  0.586536  0.638088       NaN  0.034250  0.355194  0.157275   \n",
       "2012-04-01 -0.262032  0.124053  0.236969  0.402843 -0.135850  0.157420   \n",
       "2013-04-01  0.096460  0.624154  0.672239  0.208483  0.579970  0.177140   \n",
       "\n",
       "                AAPL       AAT      AATC    AAV.TO  ...      SCVL       SCX   \n",
       "Date                                                ...                       \n",
       "2010-04-01       NaN       NaN       NaN       NaN  ...       NaN       NaN  \\\n",
       "2011-04-01  0.288566       NaN -0.174176  0.208848  ...  0.385273  0.098881   \n",
       "2012-04-01  0.553773  0.118403 -0.795562 -0.934785  ...  0.066868  0.154782   \n",
       "2013-04-01 -0.372497  0.272265  0.365460  0.324496  ...  0.166484 -0.088756   \n",
       "\n",
       "               SCXLB     SDVKY       SEB     SECVY       SEE     SEGXF   \n",
       "Date                                                                     \n",
       "2010-04-01       NaN       NaN       NaN       NaN       NaN       NaN  \\\n",
       "2011-04-01  0.025782  0.378927  0.475129  0.325556  0.210389  0.043658   \n",
       "2012-04-01  0.248840 -0.287481 -0.125421 -1.209188 -0.405714 -0.460342   \n",
       "2013-04-01 -0.330763 -0.033939  0.243728  0.060166  0.470759  0.268264   \n",
       "\n",
       "                SEIC     SEKEY  \n",
       "Date                            \n",
       "2010-04-01       NaN       NaN  \n",
       "2011-04-01  0.109220  0.301198  \n",
       "2012-04-01 -0.109512 -0.552735  \n",
       "2013-04-01  0.386543  0.316270  \n",
       "\n",
       "[4 rows x 2128 columns]"
      ]
     },
     "execution_count": 120,
     "metadata": {},
     "output_type": "execute_result"
    }
   ],
   "source": [
    "# calculate log-returns\n",
    "returns = (1 + prices.pct_change()).apply(np.log)\n",
    "returns.head(4)"
   ]
  },
  {
   "cell_type": "code",
   "execution_count": 121,
   "metadata": {},
   "outputs": [
    {
     "name": "stdout",
     "output_type": "stream",
     "text": [
      "<class 'pandas.core.frame.DataFrame'>\n",
      "DatetimeIndex: 14 entries, 2010-04-01 to 2023-04-01\n",
      "Columns: 2128 entries, A to SEKEY\n",
      "dtypes: float64(2128)\n",
      "memory usage: 232.9 KB\n",
      "\n",
      "<class 'pandas.core.frame.DataFrame'>\n",
      "DatetimeIndex: 14 entries, 2010-04-01 to 2023-04-01\n",
      "Columns: 2128 entries, A to SEKEY\n",
      "dtypes: float64(2128)\n",
      "memory usage: 232.9 KB\n"
     ]
    }
   ],
   "source": [
    "prices.info()\n",
    "print()\n",
    "volume.info()"
   ]
  },
  {
   "attachments": {},
   "cell_type": "markdown",
   "metadata": {},
   "source": [
    "## Load yf stock info"
   ]
  },
  {
   "cell_type": "code",
   "execution_count": 122,
   "metadata": {},
   "outputs": [],
   "source": [
    "company_info = pd.read_csv(\"./data/yf/company_info.csv\")"
   ]
  },
  {
   "cell_type": "code",
   "execution_count": 123,
   "metadata": {},
   "outputs": [
    {
     "data": {
      "text/plain": [
       "array(['Healthcare', 'Technology', 'Industrials', 'Consumer Cyclical',\n",
       "       'Real Estate', 'Energy', 'Consumer Defensive', 'Basic Materials',\n",
       "       'Utilities', 'Financial Services', 'Communication Services'],\n",
       "      dtype=object)"
      ]
     },
     "execution_count": 123,
     "metadata": {},
     "output_type": "execute_result"
    }
   ],
   "source": [
    "company_info.sector.unique()"
   ]
  },
  {
   "attachments": {},
   "cell_type": "markdown",
   "metadata": {},
   "source": [
    "## Load Ycharts Operating Margins"
   ]
  },
  {
   "cell_type": "code",
   "execution_count": 124,
   "metadata": {},
   "outputs": [],
   "source": [
    "ychopmdf = (\n",
    "    pd.read_csv(\n",
    "        \"data/ycharts/operating_margin_ttm.csv\",\n",
    "        parse_dates=True,\n",
    "        index_col=0,\n",
    "    )\n",
    "    .sort_index(axis=1)\n",
    "    .sort_index(axis=0)\n",
    "    .drop(\"2009-04-01\")\n",
    "    .loc[:, new_tickers]\n",
    ")"
   ]
  },
  {
   "cell_type": "code",
   "execution_count": 125,
   "metadata": {},
   "outputs": [
    {
     "name": "stdout",
     "output_type": "stream",
     "text": [
      "<class 'pandas.core.frame.DataFrame'>\n",
      "DatetimeIndex: 14 entries, 2010-04-01 to 2023-04-01\n",
      "Columns: 2128 entries, A to SEKEY\n",
      "dtypes: float64(2128)\n",
      "memory usage: 232.9 KB\n"
     ]
    }
   ],
   "source": [
    "ychopmdf.info()"
   ]
  },
  {
   "attachments": {},
   "cell_type": "markdown",
   "metadata": {},
   "source": [
    "## Ycharts Asset Turnover"
   ]
  },
  {
   "cell_type": "code",
   "execution_count": 126,
   "metadata": {},
   "outputs": [],
   "source": [
    "asset_turnover = (\n",
    "    pd.read_csv(\"./data/ycharts/asset_turnover.csv\", parse_dates=True, index_col=0)\n",
    "    .drop(\"2009-04-01\")\n",
    "    .sort_index(axis=1)\n",
    "    .sort_index(axis=0)\n",
    "    .loc[:, new_tickers]\n",
    ")"
   ]
  },
  {
   "cell_type": "code",
   "execution_count": 127,
   "metadata": {},
   "outputs": [
    {
     "name": "stdout",
     "output_type": "stream",
     "text": [
      "<class 'pandas.core.frame.DataFrame'>\n",
      "DatetimeIndex: 14 entries, 2010-04-01 to 2023-04-01\n",
      "Columns: 2128 entries, A to SEKEY\n",
      "dtypes: float64(2128)\n",
      "memory usage: 232.9 KB\n"
     ]
    }
   ],
   "source": [
    "asset_turnover.info()"
   ]
  },
  {
   "attachments": {},
   "cell_type": "markdown",
   "metadata": {},
   "source": [
    "# Find common tickers"
   ]
  },
  {
   "cell_type": "code",
   "execution_count": 128,
   "metadata": {},
   "outputs": [],
   "source": [
    "different_tickers = [\n",
    "    prices.columns,\n",
    "    volume.columns,\n",
    "    company_info.ticker.to_list(),\n",
    "    ychopmdf.columns,\n",
    "    asset_turnover.columns,\n",
    "]"
   ]
  },
  {
   "cell_type": "code",
   "execution_count": 129,
   "metadata": {},
   "outputs": [
    {
     "data": {
      "text/plain": [
       "2128"
      ]
     },
     "execution_count": 129,
     "metadata": {},
     "output_type": "execute_result"
    }
   ],
   "source": [
    "aligned_tickers = sorted(list(set(different_tickers[0]).intersection(*different_tickers)))\n",
    "len(aligned_tickers)"
   ]
  },
  {
   "cell_type": "code",
   "execution_count": 130,
   "metadata": {},
   "outputs": [],
   "source": [
    "# import json\n",
    "\n",
    "\n",
    "# with open(f\"./data/new_aligned_tickers_2128.json\", \"w\") as jsf:\n",
    "#     json.dump(aligned_tickers, jsf)"
   ]
  },
  {
   "cell_type": "code",
   "execution_count": 131,
   "metadata": {},
   "outputs": [
    {
     "data": {
      "text/plain": [
       "<Axes: xlabel='Number of misses across two datasets', ylabel='Frequency'>"
      ]
     },
     "execution_count": 131,
     "metadata": {},
     "output_type": "execute_result"
    },
    {
     "data": {
      "image/png": "[encoded data removed]",
      "text/plain": [
       "<Figure size 640x480 with 1 Axes>"
      ]
     },
     "metadata": {},
     "output_type": "display_data"
    }
   ],
   "source": [
    "mask_cna = ~(returns.isna() | volume.isna() | ychopmdf.isna() | asset_turnover.isna())\n",
    "(~mask_cna).sum().plot(kind=\"hist\", xlabel=\"Number of misses across two datasets\")"
   ]
  },
  {
   "cell_type": "code",
   "execution_count": 132,
   "metadata": {},
   "outputs": [
    {
     "data": {
      "text/plain": [
       "<Axes: ylabel='Date'>"
      ]
     },
     "execution_count": 132,
     "metadata": {},
     "output_type": "execute_result"
    },
    {
     "data": {
      "image/png": "[encoded data removed]",
      "text/plain": [
       "<Figure size 640x480 with 2 Axes>"
      ]
     },
     "metadata": {},
     "output_type": "display_data"
    }
   ],
   "source": [
    "sns.heatmap(mask_cna, xticklabels=False, yticklabels=prices.index.year)  # type: ignore"
   ]
  },
  {
   "attachments": {},
   "cell_type": "markdown",
   "metadata": {},
   "source": [
    "# Aligning\n",
    "Year 2010 wiil be dropped due to insufficient data."
   ]
  },
  {
   "cell_type": "code",
   "execution_count": 133,
   "metadata": {},
   "outputs": [],
   "source": [
    "df_dict= {\n",
    "    \"prices\": prices,\n",
    "    \"returns\": returns,\n",
    "    \"volume\": volume,\n",
    "    \"ychopmdf\": ychopmdf,\n",
    "    \"asset_turnover\": asset_turnover,\n",
    "}\n",
    "for elem in df_dict:\n",
    "    df_dict[elem] = df_dict[elem].where(mask_cna, other=np.nan).iloc[1:]"
   ]
  },
  {
   "cell_type": "code",
   "execution_count": 137,
   "metadata": {},
   "outputs": [],
   "source": [
    "for _name, _df in df_dict.items():\n",
    "    _df.to_csv(f\"./data/aligned_data/{_name}.csv\")"
   ]
  }
 ],
 "metadata": {
  "kernelspec": {
   "display_name": ".venv",
   "language": "python",
   "name": "python3"
  },
  "language_info": {
   "codemirror_mode": {
    "name": "ipython",
    "version": 3
   },
   "file_extension": ".py",
   "mimetype": "text/x-python",
   "name": "python",
   "nbconvert_exporter": "python",
   "pygments_lexer": "ipython3",
   "version": "3.11.3"
  },
  "orig_nbformat": 4
 },
 "nbformat": 4,
 "nbformat_minor": 2
}
