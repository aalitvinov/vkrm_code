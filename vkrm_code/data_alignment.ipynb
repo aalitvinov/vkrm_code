{
 "cells": [
  {
   "attachments": {},
   "cell_type": "markdown",
   "metadata": {},
   "source": [
    "The goal of this notebook is to align all datasets and clean them.\n",
    "---\n",
    "There are going to be four datasets:\n",
    "1. Yahoo finance stock prices & volumes\n",
    "1. Yahoo finance stock info (sector, industry)\n",
    "1. Ycharts operating margin ttm\n",
    "1. Ycharts derived asset turnover\n"
   ]
  },
  {
   "cell_type": "code",
   "execution_count": 1,
   "metadata": {},
   "outputs": [],
   "source": [
    "import pandas as pd\n",
    "import json\n"
   ]
  },
  {
   "attachments": {},
   "cell_type": "markdown",
   "metadata": {},
   "source": [
    "First, load new tickers, derived from ycharts asset turnover dataset:"
   ]
  },
  {
   "cell_type": "code",
   "execution_count": 3,
   "metadata": {},
   "outputs": [],
   "source": [
    "with open(\"./data/new_tickers_2139.json\") as jsf:\n",
    "    new_tickers = json.load(jsf)"
   ]
  },
  {
   "attachments": {},
   "cell_type": "markdown",
   "metadata": {},
   "source": [
    "# Load yf prices an volumes"
   ]
  },
  {
   "cell_type": "code",
   "execution_count": 6,
   "metadata": {},
   "outputs": [],
   "source": [
    "stocks_yf = (\n",
    "    pd.read_csv(\n",
    "        filepath_or_buffer=\"./data/yf/stocks3m_yf.csv.xz\",\n",
    "        compression=\"xz\",\n",
    "        header=[0, 1],\n",
    "        index_col=[\n",
    "            0,\n",
    "        ],\n",
    "        parse_dates=True,\n",
    "    )\n",
    "    .sort_index(axis=0)\n",
    "    .sort_index(axis=1)\n",
    "    .drop(\"2009-04-01\")\n",
    ")\n",
    "\n",
    "prices, volume = (\n",
    "    stocks_yf.loc[:, (\"adj_close\", new_tickers)], # type: ignore\n",
    "    stocks_yf.loc[:, (\"volume\", new_tickers)], # type: ignore\n",
    ")"
   ]
  },
  {
   "cell_type": "code",
   "execution_count": 21,
   "metadata": {},
   "outputs": [
    {
     "name": "stdout",
     "output_type": "stream",
     "text": [
      "<class 'pandas.core.frame.DataFrame'>\n",
      "DatetimeIndex: 13 entries, 2010-04-01 to 2022-04-01\n",
      "Columns: 4179 entries, A to SEKEY\n",
      "dtypes: float64(4179)\n",
      "memory usage: 425.1 KB\n",
      "\n",
      "<class 'pandas.core.frame.DataFrame'>\n",
      "DatetimeIndex: 13 entries, 2010-04-01 to 2022-04-01\n",
      "Columns: 4179 entries, A to SEKEY\n",
      "dtypes: float64(4179)\n",
      "memory usage: 425.1 KB\n"
     ]
    }
   ],
   "source": [
    "prices.info()\n",
    "print()\n",
    "volume.info()"
   ]
  },
  {
   "attachments": {},
   "cell_type": "markdown",
   "metadata": {},
   "source": [
    "# Load Ycharts Operating Margins"
   ]
  },
  {
   "cell_type": "code",
   "execution_count": 22,
   "metadata": {},
   "outputs": [],
   "source": [
    "ychopmdf = (\n",
    "    pd.read_csv(\n",
    "        \"data/ycharts/ycharts_opm_filtered_for_use.csv\",\n",
    "        parse_dates=True,\n",
    "        index_col=0,\n",
    "    )\n",
    "    .sort_index(axis=1)\n",
    "    .sort_index(axis=0)\n",
    "    .drop(\"2009-04-01\")\n",
    "    .loc[:, new_tickers]\n",
    ")"
   ]
  },
  {
   "cell_type": "code",
   "execution_count": 23,
   "metadata": {},
   "outputs": [
    {
     "name": "stdout",
     "output_type": "stream",
     "text": [
      "<class 'pandas.core.frame.DataFrame'>\n",
      "DatetimeIndex: 13 entries, 2010-04-01 to 2022-04-01\n",
      "Columns: 2139 entries, A to SEKEY\n",
      "dtypes: float64(2139)\n",
      "memory usage: 217.3 KB\n"
     ]
    }
   ],
   "source": [
    "ychopmdf.info()"
   ]
  }
 ],
 "metadata": {
  "kernelspec": {
   "display_name": ".venv",
   "language": "python",
   "name": "python3"
  },
  "language_info": {
   "codemirror_mode": {
    "name": "ipython",
    "version": 3
   },
   "file_extension": ".py",
   "mimetype": "text/x-python",
   "name": "python",
   "nbconvert_exporter": "python",
   "pygments_lexer": "ipython3",
   "version": "3.11.3"
  },
  "orig_nbformat": 4
 },
 "nbformat": 4,
 "nbformat_minor": 2
}
