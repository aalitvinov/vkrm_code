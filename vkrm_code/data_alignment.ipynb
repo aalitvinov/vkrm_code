{
 "cells": [
  {
   "attachments": {},
   "cell_type": "markdown",
   "metadata": {},
   "source": [
    "The goal of this notebook is to align all datasets and clean them.\n",
    "---\n",
    "There are going to be four datasets:\n",
    "1. Yahoo finance stock prices & volumes\n",
    "1. Yahoo finance stock info (sector, industry)\n",
    "1. Ycharts operating margin ttm\n",
    "1. Ycharts derived asset turnover\n"
   ]
  },
  {
   "cell_type": "code",
   "execution_count": null,
   "metadata": {},
   "outputs": [],
   "source": []
  }
 ],
 "metadata": {
  "language_info": {
   "name": "python"
  },
  "orig_nbformat": 4
 },
 "nbformat": 4,
 "nbformat_minor": 2
}
