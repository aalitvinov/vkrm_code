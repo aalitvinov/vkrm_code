{
 "cells": [
  {
   "cell_type": "code",
   "execution_count": 1,
   "metadata": {},
   "outputs": [],
   "source": [
    "import numpy as np\n",
    "import pandas as pd\n",
    "import matplotlib.pyplot as plt\n",
    "import seaborn as sns\n",
    "import json\n",
    "\n",
    "%load_ext autoreload\n",
    "%autoreload 2\n",
    "from strategies import PortfolioType, Universe, Portfolio, Strategy  # noqa: F401\n"
   ]
  },
  {
   "cell_type": "code",
   "execution_count": 2,
   "metadata": {},
   "outputs": [],
   "source": [
    "DATA_PATH = \"./data/aligned_data/\""
   ]
  },
  {
   "cell_type": "code",
   "execution_count": 3,
   "metadata": {},
   "outputs": [],
   "source": [
    "TESTY_TICKERS = [\"ADBE\", \"PDCE\", \"KBAL\", \"F\", \"LPL\", \"SCX\", \"GOOG\"]"
   ]
  },
  {
   "cell_type": "code",
   "execution_count": 4,
   "metadata": {},
   "outputs": [],
   "source": [
    "prices = pd.read_csv(f\"{DATA_PATH}/prices.csv\", parse_dates=True, index_col=0).loc[:, TESTY_TICKERS]\n",
    "returns = pd.read_csv(f\"{DATA_PATH}/returns.csv\", parse_dates=True, index_col=0).loc[\n",
    "    :, TESTY_TICKERS\n",
    "]\n",
    "volume = pd.read_csv(f\"{DATA_PATH}/volume.csv\", parse_dates=True, index_col=0).loc[:, TESTY_TICKERS]\n",
    "ychopmdf = (\n",
    "    pd.read_csv(f\"{DATA_PATH}/ychopmdf.csv\", parse_dates=True, index_col=0).loc[:, TESTY_TICKERS]\n",
    "    / 100\n",
    ")\n",
    "asset_turnover = pd.read_csv(f\"{DATA_PATH}/asset_turnover.csv\", parse_dates=True, index_col=0).loc[\n",
    "    :, TESTY_TICKERS\n",
    "]\n",
    "\n",
    "company_info = pd.read_csv(\"./data/yf/company_info.csv\", index_col=0).loc[TESTY_TICKERS]"
   ]
  },
  {
   "cell_type": "code",
   "execution_count": 5,
   "metadata": {},
   "outputs": [],
   "source": [
    "def min_max_scale(df: pd.DataFrame) -> pd.DataFrame:\n",
    "    \"\"\"\n",
    "    This function performs min-max scaling on a pandas DataFrame.\n",
    "    Min-max scaling transforms the numerical values in each column of the DataFrame to a range between 0 and 1, where the minimum value becomes 0 and the maximum value becomes 1. \n",
    "\n",
    "    Returns: A pandas DataFrame with the same shape and columns as the input, but with scaled values between 0 and 1.\n",
    "    \"\"\"\n",
    "    df = (df - df.min()) / (df.max() - df.min())\n",
    "    return df.copy()"
   ]
  },
  {
   "cell_type": "code",
   "execution_count": 6,
   "metadata": {},
   "outputs": [
    {
     "data": {
      "text/html": [
       "<div>\n",
       "<style scoped>\n",
       "    .dataframe tbody tr th:only-of-type {\n",
       "        vertical-align: middle;\n",
       "    }\n",
       "\n",
       "    .dataframe tbody tr th {\n",
       "        vertical-align: top;\n",
       "    }\n",
       "\n",
       "    .dataframe thead th {\n",
       "        text-align: right;\n",
       "    }\n",
       "</style>\n",
       "<table border=\"1\" class=\"dataframe\">\n",
       "  <thead>\n",
       "    <tr style=\"text-align: right;\">\n",
       "      <th></th>\n",
       "      <th>ADBE</th>\n",
       "      <th>PDCE</th>\n",
       "      <th>KBAL</th>\n",
       "      <th>F</th>\n",
       "      <th>LPL</th>\n",
       "      <th>SCX</th>\n",
       "      <th>GOOG</th>\n",
       "    </tr>\n",
       "    <tr>\n",
       "      <th>date</th>\n",
       "      <th></th>\n",
       "      <th></th>\n",
       "      <th></th>\n",
       "      <th></th>\n",
       "      <th></th>\n",
       "      <th></th>\n",
       "      <th></th>\n",
       "    </tr>\n",
       "  </thead>\n",
       "  <tbody>\n",
       "    <tr>\n",
       "      <th>2011-04-01</th>\n",
       "      <td>-0.754744</td>\n",
       "      <td>NaN</td>\n",
       "      <td>0.992637</td>\n",
       "      <td>0.000114</td>\n",
       "      <td>0.517767</td>\n",
       "      <td>0.427518</td>\n",
       "      <td>-0.918095</td>\n",
       "    </tr>\n",
       "    <tr>\n",
       "      <th>2012-04-01</th>\n",
       "      <td>-0.883726</td>\n",
       "      <td>NaN</td>\n",
       "      <td>1.000000</td>\n",
       "      <td>0.041523</td>\n",
       "      <td>0.169552</td>\n",
       "      <td>0.368196</td>\n",
       "      <td>-0.936986</td>\n",
       "    </tr>\n",
       "    <tr>\n",
       "      <th>2013-04-01</th>\n",
       "      <td>-0.697843</td>\n",
       "      <td>-0.326824</td>\n",
       "      <td>1.000000</td>\n",
       "      <td>0.277825</td>\n",
       "      <td>NaN</td>\n",
       "      <td>0.473411</td>\n",
       "      <td>-0.767611</td>\n",
       "    </tr>\n",
       "    <tr>\n",
       "      <th>2014-04-01</th>\n",
       "      <td>-0.387075</td>\n",
       "      <td>-0.466771</td>\n",
       "      <td>1.000000</td>\n",
       "      <td>0.372708</td>\n",
       "      <td>0.738521</td>\n",
       "      <td>NaN</td>\n",
       "      <td>-0.710490</td>\n",
       "    </tr>\n",
       "    <tr>\n",
       "      <th>2015-04-01</th>\n",
       "      <td>-0.125283</td>\n",
       "      <td>-0.690500</td>\n",
       "      <td>NaN</td>\n",
       "      <td>0.333698</td>\n",
       "      <td>1.000000</td>\n",
       "      <td>0.840059</td>\n",
       "      <td>-0.687525</td>\n",
       "    </tr>\n",
       "    <tr>\n",
       "      <th>2016-04-01</th>\n",
       "      <td>-0.335784</td>\n",
       "      <td>-0.362180</td>\n",
       "      <td>0.946685</td>\n",
       "      <td>0.274426</td>\n",
       "      <td>0.844008</td>\n",
       "      <td>0.842522</td>\n",
       "      <td>-0.687112</td>\n",
       "    </tr>\n",
       "    <tr>\n",
       "      <th>2017-04-01</th>\n",
       "      <td>-0.863947</td>\n",
       "      <td>NaN</td>\n",
       "      <td>0.831483</td>\n",
       "      <td>-0.205375</td>\n",
       "      <td>0.344927</td>\n",
       "      <td>0.325151</td>\n",
       "      <td>-0.949963</td>\n",
       "    </tr>\n",
       "    <tr>\n",
       "      <th>2018-04-01</th>\n",
       "      <td>-0.846349</td>\n",
       "      <td>0.000000</td>\n",
       "      <td>0.869976</td>\n",
       "      <td>0.051182</td>\n",
       "      <td>0.164022</td>\n",
       "      <td>NaN</td>\n",
       "      <td>-0.726337</td>\n",
       "    </tr>\n",
       "    <tr>\n",
       "      <th>2019-04-01</th>\n",
       "      <td>-0.876161</td>\n",
       "      <td>-0.764628</td>\n",
       "      <td>0.815961</td>\n",
       "      <td>-0.124305</td>\n",
       "      <td>0.248311</td>\n",
       "      <td>0.385436</td>\n",
       "      <td>-0.597855</td>\n",
       "    </tr>\n",
       "    <tr>\n",
       "      <th>2020-04-01</th>\n",
       "      <td>-0.856750</td>\n",
       "      <td>-0.852911</td>\n",
       "      <td>0.496998</td>\n",
       "      <td>-0.345679</td>\n",
       "      <td>0.117511</td>\n",
       "      <td>0.026037</td>\n",
       "      <td>-0.680529</td>\n",
       "    </tr>\n",
       "    <tr>\n",
       "      <th>2021-04-01</th>\n",
       "      <td>-0.803914</td>\n",
       "      <td>-0.133662</td>\n",
       "      <td>0.839394</td>\n",
       "      <td>0.104692</td>\n",
       "      <td>NaN</td>\n",
       "      <td>0.513132</td>\n",
       "      <td>-0.405285</td>\n",
       "    </tr>\n",
       "    <tr>\n",
       "      <th>2022-04-01</th>\n",
       "      <td>-0.826310</td>\n",
       "      <td>-1.000000</td>\n",
       "      <td>0.963975</td>\n",
       "      <td>0.034534</td>\n",
       "      <td>0.283164</td>\n",
       "      <td>0.631649</td>\n",
       "      <td>-0.459648</td>\n",
       "    </tr>\n",
       "    <tr>\n",
       "      <th>2023-04-01</th>\n",
       "      <td>-0.377295</td>\n",
       "      <td>-0.685258</td>\n",
       "      <td>0.729505</td>\n",
       "      <td>-0.048197</td>\n",
       "      <td>0.000000</td>\n",
       "      <td>0.523695</td>\n",
       "      <td>-0.176484</td>\n",
       "    </tr>\n",
       "  </tbody>\n",
       "</table>\n",
       "</div>"
      ],
      "text/plain": [
       "                ADBE      PDCE      KBAL         F       LPL       SCX   \n",
       "date                                                                     \n",
       "2011-04-01 -0.754744       NaN  0.992637  0.000114  0.517767  0.427518  \\\n",
       "2012-04-01 -0.883726       NaN  1.000000  0.041523  0.169552  0.368196   \n",
       "2013-04-01 -0.697843 -0.326824  1.000000  0.277825       NaN  0.473411   \n",
       "2014-04-01 -0.387075 -0.466771  1.000000  0.372708  0.738521       NaN   \n",
       "2015-04-01 -0.125283 -0.690500       NaN  0.333698  1.000000  0.840059   \n",
       "2016-04-01 -0.335784 -0.362180  0.946685  0.274426  0.844008  0.842522   \n",
       "2017-04-01 -0.863947       NaN  0.831483 -0.205375  0.344927  0.325151   \n",
       "2018-04-01 -0.846349  0.000000  0.869976  0.051182  0.164022       NaN   \n",
       "2019-04-01 -0.876161 -0.764628  0.815961 -0.124305  0.248311  0.385436   \n",
       "2020-04-01 -0.856750 -0.852911  0.496998 -0.345679  0.117511  0.026037   \n",
       "2021-04-01 -0.803914 -0.133662  0.839394  0.104692       NaN  0.513132   \n",
       "2022-04-01 -0.826310 -1.000000  0.963975  0.034534  0.283164  0.631649   \n",
       "2023-04-01 -0.377295 -0.685258  0.729505 -0.048197  0.000000  0.523695   \n",
       "\n",
       "                GOOG  \n",
       "date                  \n",
       "2011-04-01 -0.918095  \n",
       "2012-04-01 -0.936986  \n",
       "2013-04-01 -0.767611  \n",
       "2014-04-01 -0.710490  \n",
       "2015-04-01 -0.687525  \n",
       "2016-04-01 -0.687112  \n",
       "2017-04-01 -0.949963  \n",
       "2018-04-01 -0.726337  \n",
       "2019-04-01 -0.597855  \n",
       "2020-04-01 -0.680529  \n",
       "2021-04-01 -0.405285  \n",
       "2022-04-01 -0.459648  \n",
       "2023-04-01 -0.176484  "
      ]
     },
     "execution_count": 6,
     "metadata": {},
     "output_type": "execute_result"
    }
   ],
   "source": [
    "diff_vector = (min_max_scale(asset_turnover.T) - min_max_scale(ychopmdf.T)).T\n",
    "diff_vector"
   ]
  },
  {
   "cell_type": "code",
   "execution_count": 7,
   "metadata": {},
   "outputs": [],
   "source": [
    "prices.to_csv(\"./tests/test_files/test_prices.csv\")\n",
    "returns.to_csv(\"./tests/test_files/test_returns.csv\")\n",
    "volume.to_csv(\"./tests/test_files/test_volume.csv\")\n",
    "ychopmdf.to_csv(\"./tests/test_files/test_ychopmdf.csv\")\n",
    "asset_turnover.to_csv(\"./tests/test_files/test_asset_turnover.csv\")\n",
    "diff_vector.to_csv(\"./tests/test_files/test_diff_vector.csv\")\n",
    "company_info.to_csv(\"./tests/test_files/test_company_info.csv\")"
   ]
  },
  {
   "cell_type": "code",
   "execution_count": 8,
   "metadata": {},
   "outputs": [],
   "source": [
    "# prices.loc[:, prices.loc[\"2014-04-01\"].isna().values]"
   ]
  },
  {
   "cell_type": "code",
   "execution_count": 9,
   "metadata": {},
   "outputs": [
    {
     "data": {
      "text/plain": [
       "['ADBE', 'PDCE', 'KBAL', 'F', 'LPL', 'SCX', 'GOOG']"
      ]
     },
     "execution_count": 9,
     "metadata": {},
     "output_type": "execute_result"
    }
   ],
   "source": [
    "universe = Universe(diff_vector, ychopmdf, asset_turnover, returns, volume, company_info)\n",
    "universe.symbols"
   ]
  },
  {
   "cell_type": "code",
   "execution_count": 25,
   "metadata": {},
   "outputs": [
    {
     "data": {
      "text/plain": [
       "{'KBAL', 'LPL', 'PDCE', 'SCX'}"
      ]
     },
     "execution_count": 25,
     "metadata": {},
     "output_type": "execute_result"
    }
   ],
   "source": [
    "res = set()\n",
    "for i in range(2011, 2024):\n",
    "    res.update(universe.verify_candidates(TESTY_TICKERS, pd.Timestamp(year=i, month=4, day=1)))\n",
    "res"
   ]
  },
  {
   "cell_type": "code",
   "execution_count": 27,
   "metadata": {},
   "outputs": [
    {
     "data": {
      "text/plain": [
       "True"
      ]
     },
     "execution_count": 27,
     "metadata": {},
     "output_type": "execute_result"
    }
   ],
   "source": [
    "res == {'KBAL', 'LPL', 'PDCE', 'SCX'}"
   ]
  },
  {
   "cell_type": "code",
   "execution_count": 13,
   "metadata": {},
   "outputs": [
    {
     "data": {
      "text/plain": [
       "['KBAL']"
      ]
     },
     "execution_count": 13,
     "metadata": {},
     "output_type": "execute_result"
    }
   ],
   "source": [
    "universe.verify_candidates(TESTY_TICKERS, pd.Timestamp(year=2015, month=4, day=1))"
   ]
  }
 ],
 "metadata": {
  "kernelspec": {
   "display_name": ".venv",
   "language": "python",
   "name": "python3"
  },
  "language_info": {
   "codemirror_mode": {
    "name": "ipython",
    "version": 3
   },
   "file_extension": ".py",
   "mimetype": "text/x-python",
   "name": "python",
   "nbconvert_exporter": "python",
   "pygments_lexer": "ipython3",
   "version": "3.11.3"
  },
  "orig_nbformat": 4
 },
 "nbformat": 4,
 "nbformat_minor": 2
}
