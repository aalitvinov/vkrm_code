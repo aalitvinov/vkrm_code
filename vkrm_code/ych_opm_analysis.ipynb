{
 "cells": [
  {
   "cell_type": "code",
   "execution_count": 36,
   "metadata": {},
   "outputs": [],
   "source": [
    "import pandas as pd\n",
    "import matplotlib.pyplot as plt\n"
   ]
  },
  {
   "attachments": {},
   "cell_type": "markdown",
   "metadata": {},
   "source": [
    "# Plan\n"
   ]
  },
  {
   "attachments": {},
   "cell_type": "markdown",
   "metadata": {},
   "source": [
    "1. We can narrow down the list of companies by filtering out those with many missing values in the ycharts operating margin dataset.\n",
    "1. Next, we can use the yfinance python library to check which of the remaining companies have stock prices available in the yfinance dataset.\n",
    "1. Finally, we can use ycharts to obtain the turnover for the companies that passed both filters.\n"
   ]
  },
  {
   "cell_type": "code",
   "execution_count": 22,
   "metadata": {},
   "outputs": [
    {
     "name": "stdout",
     "output_type": "stream",
     "text": [
      "<class 'pandas.core.frame.DataFrame'>\n",
      "DatetimeIndex: 14 entries, 2009-04-01 to 2022-04-01\n",
      "Columns: 16383 entries, A.H.V to SEKYF\n",
      "dtypes: float64(16383)\n",
      "memory usage: 1.8 MB\n"
     ]
    }
   ],
   "source": [
    "ychopmdf = pd.read_excel(\n",
    "    \"data/ycharts_opm/ycharts_operating_margins_dropped.xlsx\",\n",
    "    index_col=0,\n",
    "    parse_dates=True,\n",
    ")\n",
    "# Filter by April, because it's when I compose portfolios\n",
    "ychopmdf.query(\"index.dt.month == 4\", inplace=True)\n",
    "\n",
    "ychopmdf.info()"
   ]
  },
  {
   "cell_type": "code",
   "execution_count": 24,
   "metadata": {},
   "outputs": [
    {
     "data": {
      "text/html": [
       "<div>\n",
       "<style scoped>\n",
       "    .dataframe tbody tr th:only-of-type {\n",
       "        vertical-align: middle;\n",
       "    }\n",
       "\n",
       "    .dataframe tbody tr th {\n",
       "        vertical-align: top;\n",
       "    }\n",
       "\n",
       "    .dataframe thead th {\n",
       "        text-align: right;\n",
       "    }\n",
       "</style>\n",
       "<table border=\"1\" class=\"dataframe\">\n",
       "  <thead>\n",
       "    <tr style=\"text-align: right;\">\n",
       "      <th></th>\n",
       "      <th>A.H.V</th>\n",
       "      <th>A</th>\n",
       "      <th>AA</th>\n",
       "      <th>AAA.P.V</th>\n",
       "      <th>AAAJ.P.V</th>\n",
       "      <th>AAALF</th>\n",
       "      <th>AAALY</th>\n",
       "      <th>AAB.TO</th>\n",
       "      <th>AABB</th>\n",
       "      <th>AAC.P.V</th>\n",
       "      <th>...</th>\n",
       "      <th>SEHKF</th>\n",
       "      <th>SEHLF</th>\n",
       "      <th>SEI.V</th>\n",
       "      <th>SEIBF</th>\n",
       "      <th>SEIC</th>\n",
       "      <th>SEIGF</th>\n",
       "      <th>SEIGY</th>\n",
       "      <th>SEKEF</th>\n",
       "      <th>SEKEY</th>\n",
       "      <th>SEKYF</th>\n",
       "    </tr>\n",
       "    <tr>\n",
       "      <th>date</th>\n",
       "      <th></th>\n",
       "      <th></th>\n",
       "      <th></th>\n",
       "      <th></th>\n",
       "      <th></th>\n",
       "      <th></th>\n",
       "      <th></th>\n",
       "      <th></th>\n",
       "      <th></th>\n",
       "      <th></th>\n",
       "      <th></th>\n",
       "      <th></th>\n",
       "      <th></th>\n",
       "      <th></th>\n",
       "      <th></th>\n",
       "      <th></th>\n",
       "      <th></th>\n",
       "      <th></th>\n",
       "      <th></th>\n",
       "      <th></th>\n",
       "      <th></th>\n",
       "    </tr>\n",
       "  </thead>\n",
       "  <tbody>\n",
       "    <tr>\n",
       "      <th>2020-04-01</th>\n",
       "      <td>NaN</td>\n",
       "      <td>15.13</td>\n",
       "      <td>3.33</td>\n",
       "      <td>NaN</td>\n",
       "      <td>NaN</td>\n",
       "      <td>NaN</td>\n",
       "      <td>NaN</td>\n",
       "      <td>NaN</td>\n",
       "      <td>NaN</td>\n",
       "      <td>NaN</td>\n",
       "      <td>...</td>\n",
       "      <td>NaN</td>\n",
       "      <td>3.11</td>\n",
       "      <td>NaN</td>\n",
       "      <td>3.91</td>\n",
       "      <td>27.03</td>\n",
       "      <td>6.27</td>\n",
       "      <td>6.27</td>\n",
       "      <td>3.86</td>\n",
       "      <td>3.86</td>\n",
       "      <td>7.66</td>\n",
       "    </tr>\n",
       "    <tr>\n",
       "      <th>2021-04-01</th>\n",
       "      <td>NaN</td>\n",
       "      <td>19.68</td>\n",
       "      <td>10.39</td>\n",
       "      <td>NaN</td>\n",
       "      <td>NaN</td>\n",
       "      <td>NaN</td>\n",
       "      <td>NaN</td>\n",
       "      <td>NaN</td>\n",
       "      <td>NaN</td>\n",
       "      <td>NaN</td>\n",
       "      <td>...</td>\n",
       "      <td>NaN</td>\n",
       "      <td>4.16</td>\n",
       "      <td>NaN</td>\n",
       "      <td>-7.54</td>\n",
       "      <td>28.01</td>\n",
       "      <td>30.12</td>\n",
       "      <td>30.12</td>\n",
       "      <td>6.38</td>\n",
       "      <td>6.38</td>\n",
       "      <td>9.30</td>\n",
       "    </tr>\n",
       "    <tr>\n",
       "      <th>2022-04-01</th>\n",
       "      <td>NaN</td>\n",
       "      <td>22.48</td>\n",
       "      <td>20.93</td>\n",
       "      <td>NaN</td>\n",
       "      <td>NaN</td>\n",
       "      <td>NaN</td>\n",
       "      <td>NaN</td>\n",
       "      <td>NaN</td>\n",
       "      <td>NaN</td>\n",
       "      <td>NaN</td>\n",
       "      <td>...</td>\n",
       "      <td>NaN</td>\n",
       "      <td>6.86</td>\n",
       "      <td>NaN</td>\n",
       "      <td>2.66</td>\n",
       "      <td>30.01</td>\n",
       "      <td>-31.51</td>\n",
       "      <td>-31.51</td>\n",
       "      <td>8.88</td>\n",
       "      <td>8.88</td>\n",
       "      <td>4.45</td>\n",
       "    </tr>\n",
       "  </tbody>\n",
       "</table>\n",
       "<p>3 rows × 16383 columns</p>\n",
       "</div>"
      ],
      "text/plain": [
       "            A.H.V      A     AA  AAA.P.V  AAAJ.P.V  AAALF  AAALY  AAB.TO   \n",
       "date                                                                       \n",
       "2020-04-01    NaN  15.13   3.33      NaN       NaN    NaN    NaN     NaN  \\\n",
       "2021-04-01    NaN  19.68  10.39      NaN       NaN    NaN    NaN     NaN   \n",
       "2022-04-01    NaN  22.48  20.93      NaN       NaN    NaN    NaN     NaN   \n",
       "\n",
       "            AABB  AAC.P.V  ...  SEHKF  SEHLF  SEI.V  SEIBF   SEIC  SEIGF   \n",
       "date                       ...                                             \n",
       "2020-04-01   NaN      NaN  ...    NaN   3.11    NaN   3.91  27.03   6.27  \\\n",
       "2021-04-01   NaN      NaN  ...    NaN   4.16    NaN  -7.54  28.01  30.12   \n",
       "2022-04-01   NaN      NaN  ...    NaN   6.86    NaN   2.66  30.01 -31.51   \n",
       "\n",
       "            SEIGY  SEKEF  SEKEY  SEKYF  \n",
       "date                                    \n",
       "2020-04-01   6.27   3.86   3.86   7.66  \n",
       "2021-04-01  30.12   6.38   6.38   9.30  \n",
       "2022-04-01 -31.51   8.88   8.88   4.45  \n",
       "\n",
       "[3 rows x 16383 columns]"
      ]
     },
     "execution_count": 24,
     "metadata": {},
     "output_type": "execute_result"
    }
   ],
   "source": [
    "ychopmdf.tail(3)\n"
   ]
  },
  {
   "cell_type": "code",
   "execution_count": 41,
   "metadata": {},
   "outputs": [
    {
     "data": {
      "text/plain": [
       "4842"
      ]
     },
     "execution_count": 41,
     "metadata": {},
     "output_type": "execute_result"
    }
   ],
   "source": [
    "# columns which contain less then `thresh` missing values are removed\n",
    "ychopmdf.dropna(axis=1, thresh=12).shape[1]\n"
   ]
  },
  {
   "cell_type": "code",
   "execution_count": 42,
   "metadata": {},
   "outputs": [
    {
     "data": {
      "text/plain": [
       "[<matplotlib.lines.Line2D at 0x2cf69bbcb90>]"
      ]
     },
     "execution_count": 42,
     "metadata": {},
     "output_type": "execute_result"
    },
    {
     "data": {
      "image/png": "[encoded data removed]",
      "text/plain": [
       "<Figure size 640x480 with 1 Axes>"
      ]
     },
     "metadata": {},
     "output_type": "display_data"
    }
   ],
   "source": [
    "remains = [ychopmdf.dropna(axis=1, thresh=i).shape[1] for i in range(15)]\n",
    "plt.plot(remains)\n"
   ]
  }
 ],
 "metadata": {
  "kernelspec": {
   "display_name": ".venv",
   "language": "python",
   "name": "python3"
  },
  "language_info": {
   "codemirror_mode": {
    "name": "ipython",
    "version": 3
   },
   "file_extension": ".py",
   "mimetype": "text/x-python",
   "name": "python",
   "nbconvert_exporter": "python",
   "pygments_lexer": "ipython3",
   "version": "3.11.3"
  },
  "orig_nbformat": 4
 },
 "nbformat": 4,
 "nbformat_minor": 2
}
