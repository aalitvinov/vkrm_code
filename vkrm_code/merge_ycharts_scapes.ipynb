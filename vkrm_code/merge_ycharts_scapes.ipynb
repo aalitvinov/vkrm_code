{
 "cells": [
  {
   "cell_type": "code",
   "execution_count": 71,
   "metadata": {},
   "outputs": [],
   "source": [
    "from ycharts_parsers import YchartsDataVar\n",
    "import polars as pl\n",
    "from glob import glob\n",
    "from tqdm import tqdm\n",
    "from os import listdir"
   ]
  },
  {
   "cell_type": "code",
   "execution_count": 72,
   "metadata": {},
   "outputs": [],
   "source": [
    "YCH_DATA_TYPE = YchartsDataVar.REVENUE\n",
    "PARQUETS_PATH = f\"./data/ycharts/{YCH_DATA_TYPE.value}_parqs\"\n",
    "YCH_DF_PATH = f\"./data/ycharts/\""
   ]
  },
  {
   "cell_type": "code",
   "execution_count": 73,
   "metadata": {},
   "outputs": [
    {
     "data": {
      "text/plain": [
       "2139"
      ]
     },
     "execution_count": 73,
     "metadata": {},
     "output_type": "execute_result"
    }
   ],
   "source": [
    "len(listdir(PARQUETS_PATH))"
   ]
  },
  {
   "cell_type": "code",
   "execution_count": 74,
   "metadata": {},
   "outputs": [
    {
     "name": "stderr",
     "output_type": "stream",
     "text": [
      "100%|██████████| 2139/2139 [00:13<00:00, 152.97it/s]\n"
     ]
    }
   ],
   "source": [
    "df_pl_res = [pl.read_parquet(fp).drop(\"index\") for fp in tqdm(glob(f\"{PARQUETS_PATH}/*.parquet\"))]"
   ]
  },
  {
   "cell_type": "code",
   "execution_count": 75,
   "metadata": {},
   "outputs": [
    {
     "name": "stderr",
     "output_type": "stream",
     "text": [
      "100%|██████████| 2138/2138 [00:05<00:00, 406.26it/s]"
     ]
    },
    {
     "name": "stdout",
     "output_type": "stream",
     "text": [
      "(471, 2140)\n"
     ]
    },
    {
     "name": "stderr",
     "output_type": "stream",
     "text": [
      "\n"
     ]
    }
   ],
   "source": [
    "df_merged = df_pl_res[0]\n",
    "for df in tqdm(df_pl_res[1:]):\n",
    "    df_merged = df_merged.join(df, on=\"date\", how=\"outer\")\n",
    "df_merged = df_merged.sort(\"date\")\n",
    "print(df_merged.shape)"
   ]
  },
  {
   "cell_type": "code",
   "execution_count": 76,
   "metadata": {},
   "outputs": [],
   "source": [
    "df = df_merged.to_pandas().set_index(\"date\").loc[\"2009\":\"2022\"].resample(\"1Y\").mean()\n",
    "df.index = df.index.shift(4, freq='MS') # type: ignore"
   ]
  },
  {
   "cell_type": "code",
   "execution_count": 77,
   "metadata": {},
   "outputs": [],
   "source": [
    "# df_merged.write_parquet(f\"{YCH_DF_PATH}/{YCH_DATA_TYPE.value}_final.parquet\")\n",
    "df.to_csv(f\"{YCH_DF_PATH}/{YCH_DATA_TYPE.value}_final.csv\")"
   ]
  }
 ],
 "metadata": {
  "kernelspec": {
   "display_name": ".venv",
   "language": "python",
   "name": "python3"
  },
  "language_info": {
   "codemirror_mode": {
    "name": "ipython",
    "version": 3
   },
   "file_extension": ".py",
   "mimetype": "text/x-python",
   "name": "python",
   "nbconvert_exporter": "python",
   "pygments_lexer": "ipython3",
   "version": "3.11.3"
  },
  "orig_nbformat": 4
 },
 "nbformat": 4,
 "nbformat_minor": 2
}
