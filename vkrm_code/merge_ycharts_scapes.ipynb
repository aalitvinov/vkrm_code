{
 "cells": [
  {
   "cell_type": "code",
   "execution_count": 1,
   "metadata": {},
   "outputs": [],
   "source": [
    "from ycharts_parsers import YchartsDataVar\n",
    "import polars as pl\n",
    "from glob import glob\n",
    "from tqdm import tqdm\n",
    "from os import listdir"
   ]
  },
  {
   "cell_type": "code",
   "execution_count": 2,
   "metadata": {},
   "outputs": [],
   "source": [
    "YCH_DF_PATH = f\"./data/ycharts/\""
   ]
  },
  {
   "cell_type": "code",
   "execution_count": 3,
   "metadata": {},
   "outputs": [],
   "source": [
    "def merge_parquets(path: str, shift=True, resample=True):\n",
    "    df_pl_res = [pl.read_parquet(fp).drop(\"index\") for fp in tqdm(glob(f\"{path}/*.parquet\"))]\n",
    "    df_merged = df_pl_res[0]\n",
    "    for df in tqdm(df_pl_res[1:]):\n",
    "        df_merged = df_merged.join(df, on=\"date\", how=\"outer\")\n",
    "    df_merged = df_merged.sort(\"date\")\n",
    "    df = df_merged.to_pandas().set_index(\"date\").loc[\"2007\":\"2022\"]\n",
    "    if resample:\n",
    "        df = df.resample(\"1Y\").mean()\n",
    "    if shift:\n",
    "        df.index = df.index.shift(4, freq=\"MS\")  # type: ignore\n",
    "    return df"
   ]
  },
  {
   "cell_type": "code",
   "execution_count": 4,
   "metadata": {},
   "outputs": [
    {
     "data": {
      "text/plain": [
       "2139"
      ]
     },
     "execution_count": 4,
     "metadata": {},
     "output_type": "execute_result"
    }
   ],
   "source": [
    "# Revenue\n",
    "YCH_DATA_TYPE = YchartsDataVar.REVENUE\n",
    "PARQUETS_PATH = f\"./data/ycharts/{YCH_DATA_TYPE.value}_parqs\"\n",
    "len(listdir(PARQUETS_PATH))\n"
   ]
  },
  {
   "cell_type": "code",
   "execution_count": 5,
   "metadata": {},
   "outputs": [
    {
     "name": "stderr",
     "output_type": "stream",
     "text": [
      "100%|██████████| 2139/2139 [00:01<00:00, 1236.18it/s]\n",
      "100%|██████████| 2138/2138 [00:04<00:00, 484.82it/s]\n"
     ]
    }
   ],
   "source": [
    "rev_df = merge_parquets(PARQUETS_PATH)\n",
    "# merge_parquets(PARQUETS_PATH).to_csv(f\"{YCH_DF_PATH}/{YCH_DATA_TYPE.value}_final.csv\")"
   ]
  },
  {
   "cell_type": "code",
   "execution_count": 6,
   "metadata": {},
   "outputs": [
    {
     "data": {
      "text/plain": [
       "2139"
      ]
     },
     "execution_count": 6,
     "metadata": {},
     "output_type": "execute_result"
    }
   ],
   "source": [
    "# Total assets\n",
    "YCH_DATA_TYPE = YchartsDataVar.TOTAL_ASSETS\n",
    "PARQUETS_PATH = f\"./data/ycharts/{YCH_DATA_TYPE.value}_parqs\"\n",
    "len(listdir(PARQUETS_PATH))\n"
   ]
  },
  {
   "cell_type": "code",
   "execution_count": 7,
   "metadata": {},
   "outputs": [
    {
     "name": "stderr",
     "output_type": "stream",
     "text": [
      "100%|██████████| 2139/2139 [00:01<00:00, 1192.17it/s]\n",
      "100%|██████████| 2138/2138 [00:04<00:00, 484.20it/s]\n"
     ]
    }
   ],
   "source": [
    "ta_df = merge_parquets(PARQUETS_PATH, shift=False)\n",
    "# merge_parquets(PARQUETS_PATH).to_csv(f\"{YCH_DF_PATH}/{YCH_DATA_TYPE.value}_final.csv\")"
   ]
  },
  {
   "cell_type": "code",
   "execution_count": 8,
   "metadata": {},
   "outputs": [
    {
     "name": "stdout",
     "output_type": "stream",
     "text": [
      "<class 'pandas.core.frame.DataFrame'>\n",
      "DatetimeIndex: 15 entries, 2009-04-01 to 2023-04-01\n",
      "Columns: 2139 entries, A to SEKEY\n",
      "dtypes: float64(2139)\n",
      "memory usage: 250.8 KB\n"
     ]
    }
   ],
   "source": [
    "# Calculate the mean of two previous dates column-wise\n",
    "average_assets = ta_df.rolling(2, min_periods=2).mean().shift(4, freq=\"MS\").iloc[1:]\n",
    "average_assets.info()"
   ]
  },
  {
   "cell_type": "code",
   "execution_count": 9,
   "metadata": {},
   "outputs": [
    {
     "name": "stdout",
     "output_type": "stream",
     "text": [
      "<class 'pandas.core.frame.DataFrame'>\n",
      "DatetimeIndex: 15 entries, 2009-04-01 to 2023-04-01\n",
      "Columns: 2139 entries, A to SEKEY\n",
      "dtypes: float64(2139)\n",
      "memory usage: 250.8 KB\n"
     ]
    }
   ],
   "source": [
    "rev_df = rev_df.iloc[1:]\n",
    "rev_df.info()"
   ]
  },
  {
   "cell_type": "code",
   "execution_count": 10,
   "metadata": {},
   "outputs": [
    {
     "data": {
      "text/plain": [
       "True"
      ]
     },
     "execution_count": 10,
     "metadata": {},
     "output_type": "execute_result"
    }
   ],
   "source": [
    "sorted(average_assets) == sorted(rev_df)"
   ]
  },
  {
   "attachments": {},
   "cell_type": "markdown",
   "metadata": {},
   "source": [
    "$$\\text{Asset turnover ratio} = \\dfrac{\\text{Revenue}}{\\text{Average total assets}}$$"
   ]
  },
  {
   "cell_type": "code",
   "execution_count": 11,
   "metadata": {},
   "outputs": [],
   "source": [
    "asset_turnover = rev_df / average_assets"
   ]
  },
  {
   "cell_type": "code",
   "execution_count": 12,
   "metadata": {},
   "outputs": [
    {
     "data": {
      "text/plain": [
       "date\n",
       "2009-04-01    59\n",
       "2010-04-01    33\n",
       "2011-04-01    13\n",
       "2012-04-01     2\n",
       "2013-04-01     0\n",
       "2014-04-01     0\n",
       "2015-04-01     1\n",
       "2016-04-01     0\n",
       "2017-04-01     0\n",
       "2018-04-01     1\n",
       "2019-04-01     2\n",
       "2020-04-01     2\n",
       "2021-04-01     1\n",
       "2022-04-01     7\n",
       "2023-04-01    64\n",
       "dtype: int64"
      ]
     },
     "execution_count": 12,
     "metadata": {},
     "output_type": "execute_result"
    }
   ],
   "source": [
    "asset_turnover.isna().sum(1)"
   ]
  },
  {
   "cell_type": "code",
   "execution_count": 13,
   "metadata": {},
   "outputs": [
    {
     "data": {
      "text/plain": [
       "DBOEY     0.016985\n",
       "OSCUF     0.023615\n",
       "CMPNF     0.038124\n",
       "HYSNF     0.039543\n",
       "CKISF     0.045927\n",
       "           ...    \n",
       "AE        7.607255\n",
       "INT       7.779528\n",
       "SBR       8.069753\n",
       "FULO      8.616490\n",
       "DIT      10.200208\n",
       "Length: 2139, dtype: float64"
      ]
     },
     "execution_count": 13,
     "metadata": {},
     "output_type": "execute_result"
    }
   ],
   "source": [
    "asset_turnover.mean().sort_values()"
   ]
  },
  {
   "cell_type": "code",
   "execution_count": 14,
   "metadata": {},
   "outputs": [],
   "source": [
    "asset_turnover.to_csv(f\"{YCH_DF_PATH}/asset_turnover.csv\")"
   ]
  },
  {
   "cell_type": "code",
   "execution_count": 15,
   "metadata": {},
   "outputs": [],
   "source": [
    "import json\n",
    "\n",
    "\n",
    "new_tickers_2139 = sorted(asset_turnover.columns)\n",
    "with open(f\"./data/new_tickers_2139.json\", \"w\") as jsf:\n",
    "    json.dump(new_tickers_2139, jsf)"
   ]
  }
 ],
 "metadata": {
  "kernelspec": {
   "display_name": ".venv",
   "language": "python",
   "name": "python3"
  },
  "language_info": {
   "codemirror_mode": {
    "name": "ipython",
    "version": 3
   },
   "file_extension": ".py",
   "mimetype": "text/x-python",
   "name": "python",
   "nbconvert_exporter": "python",
   "pygments_lexer": "ipython3",
   "version": "3.11.3"
  },
  "orig_nbformat": 4
 },
 "nbformat": 4,
 "nbformat_minor": 2
}
