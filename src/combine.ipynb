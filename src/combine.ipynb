{
 "cells": [
  {
   "cell_type": "code",
   "execution_count": 5,
   "metadata": {},
   "outputs": [],
   "source": [
    "import polars as pl\n",
    "import pandas as pd\n",
    "from glob import glob\n",
    "from tqdm import tqdm\n"
   ]
  },
  {
   "cell_type": "code",
   "execution_count": 2,
   "metadata": {},
   "outputs": [],
   "source": [
    "parquets = glob(\"opm_parqs/*.parquet\")\n"
   ]
  },
  {
   "cell_type": "code",
   "execution_count": 3,
   "metadata": {},
   "outputs": [
    {
     "name": "stderr",
     "output_type": "stream",
     "text": [
      "100%|██████████| 16704/16704 [00:06<00:00, 2418.18it/s]\n"
     ]
    }
   ],
   "source": [
    "df_pl_res = [pl.read_parquet(fp) for fp in tqdm(parquets)]"
   ]
  },
  {
   "cell_type": "code",
   "execution_count": null,
   "metadata": {},
   "outputs": [],
   "source": [
    "df_merged = df_pl_res[0]\n",
    "for df in tqdm(df_pl_res[1:]):\n",
    "    df_merged = df_merged.join(df, on=\"date\", how=\"outer\")\n",
    "# df_pl_joined = pl.concat(df_pl_res, how=\"horizontal\")  # type: ignore\n"
   ]
  },
  {
   "cell_type": "code",
   "execution_count": 16,
   "metadata": {},
   "outputs": [
    {
     "name": "stdout",
     "output_type": "stream",
     "text": [
      "shape: (132, 16_705)\n",
      "┌─────────────────────┬───────┬───────┬──────┬───┬──────┬──────┬──────┬──────┐\n",
      "│ date                ┆ A.H.V ┆ A     ┆ AA   ┆ … ┆ SIGI ┆ SIGL ┆ SIGO ┆ SIGP │\n",
      "│ ---                 ┆ ---   ┆ ---   ┆ ---  ┆   ┆ ---  ┆ ---  ┆ ---  ┆ ---  │\n",
      "│ datetime[ns]        ┆ f64   ┆ f64   ┆ f64  ┆   ┆ f64  ┆ f64  ┆ f64  ┆ f64  │\n",
      "╞═════════════════════╪═══════╪═══════╪══════╪═══╪══════╪══════╪══════╪══════╡\n",
      "│ 2010-10-01 00:00:00 ┆ null  ┆ 10.4  ┆ null ┆ … ┆ null ┆ null ┆ null ┆ null │\n",
      "│ 2011-01-01 00:00:00 ┆ null  ┆ 11.88 ┆ null ┆ … ┆ null ┆ null ┆ null ┆ null │\n",
      "│ 2011-04-01 00:00:00 ┆ null  ┆ 12.91 ┆ null ┆ … ┆ null ┆ null ┆ null ┆ null │\n",
      "│ 2011-07-01 00:00:00 ┆ null  ┆ 14.87 ┆ null ┆ … ┆ null ┆ null ┆ null ┆ null │\n",
      "│ …                   ┆ …     ┆ …     ┆ …    ┆ … ┆ …    ┆ …    ┆ …    ┆ …    │\n",
      "│ 1995-01-01 00:00:00 ┆ null  ┆ null  ┆ null ┆ … ┆ null ┆ null ┆ null ┆ null │\n",
      "│ 1990-10-01 00:00:00 ┆ null  ┆ null  ┆ null ┆ … ┆ null ┆ null ┆ null ┆ null │\n",
      "│ 1996-01-01 00:00:00 ┆ null  ┆ null  ┆ null ┆ … ┆ null ┆ null ┆ null ┆ null │\n",
      "│ 1997-07-01 00:00:00 ┆ null  ┆ null  ┆ null ┆ … ┆ null ┆ null ┆ null ┆ null │\n",
      "└─────────────────────┴───────┴───────┴──────┴───┴──────┴──────┴──────┴──────┘\n"
     ]
    }
   ],
   "source": [
    "df_merged.write_parquet(\"./ch_data/merged.parquet\")\n",
    "df_merged.write_csv(\"./ch_data/merged.csv\")\n",
    "df_merged.shape"
   ]
  },
  {
   "cell_type": "code",
   "execution_count": 6,
   "metadata": {},
   "outputs": [],
   "source": [
    "pddf = pd.read_csv(\"./ch_data/merged.csv\")"
   ]
  },
  {
   "cell_type": "code",
   "execution_count": 7,
   "metadata": {},
   "outputs": [],
   "source": [
    "pddf = pddf.dropna(axis=1,thresh=3).dropna(axis=0, thresh=1000).sort_values(by=\"date\")"
   ]
  },
  {
   "cell_type": "code",
   "execution_count": null,
   "metadata": {},
   "outputs": [],
   "source": []
  },
  {
   "cell_type": "code",
   "execution_count": 8,
   "metadata": {},
   "outputs": [
    {
     "name": "stdout",
     "output_type": "stream",
     "text": [
      "<class 'pandas.core.frame.DataFrame'>\n",
      "Index: 52 entries, 62 to 48\n",
      "Columns: 9732 entries, date to SIGCY\n",
      "dtypes: float64(9731), object(1)\n",
      "memory usage: 3.9+ MB\n"
     ]
    }
   ],
   "source": [
    "pddf.info()"
   ]
  },
  {
   "cell_type": "code",
   "execution_count": 19,
   "metadata": {},
   "outputs": [
    {
     "data": {
      "text/html": [
       "<div><style>\n",
       ".dataframe > thead > tr > th,\n",
       ".dataframe > tbody > tr > td {\n",
       "  text-align: right;\n",
       "}\n",
       "</style>\n",
       "<small>shape: (132, 10023)</small><table border=\"1\" class=\"dataframe\"><thead><tr><th>date</th><th>A</th><th>AA</th><th>AAB.TO</th><th>AACAF</th><th>AACAY</th><th>AACS</th><th>AACTF</th><th>AADI</th><th>AAFRF</th><th>AAGEF</th><th>AAGRY</th><th>AAHIF</th><th>AAIRF</th><th>AAL</th><th>AALBF</th><th>AAMC</th><th>AAMMF</th><th>AAN</th><th>AANNF</th><th>AAOI</th><th>AAON</th><th>AAP</th><th>AAPL.NO</th><th>AAPL</th><th>AARTY</th><th>AASP</th><th>AAT</th><th>AAT.V</th><th>AATC</th><th>AATGF</th><th>AATP</th><th>AAV.TO</th><th>AAVVF</th><th>AAWH</th><th>AAWH.U.CX</th><th>AAYYY</th><th>&hellip;</th><th>SHTLF</th><th>SHUFF</th><th>SHUNF</th><th>SHVLF</th><th>SHVTF</th><th>SHW</th><th>SHWDF</th><th>SHWDY</th><th>SHWGF</th><th>SHWGY</th><th>SHWZ.NO</th><th>SHWZ</th><th>SHXWF</th><th>SHYF</th><th>SHZHY</th><th>SHZNF</th><th>SHZNY</th><th>SIA.TO</th><th>SIACF</th><th>SIARF</th><th>SIBN</th><th>SICRF</th><th>SICUF</th><th>SID</th><th>SIDU</th><th>SIEB</th><th>SIEGY</th><th>SIELF</th><th>SIELY</th><th>SIEN</th><th>SIETY</th><th>SIEVF</th><th>SIF</th><th>SIFY</th><th>SIG</th><th>SIGA</th><th>SIGCY</th></tr><tr><td>datetime[ns]</td><td>f64</td><td>f64</td><td>f64</td><td>f64</td><td>f64</td><td>f64</td><td>f64</td><td>f64</td><td>f64</td><td>f64</td><td>f64</td><td>f64</td><td>f64</td><td>f64</td><td>f64</td><td>f64</td><td>f64</td><td>f64</td><td>f64</td><td>f64</td><td>f64</td><td>f64</td><td>f64</td><td>f64</td><td>f64</td><td>f64</td><td>f64</td><td>f64</td><td>f64</td><td>f64</td><td>f64</td><td>f64</td><td>f64</td><td>f64</td><td>f64</td><td>f64</td><td>&hellip;</td><td>f64</td><td>f64</td><td>f64</td><td>f64</td><td>f64</td><td>f64</td><td>f64</td><td>f64</td><td>f64</td><td>f64</td><td>f64</td><td>f64</td><td>f64</td><td>f64</td><td>f64</td><td>f64</td><td>f64</td><td>f64</td><td>f64</td><td>f64</td><td>f64</td><td>f64</td><td>f64</td><td>f64</td><td>f64</td><td>f64</td><td>f64</td><td>f64</td><td>f64</td><td>f64</td><td>f64</td><td>f64</td><td>f64</td><td>f64</td><td>f64</td><td>f64</td><td>f64</td></tr></thead><tbody><tr><td>2010-10-01 00:00:00</td><td>10.4</td><td>null</td><td>83.6</td><td>31.66</td><td>31.66</td><td>-15.13</td><td>null</td><td>null</td><td>null</td><td>null</td><td>33.35</td><td>12.68</td><td>null</td><td>1.39</td><td>9.94</td><td>null</td><td>null</td><td>null</td><td>null</td><td>null</td><td>13.35</td><td>9.87</td><td>28.16</td><td>28.17</td><td>null</td><td>-21.01</td><td>36.12</td><td>-54.49</td><td>12.75</td><td>-55.21</td><td>null</td><td>67.63</td><td>67.86</td><td>null</td><td>null</td><td>11.26</td><td>&hellip;</td><td>null</td><td>null</td><td>15.6</td><td>30.07</td><td>6.86</td><td>9.56</td><td>4.87</td><td>4.87</td><td>null</td><td>null</td><td>null</td><td>null</td><td>null</td><td>2.41</td><td>24.63</td><td>46.42</td><td>46.42</td><td>null</td><td>null</td><td>null</td><td>null</td><td>19.19</td><td>null</td><td>32.8</td><td>null</td><td>-23.88</td><td>11.04</td><td>5.42</td><td>5.42</td><td>null</td><td>5.9</td><td>5.9</td><td>7.88</td><td>null</td><td>5.83</td><td>-66.21</td><td>null</td></tr><tr><td>2011-01-01 00:00:00</td><td>11.88</td><td>null</td><td>81.32</td><td>null</td><td>null</td><td>-10.19</td><td>null</td><td>null</td><td>null</td><td>null</td><td>34.5</td><td>12.82</td><td>null</td><td>1.65</td><td>null</td><td>null</td><td>null</td><td>null</td><td>null</td><td>null</td><td>11.98</td><td>9.82</td><td>28.98</td><td>29.02</td><td>null</td><td>-20.95</td><td>33.74</td><td>-46.22</td><td>7.33</td><td>-46.58</td><td>null</td><td>45.6</td><td>45.54</td><td>null</td><td>null</td><td>null</td><td>&hellip;</td><td>null</td><td>null</td><td>null</td><td>29.02</td><td>null</td><td>9.48</td><td>5.11</td><td>5.11</td><td>null</td><td>null</td><td>null</td><td>null</td><td>null</td><td>2.1</td><td>null</td><td>46.39</td><td>46.39</td><td>-5.7</td><td>null</td><td>null</td><td>null</td><td>19.84</td><td>null</td><td>32.89</td><td>null</td><td>-11.64</td><td>11.32</td><td>5.18</td><td>5.18</td><td>null</td><td>null</td><td>null</td><td>9.03</td><td>null</td><td>6.83</td><td>-101.9</td><td>null</td></tr><tr><td>2011-04-01 00:00:00</td><td>12.91</td><td>null</td><td>78.84</td><td>31.04</td><td>31.04</td><td>-9.39</td><td>null</td><td>null</td><td>null</td><td>null</td><td>35.22</td><td>14.29</td><td>null</td><td>0.43</td><td>10.36</td><td>null</td><td>null</td><td>null</td><td>null</td><td>null</td><td>10.66</td><td>10.01</td><td>30.37</td><td>30.43</td><td>null</td><td>-14.58</td><td>30.03</td><td>-48.96</td><td>5.29</td><td>-48.93</td><td>null</td><td>30.12</td><td>29.86</td><td>null</td><td>null</td><td>11.19</td><td>&hellip;</td><td>null</td><td>null</td><td>11.22</td><td>32.12</td><td>6.91</td><td>9.12</td><td>5.2</td><td>5.2</td><td>null</td><td>null</td><td>null</td><td>null</td><td>null</td><td>1.37</td><td>24.46</td><td>44.86</td><td>44.86</td><td>-5.79</td><td>null</td><td>null</td><td>null</td><td>23.75</td><td>null</td><td>31.06</td><td>null</td><td>-25.69</td><td>10.86</td><td>6.22</td><td>6.22</td><td>null</td><td>5.7</td><td>5.7</td><td>9.61</td><td>-3.79</td><td>8.48</td><td>-174.5</td><td>null</td></tr><tr><td>2011-07-01 00:00:00</td><td>14.87</td><td>null</td><td>78.04</td><td>null</td><td>null</td><td>-8.33</td><td>null</td><td>null</td><td>null</td><td>null</td><td>33.47</td><td>14.6</td><td>null</td><td>-0.86</td><td>null</td><td>null</td><td>null</td><td>null</td><td>null</td><td>null</td><td>10.86</td><td>10.41</td><td>31.19</td><td>31.22</td><td>null</td><td>-11.17</td><td>28.55</td><td>-63.15</td><td>-0.3</td><td>-62.23</td><td>null</td><td>32.02</td><td>31.32</td><td>null</td><td>null</td><td>null</td><td>&hellip;</td><td>null</td><td>null</td><td>null</td><td>30.46</td><td>null</td><td>8.87</td><td>5.88</td><td>5.88</td><td>null</td><td>null</td><td>null</td><td>null</td><td>null</td><td>1.35</td><td>null</td><td>52.4</td><td>52.4</td><td>-5.75</td><td>null</td><td>null</td><td>null</td><td>24.36</td><td>98.8</td><td>28.54</td><td>null</td><td>-19.44</td><td>10.52</td><td>6.76</td><td>6.76</td><td>null</td><td>null</td><td>null</td><td>10.19</td><td>-4.09</td><td>9.45</td><td>-257.3</td><td>null</td></tr><tr><td>2011-10-01 00:00:00</td><td>16.19</td><td>null</td><td>40.53</td><td>27.96</td><td>27.96</td><td>-5.07</td><td>null</td><td>null</td><td>null</td><td>null</td><td>29.55</td><td>14.67</td><td>null</td><td>-1.18</td><td>10.05</td><td>null</td><td>null</td><td>null</td><td>null</td><td>null</td><td>9.0</td><td>10.77</td><td>33.93</td><td>33.87</td><td>null</td><td>-5.9</td><td>27.79</td><td>-36.11</td><td>-5.55</td><td>-35.85</td><td>null</td><td>5.92</td><td>5.94</td><td>null</td><td>null</td><td>-32.48</td><td>&hellip;</td><td>null</td><td>null</td><td>7.79</td><td>31.13</td><td>6.37</td><td>8.84</td><td>5.55</td><td>5.55</td><td>null</td><td>null</td><td>null</td><td>null</td><td>null</td><td>0.56</td><td>23.56</td><td>53.42</td><td>53.42</td><td>-0.4</td><td>null</td><td>null</td><td>null</td><td>23.66</td><td>20.02</td><td>31.9</td><td>null</td><td>-21.71</td><td>9.29</td><td>7.54</td><td>7.54</td><td>null</td><td>5.89</td><td>5.89</td><td>9.37</td><td>null</td><td>9.93</td><td>-246.6</td><td>null</td></tr><tr><td>2012-01-01 00:00:00</td><td>16.8</td><td>null</td><td>null</td><td>null</td><td>null</td><td>-4.77</td><td>null</td><td>null</td><td>null</td><td>null</td><td>26.48</td><td>12.37</td><td>null</td><td>-0.52</td><td>null</td><td>null</td><td>null</td><td>null</td><td>null</td><td>null</td><td>9.37</td><td>11.29</td><td>35.75</td><td>35.69</td><td>null</td><td>-3.63</td><td>27.34</td><td>-36.46</td><td>-4.92</td><td>-36.25</td><td>null</td><td>3.74</td><td>3.78</td><td>null</td><td>null</td><td>null</td><td>&hellip;</td><td>null</td><td>2.96</td><td>null</td><td>31.32</td><td>null</td><td>9.08</td><td>5.64</td><td>5.64</td><td>null</td><td>null</td><td>null</td><td>null</td><td>null</td><td>0.46</td><td>null</td><td>54.47</td><td>54.47</td><td>-0.03</td><td>null</td><td>null</td><td>null</td><td>24.48</td><td>19.74</td><td>29.25</td><td>null</td><td>-12.69</td><td>8.97</td><td>8.04</td><td>8.04</td><td>null</td><td>null</td><td>null</td><td>8.51</td><td>null</td><td>10.16</td><td>-243.9</td><td>null</td></tr><tr><td>2012-04-01 00:00:00</td><td>17.17</td><td>null</td><td>null</td><td>28.26</td><td>28.26</td><td>-4.51</td><td>null</td><td>null</td><td>null</td><td>null</td><td>25.32</td><td>11.2</td><td>null</td><td>0.8</td><td>9.88</td><td>null</td><td>null</td><td>null</td><td>null</td><td>null</td><td>11.76</td><td>11.0</td><td>35.65</td><td>35.62</td><td>null</td><td>-5.04</td><td>28.14</td><td>-33.18</td><td>-7.28</td><td>-33.04</td><td>null</td><td>-2.51</td><td>-2.51</td><td>null</td><td>null</td><td>-33.83</td><td>&hellip;</td><td>null</td><td>null</td><td>5.03</td><td>29.78</td><td>4.86</td><td>9.6</td><td>5.23</td><td>5.23</td><td>null</td><td>null</td><td>null</td><td>null</td><td>null</td><td>1.86</td><td>22.83</td><td>56.02</td><td>56.02</td><td>1.75</td><td>null</td><td>null</td><td>null</td><td>21.81</td><td>17.06</td><td>10.85</td><td>null</td><td>-5.18</td><td>8.78</td><td>7.78</td><td>7.78</td><td>null</td><td>4.82</td><td>4.82</td><td>8.74</td><td>-2.87</td><td>10.41</td><td>-202.2</td><td>null</td></tr><tr><td>2012-07-01 00:00:00</td><td>16.92</td><td>null</td><td>null</td><td>null</td><td>null</td><td>-3.86</td><td>null</td><td>null</td><td>null</td><td>null</td><td>26.55</td><td>10.65</td><td>null</td><td>1.69</td><td>null</td><td>null</td><td>null</td><td>null</td><td>null</td><td>null</td><td>12.19</td><td>10.58</td><td>35.31</td><td>35.3</td><td>null</td><td>-7.01</td><td>28.95</td><td>-29.99</td><td>-3.36</td><td>-29.82</td><td>null</td><td>-5.42</td><td>-5.48</td><td>null</td><td>null</td><td>null</td><td>&hellip;</td><td>null</td><td>2.69</td><td>null</td><td>32.34</td><td>null</td><td>10.27</td><td>4.26</td><td>4.26</td><td>null</td><td>null</td><td>null</td><td>null</td><td>null</td><td>0.7</td><td>null</td><td>47.96</td><td>47.96</td><td>3.02</td><td>null</td><td>null</td><td>null</td><td>22.47</td><td>16.32</td><td>4.3</td><td>null</td><td>-3.49</td><td>8.56</td><td>7.84</td><td>7.84</td><td>null</td><td>null</td><td>null</td><td>8.77</td><td>-2.01</td><td>10.48</td><td>-219.4</td><td>null</td></tr><tr><td>2012-10-01 00:00:00</td><td>16.32</td><td>null</td><td>null</td><td>29.43</td><td>29.43</td><td>-4.38</td><td>null</td><td>null</td><td>null</td><td>null</td><td>29.74</td><td>10.26</td><td>null</td><td>2.14</td><td>9.98</td><td>null</td><td>null</td><td>null</td><td>null</td><td>null</td><td>14.73</td><td>10.59</td><td>33.47</td><td>33.46</td><td>null</td><td>-12.74</td><td>30.54</td><td>-17.11</td><td>0.18</td><td>-17.1</td><td>null</td><td>-5.57</td><td>-5.49</td><td>null</td><td>null</td><td>-45.04</td><td>&hellip;</td><td>null</td><td>2.95</td><td>0.5</td><td>27.69</td><td>7.8</td><td>9.86</td><td>3.81</td><td>3.81</td><td>null</td><td>null</td><td>null</td><td>null</td><td>null</td><td>0.01</td><td>22.34</td><td>45.62</td><td>45.62</td><td>4.98</td><td>null</td><td>null</td><td>null</td><td>22.46</td><td>16.44</td><td>10.71</td><td>null</td><td>-1.0</td><td>8.7</td><td>6.7</td><td>6.7</td><td>null</td><td>5.11</td><td>5.11</td><td>9.1</td><td>-1.4</td><td>10.73</td><td>-246.3</td><td>null</td></tr><tr><td>2013-01-01 00:00:00</td><td>15.43</td><td>null</td><td>null</td><td>null</td><td>null</td><td>-4.63</td><td>null</td><td>null</td><td>null</td><td>null</td><td>28.94</td><td>10.91</td><td>null</td><td>3.02</td><td>null</td><td>null</td><td>null</td><td>null</td><td>null</td><td>null</td><td>14.9</td><td>10.17</td><td>30.92</td><td>30.92</td><td>null</td><td>-13.48</td><td>30.96</td><td>-16.31</td><td>-8.59</td><td>-16.3</td><td>null</td><td>-2.0</td><td>-1.94</td><td>null</td><td>null</td><td>null</td><td>&hellip;</td><td>null</td><td>3.14</td><td>null</td><td>25.6</td><td>null</td><td>10.21</td><td>2.97</td><td>2.97</td><td>null</td><td>null</td><td>null</td><td>null</td><td>null</td><td>-1.15</td><td>null</td><td>43.61</td><td>43.61</td><td>5.84</td><td>null</td><td>null</td><td>null</td><td>22.6</td><td>15.91</td><td>10.26</td><td>null</td><td>-8.9</td><td>7.93</td><td>6.21</td><td>6.21</td><td>null</td><td>null</td><td>null</td><td>9.48</td><td>-0.26</td><td>10.02</td><td>-253.0</td><td>null</td></tr><tr><td>2013-04-01 00:00:00</td><td>14.17</td><td>null</td><td>null</td><td>29.01</td><td>29.01</td><td>-4.51</td><td>null</td><td>null</td><td>null</td><td>null</td><td>26.77</td><td>10.33</td><td>null</td><td>4.13</td><td>9.74</td><td>null</td><td>null</td><td>null</td><td>null</td><td>-0.37</td><td>15.93</td><td>10.43</td><td>29.44</td><td>29.46</td><td>null</td><td>-16.53</td><td>31.21</td><td>-15.16</td><td>-15.64</td><td>-15.17</td><td>null</td><td>7.82</td><td>7.77</td><td>null</td><td>null</td><td>null</td><td>&hellip;</td><td>null</td><td>3.35</td><td>-0.63</td><td>24.47</td><td>20.99</td><td>10.67</td><td>2.46</td><td>2.46</td><td>null</td><td>null</td><td>null</td><td>null</td><td>null</td><td>-1.78</td><td>23.03</td><td>43.57</td><td>43.57</td><td>5.61</td><td>null</td><td>null</td><td>null</td><td>24.15</td><td>19.15</td><td>25.6</td><td>null</td><td>-15.45</td><td>7.35</td><td>5.75</td><td>5.75</td><td>null</td><td>5.2</td><td>5.2</td><td>10.54</td><td>2.18</td><td>10.12</td><td>-305.1</td><td>null</td></tr><tr><td>2013-07-01 00:00:00</td><td>13.82</td><td>null</td><td>null</td><td>null</td><td>null</td><td>-2.38</td><td>null</td><td>null</td><td>null</td><td>null</td><td>23.41</td><td>10.07</td><td>null</td><td>5.86</td><td>null</td><td>null</td><td>null</td><td>null</td><td>null</td><td>0.81</td><td>17.31</td><td>10.64</td><td>28.63</td><td>28.67</td><td>null</td><td>-13.46</td><td>31.93</td><td>-15.17</td><td>-25.7</td><td>-15.17</td><td>null</td><td>10.5</td><td>10.6</td><td>null</td><td>null</td><td>-49.29</td><td>&hellip;</td><td>null</td><td>3.43</td><td>null</td><td>18.53</td><td>null</td><td>10.96</td><td>2.46</td><td>2.46</td><td>null</td><td>null</td><td>null</td><td>null</td><td>null</td><td>-1.3</td><td>null</td><td>44.8</td><td>44.8</td><td>6.13</td><td>null</td><td>null</td><td>null</td><td>25.69</td><td>20.49</td><td>27.33</td><td>null</td><td>-23.28</td><td>6.82</td><td>5.38</td><td>5.38</td><td>null</td><td>null</td><td>null</td><td>11.79</td><td>4.27</td><td>9.92</td><td>-306.6</td><td>null</td></tr><tr><td>&hellip;</td><td>&hellip;</td><td>&hellip;</td><td>&hellip;</td><td>&hellip;</td><td>&hellip;</td><td>&hellip;</td><td>&hellip;</td><td>&hellip;</td><td>&hellip;</td><td>&hellip;</td><td>&hellip;</td><td>&hellip;</td><td>&hellip;</td><td>&hellip;</td><td>&hellip;</td><td>&hellip;</td><td>&hellip;</td><td>&hellip;</td><td>&hellip;</td><td>&hellip;</td><td>&hellip;</td><td>&hellip;</td><td>&hellip;</td><td>&hellip;</td><td>&hellip;</td><td>&hellip;</td><td>&hellip;</td><td>&hellip;</td><td>&hellip;</td><td>&hellip;</td><td>&hellip;</td><td>&hellip;</td><td>&hellip;</td><td>&hellip;</td><td>&hellip;</td><td>&hellip;</td><td>&hellip;</td><td>&hellip;</td><td>&hellip;</td><td>&hellip;</td><td>&hellip;</td><td>&hellip;</td><td>&hellip;</td><td>&hellip;</td><td>&hellip;</td><td>&hellip;</td><td>&hellip;</td><td>&hellip;</td><td>&hellip;</td><td>&hellip;</td><td>&hellip;</td><td>&hellip;</td><td>&hellip;</td><td>&hellip;</td><td>&hellip;</td><td>&hellip;</td><td>&hellip;</td><td>&hellip;</td><td>&hellip;</td><td>&hellip;</td><td>&hellip;</td><td>&hellip;</td><td>&hellip;</td><td>&hellip;</td><td>&hellip;</td><td>&hellip;</td><td>&hellip;</td><td>&hellip;</td><td>&hellip;</td><td>&hellip;</td><td>&hellip;</td><td>&hellip;</td><td>&hellip;</td><td>&hellip;</td></tr><tr><td>1997-01-01 00:00:00</td><td>null</td><td>null</td><td>null</td><td>null</td><td>null</td><td>null</td><td>null</td><td>null</td><td>null</td><td>null</td><td>null</td><td>null</td><td>null</td><td>null</td><td>null</td><td>null</td><td>null</td><td>null</td><td>null</td><td>null</td><td>null</td><td>null</td><td>null</td><td>null</td><td>null</td><td>null</td><td>null</td><td>null</td><td>null</td><td>null</td><td>null</td><td>null</td><td>null</td><td>null</td><td>null</td><td>null</td><td>&hellip;</td><td>null</td><td>null</td><td>null</td><td>null</td><td>null</td><td>null</td><td>null</td><td>null</td><td>null</td><td>null</td><td>null</td><td>null</td><td>null</td><td>null</td><td>null</td><td>null</td><td>null</td><td>null</td><td>null</td><td>null</td><td>null</td><td>null</td><td>null</td><td>null</td><td>null</td><td>null</td><td>null</td><td>null</td><td>null</td><td>null</td><td>null</td><td>null</td><td>null</td><td>null</td><td>null</td><td>null</td><td>null</td></tr><tr><td>1995-07-01 00:00:00</td><td>null</td><td>null</td><td>null</td><td>null</td><td>null</td><td>null</td><td>null</td><td>null</td><td>null</td><td>null</td><td>null</td><td>null</td><td>null</td><td>null</td><td>null</td><td>null</td><td>null</td><td>null</td><td>null</td><td>null</td><td>null</td><td>null</td><td>null</td><td>null</td><td>null</td><td>null</td><td>null</td><td>null</td><td>null</td><td>null</td><td>null</td><td>null</td><td>null</td><td>null</td><td>null</td><td>null</td><td>&hellip;</td><td>null</td><td>null</td><td>null</td><td>null</td><td>null</td><td>null</td><td>null</td><td>null</td><td>null</td><td>null</td><td>null</td><td>null</td><td>null</td><td>null</td><td>null</td><td>null</td><td>null</td><td>null</td><td>null</td><td>null</td><td>null</td><td>null</td><td>null</td><td>null</td><td>null</td><td>null</td><td>null</td><td>null</td><td>null</td><td>null</td><td>null</td><td>null</td><td>null</td><td>null</td><td>null</td><td>null</td><td>null</td></tr><tr><td>1990-07-01 00:00:00</td><td>null</td><td>null</td><td>null</td><td>null</td><td>null</td><td>null</td><td>null</td><td>null</td><td>null</td><td>null</td><td>null</td><td>null</td><td>null</td><td>null</td><td>null</td><td>null</td><td>null</td><td>null</td><td>null</td><td>null</td><td>null</td><td>null</td><td>null</td><td>null</td><td>null</td><td>null</td><td>null</td><td>null</td><td>null</td><td>null</td><td>null</td><td>null</td><td>null</td><td>null</td><td>null</td><td>null</td><td>&hellip;</td><td>null</td><td>null</td><td>null</td><td>null</td><td>null</td><td>null</td><td>null</td><td>null</td><td>null</td><td>null</td><td>null</td><td>null</td><td>null</td><td>null</td><td>null</td><td>null</td><td>null</td><td>null</td><td>null</td><td>null</td><td>null</td><td>null</td><td>null</td><td>null</td><td>null</td><td>null</td><td>null</td><td>null</td><td>null</td><td>null</td><td>null</td><td>null</td><td>null</td><td>null</td><td>null</td><td>null</td><td>null</td></tr><tr><td>1996-07-01 00:00:00</td><td>null</td><td>null</td><td>null</td><td>null</td><td>null</td><td>null</td><td>null</td><td>null</td><td>null</td><td>null</td><td>null</td><td>null</td><td>null</td><td>null</td><td>null</td><td>null</td><td>null</td><td>null</td><td>null</td><td>null</td><td>null</td><td>null</td><td>null</td><td>null</td><td>null</td><td>null</td><td>null</td><td>null</td><td>null</td><td>null</td><td>null</td><td>null</td><td>null</td><td>null</td><td>null</td><td>null</td><td>&hellip;</td><td>null</td><td>null</td><td>null</td><td>null</td><td>null</td><td>null</td><td>null</td><td>null</td><td>null</td><td>null</td><td>null</td><td>null</td><td>null</td><td>null</td><td>null</td><td>null</td><td>null</td><td>null</td><td>null</td><td>null</td><td>null</td><td>null</td><td>null</td><td>null</td><td>null</td><td>null</td><td>null</td><td>null</td><td>null</td><td>null</td><td>null</td><td>null</td><td>null</td><td>null</td><td>null</td><td>null</td><td>null</td></tr><tr><td>1992-10-01 00:00:00</td><td>null</td><td>null</td><td>null</td><td>null</td><td>null</td><td>null</td><td>null</td><td>null</td><td>null</td><td>null</td><td>null</td><td>null</td><td>null</td><td>null</td><td>null</td><td>null</td><td>null</td><td>null</td><td>null</td><td>null</td><td>null</td><td>null</td><td>null</td><td>null</td><td>null</td><td>null</td><td>null</td><td>null</td><td>null</td><td>null</td><td>null</td><td>null</td><td>null</td><td>null</td><td>null</td><td>null</td><td>&hellip;</td><td>null</td><td>null</td><td>null</td><td>null</td><td>null</td><td>null</td><td>null</td><td>null</td><td>null</td><td>null</td><td>null</td><td>null</td><td>null</td><td>null</td><td>null</td><td>null</td><td>null</td><td>null</td><td>null</td><td>null</td><td>null</td><td>null</td><td>null</td><td>null</td><td>null</td><td>null</td><td>null</td><td>null</td><td>null</td><td>null</td><td>null</td><td>null</td><td>null</td><td>null</td><td>null</td><td>null</td><td>null</td></tr><tr><td>1991-01-01 00:00:00</td><td>null</td><td>null</td><td>null</td><td>null</td><td>null</td><td>null</td><td>null</td><td>null</td><td>null</td><td>null</td><td>null</td><td>null</td><td>null</td><td>null</td><td>null</td><td>null</td><td>null</td><td>null</td><td>null</td><td>null</td><td>null</td><td>null</td><td>null</td><td>null</td><td>null</td><td>null</td><td>null</td><td>null</td><td>null</td><td>null</td><td>null</td><td>null</td><td>null</td><td>null</td><td>null</td><td>null</td><td>&hellip;</td><td>null</td><td>null</td><td>null</td><td>null</td><td>null</td><td>null</td><td>null</td><td>null</td><td>null</td><td>null</td><td>null</td><td>null</td><td>null</td><td>null</td><td>null</td><td>null</td><td>null</td><td>null</td><td>null</td><td>null</td><td>null</td><td>null</td><td>null</td><td>null</td><td>null</td><td>null</td><td>null</td><td>null</td><td>null</td><td>null</td><td>null</td><td>null</td><td>null</td><td>null</td><td>null</td><td>null</td><td>null</td></tr><tr><td>1992-07-01 00:00:00</td><td>null</td><td>null</td><td>null</td><td>null</td><td>null</td><td>null</td><td>null</td><td>null</td><td>null</td><td>null</td><td>null</td><td>null</td><td>null</td><td>null</td><td>null</td><td>null</td><td>null</td><td>null</td><td>null</td><td>null</td><td>null</td><td>null</td><td>null</td><td>null</td><td>null</td><td>null</td><td>null</td><td>null</td><td>null</td><td>null</td><td>null</td><td>null</td><td>null</td><td>null</td><td>null</td><td>null</td><td>&hellip;</td><td>null</td><td>null</td><td>null</td><td>null</td><td>null</td><td>null</td><td>null</td><td>null</td><td>null</td><td>null</td><td>null</td><td>null</td><td>null</td><td>null</td><td>null</td><td>null</td><td>null</td><td>null</td><td>null</td><td>null</td><td>null</td><td>null</td><td>null</td><td>null</td><td>null</td><td>null</td><td>null</td><td>null</td><td>null</td><td>null</td><td>null</td><td>null</td><td>null</td><td>null</td><td>null</td><td>null</td><td>null</td></tr><tr><td>1993-07-01 00:00:00</td><td>null</td><td>null</td><td>null</td><td>null</td><td>null</td><td>null</td><td>null</td><td>null</td><td>null</td><td>null</td><td>null</td><td>null</td><td>null</td><td>null</td><td>null</td><td>null</td><td>null</td><td>null</td><td>null</td><td>null</td><td>null</td><td>null</td><td>null</td><td>null</td><td>null</td><td>null</td><td>null</td><td>null</td><td>null</td><td>null</td><td>null</td><td>null</td><td>null</td><td>null</td><td>null</td><td>null</td><td>&hellip;</td><td>null</td><td>null</td><td>null</td><td>null</td><td>null</td><td>null</td><td>null</td><td>null</td><td>null</td><td>null</td><td>null</td><td>null</td><td>null</td><td>null</td><td>null</td><td>null</td><td>null</td><td>null</td><td>null</td><td>null</td><td>null</td><td>null</td><td>null</td><td>null</td><td>null</td><td>null</td><td>null</td><td>null</td><td>null</td><td>null</td><td>null</td><td>null</td><td>null</td><td>null</td><td>null</td><td>null</td><td>null</td></tr><tr><td>1995-01-01 00:00:00</td><td>null</td><td>null</td><td>null</td><td>null</td><td>null</td><td>null</td><td>null</td><td>null</td><td>null</td><td>null</td><td>null</td><td>null</td><td>null</td><td>null</td><td>null</td><td>null</td><td>null</td><td>null</td><td>null</td><td>null</td><td>null</td><td>null</td><td>null</td><td>null</td><td>null</td><td>null</td><td>null</td><td>null</td><td>null</td><td>null</td><td>null</td><td>null</td><td>null</td><td>null</td><td>null</td><td>null</td><td>&hellip;</td><td>null</td><td>null</td><td>null</td><td>null</td><td>null</td><td>null</td><td>null</td><td>null</td><td>null</td><td>null</td><td>null</td><td>null</td><td>null</td><td>null</td><td>null</td><td>null</td><td>null</td><td>null</td><td>null</td><td>null</td><td>null</td><td>null</td><td>null</td><td>null</td><td>null</td><td>null</td><td>null</td><td>null</td><td>null</td><td>null</td><td>null</td><td>null</td><td>null</td><td>null</td><td>null</td><td>null</td><td>null</td></tr><tr><td>1990-10-01 00:00:00</td><td>null</td><td>null</td><td>null</td><td>null</td><td>null</td><td>null</td><td>null</td><td>null</td><td>null</td><td>null</td><td>null</td><td>null</td><td>null</td><td>null</td><td>null</td><td>null</td><td>null</td><td>null</td><td>null</td><td>null</td><td>null</td><td>null</td><td>null</td><td>null</td><td>null</td><td>null</td><td>null</td><td>null</td><td>null</td><td>null</td><td>null</td><td>null</td><td>null</td><td>null</td><td>null</td><td>null</td><td>&hellip;</td><td>null</td><td>null</td><td>null</td><td>null</td><td>null</td><td>null</td><td>null</td><td>null</td><td>null</td><td>null</td><td>null</td><td>null</td><td>null</td><td>null</td><td>null</td><td>null</td><td>null</td><td>null</td><td>null</td><td>null</td><td>null</td><td>null</td><td>null</td><td>null</td><td>null</td><td>null</td><td>null</td><td>null</td><td>null</td><td>null</td><td>null</td><td>null</td><td>null</td><td>null</td><td>null</td><td>null</td><td>null</td></tr><tr><td>1996-01-01 00:00:00</td><td>null</td><td>null</td><td>null</td><td>null</td><td>null</td><td>null</td><td>null</td><td>null</td><td>null</td><td>null</td><td>null</td><td>null</td><td>null</td><td>null</td><td>null</td><td>null</td><td>null</td><td>null</td><td>null</td><td>null</td><td>null</td><td>null</td><td>null</td><td>null</td><td>null</td><td>null</td><td>null</td><td>null</td><td>null</td><td>null</td><td>null</td><td>null</td><td>null</td><td>null</td><td>null</td><td>null</td><td>&hellip;</td><td>null</td><td>null</td><td>null</td><td>null</td><td>null</td><td>null</td><td>null</td><td>null</td><td>null</td><td>null</td><td>null</td><td>null</td><td>null</td><td>null</td><td>null</td><td>null</td><td>null</td><td>null</td><td>null</td><td>null</td><td>null</td><td>null</td><td>null</td><td>null</td><td>null</td><td>null</td><td>null</td><td>null</td><td>null</td><td>null</td><td>null</td><td>null</td><td>null</td><td>null</td><td>null</td><td>null</td><td>null</td></tr><tr><td>1997-07-01 00:00:00</td><td>null</td><td>null</td><td>null</td><td>null</td><td>null</td><td>null</td><td>null</td><td>null</td><td>null</td><td>null</td><td>null</td><td>null</td><td>null</td><td>null</td><td>null</td><td>null</td><td>null</td><td>null</td><td>null</td><td>null</td><td>null</td><td>null</td><td>null</td><td>null</td><td>null</td><td>null</td><td>null</td><td>null</td><td>null</td><td>null</td><td>null</td><td>null</td><td>null</td><td>null</td><td>null</td><td>null</td><td>&hellip;</td><td>null</td><td>null</td><td>null</td><td>null</td><td>null</td><td>null</td><td>null</td><td>null</td><td>null</td><td>null</td><td>null</td><td>null</td><td>null</td><td>null</td><td>null</td><td>null</td><td>null</td><td>null</td><td>null</td><td>null</td><td>null</td><td>null</td><td>null</td><td>null</td><td>null</td><td>null</td><td>null</td><td>null</td><td>null</td><td>null</td><td>null</td><td>null</td><td>null</td><td>null</td><td>null</td><td>null</td><td>null</td></tr></tbody></table></div>"
      ],
      "text/plain": [
       "shape: (132, 10_023)\n",
       "┌─────────────────────┬───────┬──────┬────────┬───┬───────┬──────┬────────┬───────┐\n",
       "│ date                ┆ A     ┆ AA   ┆ AAB.TO ┆ … ┆ SIFY  ┆ SIG  ┆ SIGA   ┆ SIGCY │\n",
       "│ ---                 ┆ ---   ┆ ---  ┆ ---    ┆   ┆ ---   ┆ ---  ┆ ---    ┆ ---   │\n",
       "│ datetime[ns]        ┆ f64   ┆ f64  ┆ f64    ┆   ┆ f64   ┆ f64  ┆ f64    ┆ f64   │\n",
       "╞═════════════════════╪═══════╪══════╪════════╪═══╪═══════╪══════╪════════╪═══════╡\n",
       "│ 2010-10-01 00:00:00 ┆ 10.4  ┆ null ┆ 83.6   ┆ … ┆ null  ┆ 5.83 ┆ -66.21 ┆ null  │\n",
       "│ 2011-01-01 00:00:00 ┆ 11.88 ┆ null ┆ 81.32  ┆ … ┆ null  ┆ 6.83 ┆ -101.9 ┆ null  │\n",
       "│ 2011-04-01 00:00:00 ┆ 12.91 ┆ null ┆ 78.84  ┆ … ┆ -3.79 ┆ 8.48 ┆ -174.5 ┆ null  │\n",
       "│ 2011-07-01 00:00:00 ┆ 14.87 ┆ null ┆ 78.04  ┆ … ┆ -4.09 ┆ 9.45 ┆ -257.3 ┆ null  │\n",
       "│ …                   ┆ …     ┆ …    ┆ …      ┆ … ┆ …     ┆ …    ┆ …      ┆ …     │\n",
       "│ 1995-01-01 00:00:00 ┆ null  ┆ null ┆ null   ┆ … ┆ null  ┆ null ┆ null   ┆ null  │\n",
       "│ 1990-10-01 00:00:00 ┆ null  ┆ null ┆ null   ┆ … ┆ null  ┆ null ┆ null   ┆ null  │\n",
       "│ 1996-01-01 00:00:00 ┆ null  ┆ null ┆ null   ┆ … ┆ null  ┆ null ┆ null   ┆ null  │\n",
       "│ 1997-07-01 00:00:00 ┆ null  ┆ null ┆ null   ┆ … ┆ null  ┆ null ┆ null   ┆ null  │\n",
       "└─────────────────────┴───────┴──────┴────────┴───┴───────┴──────┴────────┴───────┘"
      ]
     },
     "execution_count": 19,
     "metadata": {},
     "output_type": "execute_result"
    }
   ],
   "source": [
    "df_merged[[s.name for s in df_merged if not (s.null_count() == df_merged.height)]]"
   ]
  }
 ],
 "metadata": {
  "kernelspec": {
   "display_name": "venv",
   "language": "python",
   "name": "python3"
  },
  "language_info": {
   "codemirror_mode": {
    "name": "ipython",
    "version": 3
   },
   "file_extension": ".py",
   "mimetype": "text/x-python",
   "name": "python",
   "nbconvert_exporter": "python",
   "pygments_lexer": "ipython3",
   "version": "3.11.3"
  },
  "orig_nbformat": 4
 },
 "nbformat": 4,
 "nbformat_minor": 2
}
