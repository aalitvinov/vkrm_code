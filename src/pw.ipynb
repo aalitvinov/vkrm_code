{
 "cells": [
  {
   "cell_type": "code",
   "execution_count": 1,
   "metadata": {},
   "outputs": [],
   "source": [
    "from time import sleep\n",
    "from bs4 import BeautifulSoup\n",
    "import pandas as pd\n",
    "import json\n",
    "from numpy import float16\n",
    "import polars as pl"
   ]
  },
  {
   "cell_type": "code",
   "execution_count": 2,
   "metadata": {},
   "outputs": [],
   "source": [
    "TEST_TICKER = \"NOK\"\n",
    "DEBUG_STATE = True"
   ]
  },
  {
   "cell_type": "code",
   "execution_count": 3,
   "metadata": {},
   "outputs": [],
   "source": [
    "with open(f\"{TEST_TICKER}.html\") as fd:\n",
    "    page_text = fd.read()"
   ]
  },
  {
   "cell_type": "code",
   "execution_count": 64,
   "metadata": {},
   "outputs": [],
   "source": [
    "def parse_html_to_df(page_text: str) -> pd.DataFrame:\n",
    "    soup = BeautifulSoup(page_text, \"lxml\")\n",
    "    data_tables = soup.find(\"div\", {\"ng-bind-html\": \"$ctrl.dataTableHtml\"})\n",
    "    tables = data_tables.find_all(\"table\", {\"class\": \"table\"})  # type: ignore\n",
    "    parsed_tables = pd.read_html(str(tables), flavor=\"lxml\")\n",
    "    df = pd.concat(parsed_tables)\n",
    "    df.columns = (\"date\", \"value\")\n",
    "    return df\n",
    "\n",
    "\n",
    "def parse_html_to_pd(page_text: str) -> pd.DataFrame:\n",
    "    df = parse_html_to_df(page_text)\n",
    "    df[\"date\"] = pd.to_datetime(df[\"date\"], format=\"%B %d, %Y\")\n",
    "    df[\"date\"] = df[\"date\"].dt.to_period(\"M\").dt.to_timestamp()\n",
    "    df[\"value\"] = df[\"value\"].str.strip(\"%\").astype(float16)\n",
    "    return df\n",
    "\n",
    "\n",
    "def parse_html_to_pl(page_text: str) -> pl.DataFrame:\n",
    "    df = parse_html_to_df(page_text)\n",
    "    df[\"date\"] = pd.to_datetime(df[\"date\"], format=\"%B %d, %Y\")\n",
    "    df[\"date\"] = df[\"date\"].dt.to_period(\"M\").dt.to_timestamp()\n",
    "    pldf = pl.from_pandas(df)\n",
    "    pldf = pldf.with_columns(\n",
    "        pldf[\"value\"].str.replace(\"%\", \"\").cast(pl.Float64).alias(\"value\")\n",
    "    )\n",
    "    return pldf\n"
   ]
  },
  {
   "cell_type": "code",
   "execution_count": 68,
   "metadata": {},
   "outputs": [],
   "source": [
    "df = parse_html_to_df(page_text)\n",
    "pldf = parse_html_to_pl(page_text).sort(by=\"date\")"
   ]
  },
  {
   "cell_type": "code",
   "execution_count": 85,
   "metadata": {},
   "outputs": [
    {
     "data": {
      "text/html": [
       "<div><style>\n",
       ".dataframe > thead > tr > th,\n",
       ".dataframe > tbody > tr > td {\n",
       "  text-align: right;\n",
       "}\n",
       "</style>\n",
       "<small>shape: (50, 2)</small><table border=\"1\" class=\"dataframe\"><thead><tr><th>date</th><th>value</th></tr><tr><td>datetime[ns]</td><td>f64</td></tr></thead><tbody><tr><td>2010-07-01 00:00:00</td><td>5.59</td></tr><tr><td>2010-10-01 00:00:00</td><td>4.92</td></tr><tr><td>2011-01-01 00:00:00</td><td>4.8</td></tr><tr><td>2011-04-01 00:00:00</td><td>4.6</td></tr><tr><td>2011-07-01 00:00:00</td><td>3.9</td></tr><tr><td>2011-10-01 00:00:00</td><td>-0.05</td></tr><tr><td>2012-01-01 00:00:00</td><td>-12.75</td></tr><tr><td>2012-04-01 00:00:00</td><td>-24.92</td></tr><tr><td>2012-07-01 00:00:00</td><td>-39.49</td></tr><tr><td>2012-10-01 00:00:00</td><td>2.9</td></tr><tr><td>2013-01-01 00:00:00</td><td>16.15</td></tr><tr><td>2013-04-01 00:00:00</td><td>39.14</td></tr><tr><td>&hellip;</td><td>&hellip;</td></tr><tr><td>2020-01-01 00:00:00</td><td>4.09</td></tr><tr><td>2020-04-01 00:00:00</td><td>5.23</td></tr><tr><td>2020-07-01 00:00:00</td><td>5.72</td></tr><tr><td>2020-10-01 00:00:00</td><td>4.78</td></tr><tr><td>2021-01-01 00:00:00</td><td>6.99</td></tr><tr><td>2021-04-01 00:00:00</td><td>8.28</td></tr><tr><td>2021-07-01 00:00:00</td><td>8.91</td></tr><tr><td>2021-10-01 00:00:00</td><td>7.99</td></tr><tr><td>2022-01-01 00:00:00</td><td>7.56</td></tr><tr><td>2022-04-01 00:00:00</td><td>7.67</td></tr><tr><td>2022-07-01 00:00:00</td><td>7.42</td></tr><tr><td>2022-10-01 00:00:00</td><td>9.82</td></tr></tbody></table></div>"
      ],
      "text/plain": [
       "shape: (50, 2)\n",
       "┌─────────────────────┬───────┐\n",
       "│ date                ┆ value │\n",
       "│ ---                 ┆ ---   │\n",
       "│ datetime[ns]        ┆ f64   │\n",
       "╞═════════════════════╪═══════╡\n",
       "│ 2010-07-01 00:00:00 ┆ 5.59  │\n",
       "│ 2010-10-01 00:00:00 ┆ 4.92  │\n",
       "│ 2011-01-01 00:00:00 ┆ 4.8   │\n",
       "│ 2011-04-01 00:00:00 ┆ 4.6   │\n",
       "│ …                   ┆ …     │\n",
       "│ 2022-01-01 00:00:00 ┆ 7.56  │\n",
       "│ 2022-04-01 00:00:00 ┆ 7.67  │\n",
       "│ 2022-07-01 00:00:00 ┆ 7.42  │\n",
       "│ 2022-10-01 00:00:00 ┆ 9.82  │\n",
       "└─────────────────────┴───────┘"
      ]
     },
     "execution_count": 85,
     "metadata": {},
     "output_type": "execute_result"
    }
   ],
   "source": [
    "# group the dataframe by the \"date\" column and a quarter interval\n",
    "pldf.groupby_dynamic(index_column=\"date\", every=\"3mo\").agg(\n",
    "    [pl.mean(\"value\")]\n",
    ")\n"
   ]
  },
  {
   "cell_type": "code",
   "execution_count": 70,
   "metadata": {},
   "outputs": [
    {
     "data": {
      "text/html": [
       "<div><style>\n",
       ".dataframe > thead > tr > th,\n",
       ".dataframe > tbody > tr > td {\n",
       "  text-align: right;\n",
       "}\n",
       "</style>\n",
       "<small>shape: (50, 2)</small><table border=\"1\" class=\"dataframe\"><thead><tr><th>date</th><th>value</th></tr><tr><td>datetime[ns]</td><td>f64</td></tr></thead><tbody><tr><td>2010-09-01 00:00:00</td><td>5.59</td></tr><tr><td>2010-12-01 00:00:00</td><td>4.92</td></tr><tr><td>2011-03-01 00:00:00</td><td>4.8</td></tr><tr><td>2011-06-01 00:00:00</td><td>4.6</td></tr><tr><td>2011-09-01 00:00:00</td><td>3.9</td></tr><tr><td>2011-12-01 00:00:00</td><td>-0.05</td></tr><tr><td>2012-03-01 00:00:00</td><td>-12.75</td></tr><tr><td>2012-06-01 00:00:00</td><td>-24.92</td></tr><tr><td>2012-09-01 00:00:00</td><td>-39.49</td></tr><tr><td>2012-12-01 00:00:00</td><td>2.9</td></tr><tr><td>2013-03-01 00:00:00</td><td>16.15</td></tr><tr><td>2013-06-01 00:00:00</td><td>39.14</td></tr><tr><td>&hellip;</td><td>&hellip;</td></tr><tr><td>2020-03-01 00:00:00</td><td>4.09</td></tr><tr><td>2020-06-01 00:00:00</td><td>5.23</td></tr><tr><td>2020-09-01 00:00:00</td><td>5.72</td></tr><tr><td>2020-12-01 00:00:00</td><td>4.78</td></tr><tr><td>2021-03-01 00:00:00</td><td>6.99</td></tr><tr><td>2021-06-01 00:00:00</td><td>8.28</td></tr><tr><td>2021-09-01 00:00:00</td><td>8.91</td></tr><tr><td>2021-12-01 00:00:00</td><td>7.99</td></tr><tr><td>2022-03-01 00:00:00</td><td>7.56</td></tr><tr><td>2022-06-01 00:00:00</td><td>7.67</td></tr><tr><td>2022-09-01 00:00:00</td><td>7.42</td></tr><tr><td>2022-12-01 00:00:00</td><td>9.82</td></tr></tbody></table></div>"
      ],
      "text/plain": [
       "shape: (50, 2)\n",
       "┌─────────────────────┬───────┐\n",
       "│ date                ┆ value │\n",
       "│ ---                 ┆ ---   │\n",
       "│ datetime[ns]        ┆ f64   │\n",
       "╞═════════════════════╪═══════╡\n",
       "│ 2010-09-01 00:00:00 ┆ 5.59  │\n",
       "│ 2010-12-01 00:00:00 ┆ 4.92  │\n",
       "│ 2011-03-01 00:00:00 ┆ 4.8   │\n",
       "│ 2011-06-01 00:00:00 ┆ 4.6   │\n",
       "│ …                   ┆ …     │\n",
       "│ 2022-03-01 00:00:00 ┆ 7.56  │\n",
       "│ 2022-06-01 00:00:00 ┆ 7.67  │\n",
       "│ 2022-09-01 00:00:00 ┆ 7.42  │\n",
       "│ 2022-12-01 00:00:00 ┆ 9.82  │\n",
       "└─────────────────────┴───────┘"
      ]
     },
     "execution_count": 70,
     "metadata": {},
     "output_type": "execute_result"
    }
   ],
   "source": [
    "pldf"
   ]
  },
  {
   "cell_type": "code",
   "execution_count": 6,
   "metadata": {},
   "outputs": [],
   "source": [
    "from json import load\n",
    "import os\n",
    "\n",
    "with open(\"./ch_data/ticker_list.json\") as fj:\n",
    "    ticker_list = load(fj)\n",
    "\n",
    "filenames = list()\n",
    "for file in os.listdir(\"opm_parqs\"):\n",
    "    filename, _ = os.path.splitext(file)\n",
    "    filenames.append(filename)\n"
   ]
  },
  {
   "cell_type": "code",
   "execution_count": 8,
   "metadata": {},
   "outputs": [
    {
     "data": {
      "text/plain": [
       "16770"
      ]
     },
     "execution_count": 8,
     "metadata": {},
     "output_type": "execute_result"
    }
   ],
   "source": [
    "ticker_list.index(filenames[-1])"
   ]
  },
  {
   "cell_type": "code",
   "execution_count": 6,
   "metadata": {},
   "outputs": [],
   "source": [
    "# with open(\"./ch_data/symbols_table.html\") as fd:\n",
    "#     symbols_html = BeautifulSoup(fd)\n",
    "\n",
    "# with open(\"./ch_data/names_table.html\") as fd:\n",
    "#     names_html = BeautifulSoup(fd)\n",
    "# syms = symbols_html.find_all(\"a\", {\"target\": \"_blank\"})\n",
    "# ych_ticker_list = [s.get_text() for s in syms]\n",
    "# len(ych_ticker_list)\n",
    "# with open(\"./ch_data/ticker_list.json\", \"w\") as fj:\n",
    "#     json.dump(ych_ticker_list, fj)\n"
   ]
  }
 ],
 "metadata": {
  "kernelspec": {
   "display_name": "venv",
   "language": "python",
   "name": "python3"
  },
  "language_info": {
   "codemirror_mode": {
    "name": "ipython",
    "version": 3
   },
   "file_extension": ".py",
   "mimetype": "text/x-python",
   "name": "python",
   "nbconvert_exporter": "python",
   "pygments_lexer": "ipython3",
   "version": "3.11.3"
  },
  "orig_nbformat": 4
 },
 "nbformat": 4,
 "nbformat_minor": 2
}
